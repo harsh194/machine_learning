{
  "nbformat": 4,
  "nbformat_minor": 0,
  "metadata": {
    "colab": {
      "provenance": [],
      "mount_file_id": "10G2-bUNAXDeRrEh-ciG19urfq7vyHbpJ",
      "authorship_tag": "ABX9TyPwrEjqxkHClbQ/gYWQ/NPF",
      "include_colab_link": true
    },
    "kernelspec": {
      "name": "python3",
      "display_name": "Python 3"
    },
    "language_info": {
      "name": "python"
    }
  },
  "cells": [
    {
      "cell_type": "markdown",
      "metadata": {
        "id": "view-in-github",
        "colab_type": "text"
      },
      "source": [
        "<a href=\"https://colab.research.google.com/github/harsh194/machine_learning/blob/main/information_gain.ipynb\" target=\"_parent\"><img src=\"https://colab.research.google.com/assets/colab-badge.svg\" alt=\"Open In Colab\"/></a>"
      ]
    },
    {
      "cell_type": "code",
      "execution_count": 173,
      "metadata": {
        "id": "yVPfBipTHvUL"
      },
      "outputs": [],
      "source": [
        "import os\n",
        "new_directory = '/content/drive/MyDrive/Harsh/Machine Learning/Decision Trees'\n",
        "os.chdir(new_directory)"
      ]
    },
    {
      "cell_type": "code",
      "source": [
        "import numpy as np\n",
        "import pandas as pd\n"
      ],
      "metadata": {
        "id": "sUspNaG7IIVk"
      },
      "execution_count": 174,
      "outputs": []
    },
    {
      "cell_type": "code",
      "source": [
        "df = pd.read_csv('golf_df.csv')"
      ],
      "metadata": {
        "id": "B09tE3uyIP3Q"
      },
      "execution_count": 175,
      "outputs": []
    },
    {
      "cell_type": "code",
      "source": [
        "df.head()"
      ],
      "metadata": {
        "colab": {
          "base_uri": "https://localhost:8080/",
          "height": 206
        },
        "id": "4P_YfMg5IZ1Z",
        "outputId": "624546e6-f667-419f-8685-e4fd5aaad176"
      },
      "execution_count": 176,
      "outputs": [
        {
          "output_type": "execute_result",
          "data": {
            "text/plain": [
              "    Outlook Temperature Humidity  Windy Play\n",
              "0     sunny         hot     high  False   no\n",
              "1     sunny         hot     high   True   no\n",
              "2  overcast         hot     high  False  yes\n",
              "3     rainy        mild     high  False  yes\n",
              "4     rainy        cool   normal  False  yes"
            ],
            "text/html": [
              "\n",
              "  <div id=\"df-9a942474-9008-4120-83c4-95381a330e4d\" class=\"colab-df-container\">\n",
              "    <div>\n",
              "<style scoped>\n",
              "    .dataframe tbody tr th:only-of-type {\n",
              "        vertical-align: middle;\n",
              "    }\n",
              "\n",
              "    .dataframe tbody tr th {\n",
              "        vertical-align: top;\n",
              "    }\n",
              "\n",
              "    .dataframe thead th {\n",
              "        text-align: right;\n",
              "    }\n",
              "</style>\n",
              "<table border=\"1\" class=\"dataframe\">\n",
              "  <thead>\n",
              "    <tr style=\"text-align: right;\">\n",
              "      <th></th>\n",
              "      <th>Outlook</th>\n",
              "      <th>Temperature</th>\n",
              "      <th>Humidity</th>\n",
              "      <th>Windy</th>\n",
              "      <th>Play</th>\n",
              "    </tr>\n",
              "  </thead>\n",
              "  <tbody>\n",
              "    <tr>\n",
              "      <th>0</th>\n",
              "      <td>sunny</td>\n",
              "      <td>hot</td>\n",
              "      <td>high</td>\n",
              "      <td>False</td>\n",
              "      <td>no</td>\n",
              "    </tr>\n",
              "    <tr>\n",
              "      <th>1</th>\n",
              "      <td>sunny</td>\n",
              "      <td>hot</td>\n",
              "      <td>high</td>\n",
              "      <td>True</td>\n",
              "      <td>no</td>\n",
              "    </tr>\n",
              "    <tr>\n",
              "      <th>2</th>\n",
              "      <td>overcast</td>\n",
              "      <td>hot</td>\n",
              "      <td>high</td>\n",
              "      <td>False</td>\n",
              "      <td>yes</td>\n",
              "    </tr>\n",
              "    <tr>\n",
              "      <th>3</th>\n",
              "      <td>rainy</td>\n",
              "      <td>mild</td>\n",
              "      <td>high</td>\n",
              "      <td>False</td>\n",
              "      <td>yes</td>\n",
              "    </tr>\n",
              "    <tr>\n",
              "      <th>4</th>\n",
              "      <td>rainy</td>\n",
              "      <td>cool</td>\n",
              "      <td>normal</td>\n",
              "      <td>False</td>\n",
              "      <td>yes</td>\n",
              "    </tr>\n",
              "  </tbody>\n",
              "</table>\n",
              "</div>\n",
              "    <div class=\"colab-df-buttons\">\n",
              "\n",
              "  <div class=\"colab-df-container\">\n",
              "    <button class=\"colab-df-convert\" onclick=\"convertToInteractive('df-9a942474-9008-4120-83c4-95381a330e4d')\"\n",
              "            title=\"Convert this dataframe to an interactive table.\"\n",
              "            style=\"display:none;\">\n",
              "\n",
              "  <svg xmlns=\"http://www.w3.org/2000/svg\" height=\"24px\" viewBox=\"0 -960 960 960\">\n",
              "    <path d=\"M120-120v-720h720v720H120Zm60-500h600v-160H180v160Zm220 220h160v-160H400v160Zm0 220h160v-160H400v160ZM180-400h160v-160H180v160Zm440 0h160v-160H620v160ZM180-180h160v-160H180v160Zm440 0h160v-160H620v160Z\"/>\n",
              "  </svg>\n",
              "    </button>\n",
              "\n",
              "  <style>\n",
              "    .colab-df-container {\n",
              "      display:flex;\n",
              "      gap: 12px;\n",
              "    }\n",
              "\n",
              "    .colab-df-convert {\n",
              "      background-color: #E8F0FE;\n",
              "      border: none;\n",
              "      border-radius: 50%;\n",
              "      cursor: pointer;\n",
              "      display: none;\n",
              "      fill: #1967D2;\n",
              "      height: 32px;\n",
              "      padding: 0 0 0 0;\n",
              "      width: 32px;\n",
              "    }\n",
              "\n",
              "    .colab-df-convert:hover {\n",
              "      background-color: #E2EBFA;\n",
              "      box-shadow: 0px 1px 2px rgba(60, 64, 67, 0.3), 0px 1px 3px 1px rgba(60, 64, 67, 0.15);\n",
              "      fill: #174EA6;\n",
              "    }\n",
              "\n",
              "    .colab-df-buttons div {\n",
              "      margin-bottom: 4px;\n",
              "    }\n",
              "\n",
              "    [theme=dark] .colab-df-convert {\n",
              "      background-color: #3B4455;\n",
              "      fill: #D2E3FC;\n",
              "    }\n",
              "\n",
              "    [theme=dark] .colab-df-convert:hover {\n",
              "      background-color: #434B5C;\n",
              "      box-shadow: 0px 1px 3px 1px rgba(0, 0, 0, 0.15);\n",
              "      filter: drop-shadow(0px 1px 2px rgba(0, 0, 0, 0.3));\n",
              "      fill: #FFFFFF;\n",
              "    }\n",
              "  </style>\n",
              "\n",
              "    <script>\n",
              "      const buttonEl =\n",
              "        document.querySelector('#df-9a942474-9008-4120-83c4-95381a330e4d button.colab-df-convert');\n",
              "      buttonEl.style.display =\n",
              "        google.colab.kernel.accessAllowed ? 'block' : 'none';\n",
              "\n",
              "      async function convertToInteractive(key) {\n",
              "        const element = document.querySelector('#df-9a942474-9008-4120-83c4-95381a330e4d');\n",
              "        const dataTable =\n",
              "          await google.colab.kernel.invokeFunction('convertToInteractive',\n",
              "                                                    [key], {});\n",
              "        if (!dataTable) return;\n",
              "\n",
              "        const docLinkHtml = 'Like what you see? Visit the ' +\n",
              "          '<a target=\"_blank\" href=https://colab.research.google.com/notebooks/data_table.ipynb>data table notebook</a>'\n",
              "          + ' to learn more about interactive tables.';\n",
              "        element.innerHTML = '';\n",
              "        dataTable['output_type'] = 'display_data';\n",
              "        await google.colab.output.renderOutput(dataTable, element);\n",
              "        const docLink = document.createElement('div');\n",
              "        docLink.innerHTML = docLinkHtml;\n",
              "        element.appendChild(docLink);\n",
              "      }\n",
              "    </script>\n",
              "  </div>\n",
              "\n",
              "\n",
              "<div id=\"df-3bc1ca3b-d70d-4bb8-bd6b-83308c991785\">\n",
              "  <button class=\"colab-df-quickchart\" onclick=\"quickchart('df-3bc1ca3b-d70d-4bb8-bd6b-83308c991785')\"\n",
              "            title=\"Suggest charts.\"\n",
              "            style=\"display:none;\">\n",
              "\n",
              "<svg xmlns=\"http://www.w3.org/2000/svg\" height=\"24px\"viewBox=\"0 0 24 24\"\n",
              "     width=\"24px\">\n",
              "    <g>\n",
              "        <path d=\"M19 3H5c-1.1 0-2 .9-2 2v14c0 1.1.9 2 2 2h14c1.1 0 2-.9 2-2V5c0-1.1-.9-2-2-2zM9 17H7v-7h2v7zm4 0h-2V7h2v10zm4 0h-2v-4h2v4z\"/>\n",
              "    </g>\n",
              "</svg>\n",
              "  </button>\n",
              "\n",
              "<style>\n",
              "  .colab-df-quickchart {\n",
              "      --bg-color: #E8F0FE;\n",
              "      --fill-color: #1967D2;\n",
              "      --hover-bg-color: #E2EBFA;\n",
              "      --hover-fill-color: #174EA6;\n",
              "      --disabled-fill-color: #AAA;\n",
              "      --disabled-bg-color: #DDD;\n",
              "  }\n",
              "\n",
              "  [theme=dark] .colab-df-quickchart {\n",
              "      --bg-color: #3B4455;\n",
              "      --fill-color: #D2E3FC;\n",
              "      --hover-bg-color: #434B5C;\n",
              "      --hover-fill-color: #FFFFFF;\n",
              "      --disabled-bg-color: #3B4455;\n",
              "      --disabled-fill-color: #666;\n",
              "  }\n",
              "\n",
              "  .colab-df-quickchart {\n",
              "    background-color: var(--bg-color);\n",
              "    border: none;\n",
              "    border-radius: 50%;\n",
              "    cursor: pointer;\n",
              "    display: none;\n",
              "    fill: var(--fill-color);\n",
              "    height: 32px;\n",
              "    padding: 0;\n",
              "    width: 32px;\n",
              "  }\n",
              "\n",
              "  .colab-df-quickchart:hover {\n",
              "    background-color: var(--hover-bg-color);\n",
              "    box-shadow: 0 1px 2px rgba(60, 64, 67, 0.3), 0 1px 3px 1px rgba(60, 64, 67, 0.15);\n",
              "    fill: var(--button-hover-fill-color);\n",
              "  }\n",
              "\n",
              "  .colab-df-quickchart-complete:disabled,\n",
              "  .colab-df-quickchart-complete:disabled:hover {\n",
              "    background-color: var(--disabled-bg-color);\n",
              "    fill: var(--disabled-fill-color);\n",
              "    box-shadow: none;\n",
              "  }\n",
              "\n",
              "  .colab-df-spinner {\n",
              "    border: 2px solid var(--fill-color);\n",
              "    border-color: transparent;\n",
              "    border-bottom-color: var(--fill-color);\n",
              "    animation:\n",
              "      spin 1s steps(1) infinite;\n",
              "  }\n",
              "\n",
              "  @keyframes spin {\n",
              "    0% {\n",
              "      border-color: transparent;\n",
              "      border-bottom-color: var(--fill-color);\n",
              "      border-left-color: var(--fill-color);\n",
              "    }\n",
              "    20% {\n",
              "      border-color: transparent;\n",
              "      border-left-color: var(--fill-color);\n",
              "      border-top-color: var(--fill-color);\n",
              "    }\n",
              "    30% {\n",
              "      border-color: transparent;\n",
              "      border-left-color: var(--fill-color);\n",
              "      border-top-color: var(--fill-color);\n",
              "      border-right-color: var(--fill-color);\n",
              "    }\n",
              "    40% {\n",
              "      border-color: transparent;\n",
              "      border-right-color: var(--fill-color);\n",
              "      border-top-color: var(--fill-color);\n",
              "    }\n",
              "    60% {\n",
              "      border-color: transparent;\n",
              "      border-right-color: var(--fill-color);\n",
              "    }\n",
              "    80% {\n",
              "      border-color: transparent;\n",
              "      border-right-color: var(--fill-color);\n",
              "      border-bottom-color: var(--fill-color);\n",
              "    }\n",
              "    90% {\n",
              "      border-color: transparent;\n",
              "      border-bottom-color: var(--fill-color);\n",
              "    }\n",
              "  }\n",
              "</style>\n",
              "\n",
              "  <script>\n",
              "    async function quickchart(key) {\n",
              "      const quickchartButtonEl =\n",
              "        document.querySelector('#' + key + ' button');\n",
              "      quickchartButtonEl.disabled = true;  // To prevent multiple clicks.\n",
              "      quickchartButtonEl.classList.add('colab-df-spinner');\n",
              "      try {\n",
              "        const charts = await google.colab.kernel.invokeFunction(\n",
              "            'suggestCharts', [key], {});\n",
              "      } catch (error) {\n",
              "        console.error('Error during call to suggestCharts:', error);\n",
              "      }\n",
              "      quickchartButtonEl.classList.remove('colab-df-spinner');\n",
              "      quickchartButtonEl.classList.add('colab-df-quickchart-complete');\n",
              "    }\n",
              "    (() => {\n",
              "      let quickchartButtonEl =\n",
              "        document.querySelector('#df-3bc1ca3b-d70d-4bb8-bd6b-83308c991785 button');\n",
              "      quickchartButtonEl.style.display =\n",
              "        google.colab.kernel.accessAllowed ? 'block' : 'none';\n",
              "    })();\n",
              "  </script>\n",
              "</div>\n",
              "    </div>\n",
              "  </div>\n"
            ]
          },
          "metadata": {},
          "execution_count": 176
        }
      ]
    },
    {
      "cell_type": "code",
      "source": [
        "df.shape"
      ],
      "metadata": {
        "colab": {
          "base_uri": "https://localhost:8080/"
        },
        "id": "KsXOb-rUIbKE",
        "outputId": "86c4375a-30aa-4da5-8beb-71d5a562bca0"
      },
      "execution_count": 177,
      "outputs": [
        {
          "output_type": "execute_result",
          "data": {
            "text/plain": [
              "(14, 5)"
            ]
          },
          "metadata": {},
          "execution_count": 177
        }
      ]
    },
    {
      "cell_type": "code",
      "source": [
        "def divide_data(data, feature):\n",
        "    # here we are working with data frames\n",
        "    DATA = {}\n",
        "\n",
        "    feat_values = list(data[feature].value_counts().index)\n",
        "    occurence = list(data[feature].value_counts())\n",
        "\n",
        "    for val in feat_values:\n",
        "        DATA[val] = {'data' : pd.DataFrame([], columns = data.columns), 'len' :0}\n",
        "\n",
        "    for ix in range(data.shape[0]):\n",
        "        val = data[feature].iloc[ix]\n",
        "        DATA[val]['data'] = DATA[val]['data'].append(data.iloc[ix])\n",
        "        idx = feat_values.index(val)\n",
        "        DATA[val]['len'] = occurence[idx]\n",
        "\n",
        "    return DATA"
      ],
      "metadata": {
        "id": "fnsaok-zIcx5"
      },
      "execution_count": 178,
      "outputs": []
    },
    {
      "cell_type": "code",
      "source": [
        "divide_data(df, 'Outlook')"
      ],
      "metadata": {
        "colab": {
          "base_uri": "https://localhost:8080/"
        },
        "id": "cTTsa5zAxF_s",
        "outputId": "70eab6f1-1d2a-4e8f-b2c4-1620409ff487"
      },
      "execution_count": 179,
      "outputs": [
        {
          "output_type": "stream",
          "name": "stderr",
          "text": [
            "<ipython-input-178-4bf2de84ae7f>:13: FutureWarning: The frame.append method is deprecated and will be removed from pandas in a future version. Use pandas.concat instead.\n",
            "  DATA[val]['data'] = DATA[val]['data'].append(data.iloc[ix])\n",
            "<ipython-input-178-4bf2de84ae7f>:13: FutureWarning: The frame.append method is deprecated and will be removed from pandas in a future version. Use pandas.concat instead.\n",
            "  DATA[val]['data'] = DATA[val]['data'].append(data.iloc[ix])\n",
            "<ipython-input-178-4bf2de84ae7f>:13: FutureWarning: In a future version, object-dtype columns with all-bool values will not be included in reductions with bool_only=True. Explicitly cast to bool dtype instead.\n",
            "  DATA[val]['data'] = DATA[val]['data'].append(data.iloc[ix])\n",
            "<ipython-input-178-4bf2de84ae7f>:13: FutureWarning: The frame.append method is deprecated and will be removed from pandas in a future version. Use pandas.concat instead.\n",
            "  DATA[val]['data'] = DATA[val]['data'].append(data.iloc[ix])\n",
            "<ipython-input-178-4bf2de84ae7f>:13: FutureWarning: The frame.append method is deprecated and will be removed from pandas in a future version. Use pandas.concat instead.\n",
            "  DATA[val]['data'] = DATA[val]['data'].append(data.iloc[ix])\n",
            "<ipython-input-178-4bf2de84ae7f>:13: FutureWarning: The frame.append method is deprecated and will be removed from pandas in a future version. Use pandas.concat instead.\n",
            "  DATA[val]['data'] = DATA[val]['data'].append(data.iloc[ix])\n",
            "<ipython-input-178-4bf2de84ae7f>:13: FutureWarning: In a future version, object-dtype columns with all-bool values will not be included in reductions with bool_only=True. Explicitly cast to bool dtype instead.\n",
            "  DATA[val]['data'] = DATA[val]['data'].append(data.iloc[ix])\n",
            "<ipython-input-178-4bf2de84ae7f>:13: FutureWarning: The frame.append method is deprecated and will be removed from pandas in a future version. Use pandas.concat instead.\n",
            "  DATA[val]['data'] = DATA[val]['data'].append(data.iloc[ix])\n",
            "<ipython-input-178-4bf2de84ae7f>:13: FutureWarning: In a future version, object-dtype columns with all-bool values will not be included in reductions with bool_only=True. Explicitly cast to bool dtype instead.\n",
            "  DATA[val]['data'] = DATA[val]['data'].append(data.iloc[ix])\n",
            "<ipython-input-178-4bf2de84ae7f>:13: FutureWarning: The frame.append method is deprecated and will be removed from pandas in a future version. Use pandas.concat instead.\n",
            "  DATA[val]['data'] = DATA[val]['data'].append(data.iloc[ix])\n",
            "<ipython-input-178-4bf2de84ae7f>:13: FutureWarning: In a future version, object-dtype columns with all-bool values will not be included in reductions with bool_only=True. Explicitly cast to bool dtype instead.\n",
            "  DATA[val]['data'] = DATA[val]['data'].append(data.iloc[ix])\n",
            "<ipython-input-178-4bf2de84ae7f>:13: FutureWarning: The frame.append method is deprecated and will be removed from pandas in a future version. Use pandas.concat instead.\n",
            "  DATA[val]['data'] = DATA[val]['data'].append(data.iloc[ix])\n",
            "<ipython-input-178-4bf2de84ae7f>:13: FutureWarning: In a future version, object-dtype columns with all-bool values will not be included in reductions with bool_only=True. Explicitly cast to bool dtype instead.\n",
            "  DATA[val]['data'] = DATA[val]['data'].append(data.iloc[ix])\n",
            "<ipython-input-178-4bf2de84ae7f>:13: FutureWarning: The frame.append method is deprecated and will be removed from pandas in a future version. Use pandas.concat instead.\n",
            "  DATA[val]['data'] = DATA[val]['data'].append(data.iloc[ix])\n",
            "<ipython-input-178-4bf2de84ae7f>:13: FutureWarning: In a future version, object-dtype columns with all-bool values will not be included in reductions with bool_only=True. Explicitly cast to bool dtype instead.\n",
            "  DATA[val]['data'] = DATA[val]['data'].append(data.iloc[ix])\n",
            "<ipython-input-178-4bf2de84ae7f>:13: FutureWarning: The frame.append method is deprecated and will be removed from pandas in a future version. Use pandas.concat instead.\n",
            "  DATA[val]['data'] = DATA[val]['data'].append(data.iloc[ix])\n",
            "<ipython-input-178-4bf2de84ae7f>:13: FutureWarning: In a future version, object-dtype columns with all-bool values will not be included in reductions with bool_only=True. Explicitly cast to bool dtype instead.\n",
            "  DATA[val]['data'] = DATA[val]['data'].append(data.iloc[ix])\n",
            "<ipython-input-178-4bf2de84ae7f>:13: FutureWarning: The frame.append method is deprecated and will be removed from pandas in a future version. Use pandas.concat instead.\n",
            "  DATA[val]['data'] = DATA[val]['data'].append(data.iloc[ix])\n",
            "<ipython-input-178-4bf2de84ae7f>:13: FutureWarning: In a future version, object-dtype columns with all-bool values will not be included in reductions with bool_only=True. Explicitly cast to bool dtype instead.\n",
            "  DATA[val]['data'] = DATA[val]['data'].append(data.iloc[ix])\n",
            "<ipython-input-178-4bf2de84ae7f>:13: FutureWarning: The frame.append method is deprecated and will be removed from pandas in a future version. Use pandas.concat instead.\n",
            "  DATA[val]['data'] = DATA[val]['data'].append(data.iloc[ix])\n",
            "<ipython-input-178-4bf2de84ae7f>:13: FutureWarning: In a future version, object-dtype columns with all-bool values will not be included in reductions with bool_only=True. Explicitly cast to bool dtype instead.\n",
            "  DATA[val]['data'] = DATA[val]['data'].append(data.iloc[ix])\n",
            "<ipython-input-178-4bf2de84ae7f>:13: FutureWarning: The frame.append method is deprecated and will be removed from pandas in a future version. Use pandas.concat instead.\n",
            "  DATA[val]['data'] = DATA[val]['data'].append(data.iloc[ix])\n",
            "<ipython-input-178-4bf2de84ae7f>:13: FutureWarning: In a future version, object-dtype columns with all-bool values will not be included in reductions with bool_only=True. Explicitly cast to bool dtype instead.\n",
            "  DATA[val]['data'] = DATA[val]['data'].append(data.iloc[ix])\n",
            "<ipython-input-178-4bf2de84ae7f>:13: FutureWarning: The frame.append method is deprecated and will be removed from pandas in a future version. Use pandas.concat instead.\n",
            "  DATA[val]['data'] = DATA[val]['data'].append(data.iloc[ix])\n",
            "<ipython-input-178-4bf2de84ae7f>:13: FutureWarning: In a future version, object-dtype columns with all-bool values will not be included in reductions with bool_only=True. Explicitly cast to bool dtype instead.\n",
            "  DATA[val]['data'] = DATA[val]['data'].append(data.iloc[ix])\n"
          ]
        },
        {
          "output_type": "execute_result",
          "data": {
            "text/plain": [
              "{'sunny': {'data':    Outlook Temperature Humidity  Windy Play\n",
              "  0    sunny         hot     high  False   no\n",
              "  1    sunny         hot     high   True   no\n",
              "  7    sunny        mild     high  False   no\n",
              "  8    sunny        cool   normal  False  yes\n",
              "  10   sunny        mild   normal   True  yes,\n",
              "  'len': 5},\n",
              " 'rainy': {'data':    Outlook Temperature Humidity  Windy Play\n",
              "  3    rainy        mild     high  False  yes\n",
              "  4    rainy        cool   normal  False  yes\n",
              "  5    rainy        cool   normal   True   no\n",
              "  9    rainy        mild   normal  False  yes\n",
              "  13   rainy        mild     high   True   no,\n",
              "  'len': 5},\n",
              " 'overcast': {'data':      Outlook Temperature Humidity  Windy Play\n",
              "  2   overcast         hot     high  False  yes\n",
              "  6   overcast        cool   normal   True  yes\n",
              "  11  overcast        mild     high   True  yes\n",
              "  12  overcast         hot   normal  False  yes,\n",
              "  'len': 4}}"
            ]
          },
          "metadata": {},
          "execution_count": 179
        }
      ]
    },
    {
      "cell_type": "code",
      "source": [
        "feat_values = list(df['Outlook'].value_counts().index)\n",
        "feat_values"
      ],
      "metadata": {
        "colab": {
          "base_uri": "https://localhost:8080/"
        },
        "id": "bojpbWOIU-kd",
        "outputId": "8b286cc0-f735-411c-cb87-b78ca5e91b76"
      },
      "execution_count": 180,
      "outputs": [
        {
          "output_type": "execute_result",
          "data": {
            "text/plain": [
              "['sunny', 'rainy', 'overcast']"
            ]
          },
          "metadata": {},
          "execution_count": 180
        }
      ]
    },
    {
      "cell_type": "code",
      "source": [
        "occurence = list(df['Outlook'].value_counts())\n",
        "occurence"
      ],
      "metadata": {
        "colab": {
          "base_uri": "https://localhost:8080/"
        },
        "id": "Zjd2oBuJVIPF",
        "outputId": "dcbf6164-eb71-4c84-ab3f-4dfb8c9c988b"
      },
      "execution_count": 181,
      "outputs": [
        {
          "output_type": "execute_result",
          "data": {
            "text/plain": [
              "[5, 5, 4]"
            ]
          },
          "metadata": {},
          "execution_count": 181
        }
      ]
    },
    {
      "cell_type": "code",
      "source": [
        "{'df' : pd.DataFrame([], columns = df.columns), 'len' :0}"
      ],
      "metadata": {
        "colab": {
          "base_uri": "https://localhost:8080/"
        },
        "id": "EaFT-GsuVb8E",
        "outputId": "7fa673f5-3d3f-40c7-9dd3-ce79078c7af4"
      },
      "execution_count": 182,
      "outputs": [
        {
          "output_type": "execute_result",
          "data": {
            "text/plain": [
              "{'df': Empty DataFrame\n",
              " Columns: [Outlook, Temperature, Humidity, Windy, Play]\n",
              " Index: [],\n",
              " 'len': 0}"
            ]
          },
          "metadata": {},
          "execution_count": 182
        }
      ]
    },
    {
      "cell_type": "code",
      "source": [
        "val = df['Outlook']"
      ],
      "metadata": {
        "id": "VipzH4wgkKOI"
      },
      "execution_count": 183,
      "outputs": []
    },
    {
      "cell_type": "code",
      "source": [
        "val"
      ],
      "metadata": {
        "colab": {
          "base_uri": "https://localhost:8080/"
        },
        "id": "rCFfCUmZkQHf",
        "outputId": "fb22b70f-a2cc-4b02-ff39-3c8fc372e8c9"
      },
      "execution_count": 184,
      "outputs": [
        {
          "output_type": "execute_result",
          "data": {
            "text/plain": [
              "0        sunny\n",
              "1        sunny\n",
              "2     overcast\n",
              "3        rainy\n",
              "4        rainy\n",
              "5        rainy\n",
              "6     overcast\n",
              "7        sunny\n",
              "8        sunny\n",
              "9        rainy\n",
              "10       sunny\n",
              "11    overcast\n",
              "12    overcast\n",
              "13       rainy\n",
              "Name: Outlook, dtype: object"
            ]
          },
          "metadata": {},
          "execution_count": 184
        }
      ]
    },
    {
      "cell_type": "code",
      "source": [
        "val = df['Outlook'].iloc[3]"
      ],
      "metadata": {
        "id": "S7HPTz-giffl"
      },
      "execution_count": 185,
      "outputs": []
    },
    {
      "cell_type": "code",
      "source": [
        "val"
      ],
      "metadata": {
        "colab": {
          "base_uri": "https://localhost:8080/",
          "height": 35
        },
        "id": "gM5lhVuviwiY",
        "outputId": "cf849f3e-34df-46d2-a463-e23874fb3a95"
      },
      "execution_count": 186,
      "outputs": [
        {
          "output_type": "execute_result",
          "data": {
            "text/plain": [
              "'rainy'"
            ],
            "application/vnd.google.colaboratory.intrinsic+json": {
              "type": "string"
            }
          },
          "metadata": {},
          "execution_count": 186
        }
      ]
    },
    {
      "cell_type": "code",
      "source": [
        "divide_data(df, 'Outlook')"
      ],
      "metadata": {
        "colab": {
          "base_uri": "https://localhost:8080/"
        },
        "id": "DrisYL4VJmuR",
        "outputId": "72120d5a-0a9c-4237-ca07-3495a7f25476"
      },
      "execution_count": 187,
      "outputs": [
        {
          "output_type": "stream",
          "name": "stderr",
          "text": [
            "<ipython-input-178-4bf2de84ae7f>:13: FutureWarning: The frame.append method is deprecated and will be removed from pandas in a future version. Use pandas.concat instead.\n",
            "  DATA[val]['data'] = DATA[val]['data'].append(data.iloc[ix])\n",
            "<ipython-input-178-4bf2de84ae7f>:13: FutureWarning: The frame.append method is deprecated and will be removed from pandas in a future version. Use pandas.concat instead.\n",
            "  DATA[val]['data'] = DATA[val]['data'].append(data.iloc[ix])\n",
            "<ipython-input-178-4bf2de84ae7f>:13: FutureWarning: In a future version, object-dtype columns with all-bool values will not be included in reductions with bool_only=True. Explicitly cast to bool dtype instead.\n",
            "  DATA[val]['data'] = DATA[val]['data'].append(data.iloc[ix])\n",
            "<ipython-input-178-4bf2de84ae7f>:13: FutureWarning: The frame.append method is deprecated and will be removed from pandas in a future version. Use pandas.concat instead.\n",
            "  DATA[val]['data'] = DATA[val]['data'].append(data.iloc[ix])\n",
            "<ipython-input-178-4bf2de84ae7f>:13: FutureWarning: The frame.append method is deprecated and will be removed from pandas in a future version. Use pandas.concat instead.\n",
            "  DATA[val]['data'] = DATA[val]['data'].append(data.iloc[ix])\n",
            "<ipython-input-178-4bf2de84ae7f>:13: FutureWarning: The frame.append method is deprecated and will be removed from pandas in a future version. Use pandas.concat instead.\n",
            "  DATA[val]['data'] = DATA[val]['data'].append(data.iloc[ix])\n",
            "<ipython-input-178-4bf2de84ae7f>:13: FutureWarning: In a future version, object-dtype columns with all-bool values will not be included in reductions with bool_only=True. Explicitly cast to bool dtype instead.\n",
            "  DATA[val]['data'] = DATA[val]['data'].append(data.iloc[ix])\n",
            "<ipython-input-178-4bf2de84ae7f>:13: FutureWarning: The frame.append method is deprecated and will be removed from pandas in a future version. Use pandas.concat instead.\n",
            "  DATA[val]['data'] = DATA[val]['data'].append(data.iloc[ix])\n",
            "<ipython-input-178-4bf2de84ae7f>:13: FutureWarning: In a future version, object-dtype columns with all-bool values will not be included in reductions with bool_only=True. Explicitly cast to bool dtype instead.\n",
            "  DATA[val]['data'] = DATA[val]['data'].append(data.iloc[ix])\n",
            "<ipython-input-178-4bf2de84ae7f>:13: FutureWarning: The frame.append method is deprecated and will be removed from pandas in a future version. Use pandas.concat instead.\n",
            "  DATA[val]['data'] = DATA[val]['data'].append(data.iloc[ix])\n",
            "<ipython-input-178-4bf2de84ae7f>:13: FutureWarning: In a future version, object-dtype columns with all-bool values will not be included in reductions with bool_only=True. Explicitly cast to bool dtype instead.\n",
            "  DATA[val]['data'] = DATA[val]['data'].append(data.iloc[ix])\n",
            "<ipython-input-178-4bf2de84ae7f>:13: FutureWarning: The frame.append method is deprecated and will be removed from pandas in a future version. Use pandas.concat instead.\n",
            "  DATA[val]['data'] = DATA[val]['data'].append(data.iloc[ix])\n",
            "<ipython-input-178-4bf2de84ae7f>:13: FutureWarning: In a future version, object-dtype columns with all-bool values will not be included in reductions with bool_only=True. Explicitly cast to bool dtype instead.\n",
            "  DATA[val]['data'] = DATA[val]['data'].append(data.iloc[ix])\n",
            "<ipython-input-178-4bf2de84ae7f>:13: FutureWarning: The frame.append method is deprecated and will be removed from pandas in a future version. Use pandas.concat instead.\n",
            "  DATA[val]['data'] = DATA[val]['data'].append(data.iloc[ix])\n",
            "<ipython-input-178-4bf2de84ae7f>:13: FutureWarning: In a future version, object-dtype columns with all-bool values will not be included in reductions with bool_only=True. Explicitly cast to bool dtype instead.\n",
            "  DATA[val]['data'] = DATA[val]['data'].append(data.iloc[ix])\n",
            "<ipython-input-178-4bf2de84ae7f>:13: FutureWarning: The frame.append method is deprecated and will be removed from pandas in a future version. Use pandas.concat instead.\n",
            "  DATA[val]['data'] = DATA[val]['data'].append(data.iloc[ix])\n",
            "<ipython-input-178-4bf2de84ae7f>:13: FutureWarning: In a future version, object-dtype columns with all-bool values will not be included in reductions with bool_only=True. Explicitly cast to bool dtype instead.\n",
            "  DATA[val]['data'] = DATA[val]['data'].append(data.iloc[ix])\n",
            "<ipython-input-178-4bf2de84ae7f>:13: FutureWarning: The frame.append method is deprecated and will be removed from pandas in a future version. Use pandas.concat instead.\n",
            "  DATA[val]['data'] = DATA[val]['data'].append(data.iloc[ix])\n",
            "<ipython-input-178-4bf2de84ae7f>:13: FutureWarning: In a future version, object-dtype columns with all-bool values will not be included in reductions with bool_only=True. Explicitly cast to bool dtype instead.\n",
            "  DATA[val]['data'] = DATA[val]['data'].append(data.iloc[ix])\n",
            "<ipython-input-178-4bf2de84ae7f>:13: FutureWarning: The frame.append method is deprecated and will be removed from pandas in a future version. Use pandas.concat instead.\n",
            "  DATA[val]['data'] = DATA[val]['data'].append(data.iloc[ix])\n",
            "<ipython-input-178-4bf2de84ae7f>:13: FutureWarning: In a future version, object-dtype columns with all-bool values will not be included in reductions with bool_only=True. Explicitly cast to bool dtype instead.\n",
            "  DATA[val]['data'] = DATA[val]['data'].append(data.iloc[ix])\n",
            "<ipython-input-178-4bf2de84ae7f>:13: FutureWarning: The frame.append method is deprecated and will be removed from pandas in a future version. Use pandas.concat instead.\n",
            "  DATA[val]['data'] = DATA[val]['data'].append(data.iloc[ix])\n",
            "<ipython-input-178-4bf2de84ae7f>:13: FutureWarning: In a future version, object-dtype columns with all-bool values will not be included in reductions with bool_only=True. Explicitly cast to bool dtype instead.\n",
            "  DATA[val]['data'] = DATA[val]['data'].append(data.iloc[ix])\n",
            "<ipython-input-178-4bf2de84ae7f>:13: FutureWarning: The frame.append method is deprecated and will be removed from pandas in a future version. Use pandas.concat instead.\n",
            "  DATA[val]['data'] = DATA[val]['data'].append(data.iloc[ix])\n",
            "<ipython-input-178-4bf2de84ae7f>:13: FutureWarning: In a future version, object-dtype columns with all-bool values will not be included in reductions with bool_only=True. Explicitly cast to bool dtype instead.\n",
            "  DATA[val]['data'] = DATA[val]['data'].append(data.iloc[ix])\n"
          ]
        },
        {
          "output_type": "execute_result",
          "data": {
            "text/plain": [
              "{'sunny': {'data':    Outlook Temperature Humidity  Windy Play\n",
              "  0    sunny         hot     high  False   no\n",
              "  1    sunny         hot     high   True   no\n",
              "  7    sunny        mild     high  False   no\n",
              "  8    sunny        cool   normal  False  yes\n",
              "  10   sunny        mild   normal   True  yes,\n",
              "  'len': 5},\n",
              " 'rainy': {'data':    Outlook Temperature Humidity  Windy Play\n",
              "  3    rainy        mild     high  False  yes\n",
              "  4    rainy        cool   normal  False  yes\n",
              "  5    rainy        cool   normal   True   no\n",
              "  9    rainy        mild   normal  False  yes\n",
              "  13   rainy        mild     high   True   no,\n",
              "  'len': 5},\n",
              " 'overcast': {'data':      Outlook Temperature Humidity  Windy Play\n",
              "  2   overcast         hot     high  False  yes\n",
              "  6   overcast        cool   normal   True  yes\n",
              "  11  overcast        mild     high   True  yes\n",
              "  12  overcast         hot   normal  False  yes,\n",
              "  'len': 4}}"
            ]
          },
          "metadata": {},
          "execution_count": 187
        }
      ]
    },
    {
      "cell_type": "code",
      "source": [
        "def entropy(var):\n",
        "    N = var.shape[0]\n",
        "    values, counts = np.unique(var, return_counts=True)\n",
        "\n",
        "    ent = 0.0\n",
        "    for i in counts:\n",
        "        p = i/N\n",
        "        ent += (p * np.log2(p))\n",
        "\n",
        "    return -ent"
      ],
      "metadata": {
        "id": "5LX7arYjOyes"
      },
      "execution_count": 188,
      "outputs": []
    },
    {
      "cell_type": "code",
      "source": [
        "information_gain(df, 'Outlook')"
      ],
      "metadata": {
        "colab": {
          "base_uri": "https://localhost:8080/"
        },
        "id": "ORpF2mYLNnZu",
        "outputId": "3822f39d-4508-472a-9a08-cced21db5508"
      },
      "execution_count": 189,
      "outputs": [
        {
          "output_type": "stream",
          "name": "stderr",
          "text": [
            "<ipython-input-178-4bf2de84ae7f>:13: FutureWarning: The frame.append method is deprecated and will be removed from pandas in a future version. Use pandas.concat instead.\n",
            "  DATA[val]['data'] = DATA[val]['data'].append(data.iloc[ix])\n",
            "<ipython-input-178-4bf2de84ae7f>:13: FutureWarning: The frame.append method is deprecated and will be removed from pandas in a future version. Use pandas.concat instead.\n",
            "  DATA[val]['data'] = DATA[val]['data'].append(data.iloc[ix])\n",
            "<ipython-input-178-4bf2de84ae7f>:13: FutureWarning: In a future version, object-dtype columns with all-bool values will not be included in reductions with bool_only=True. Explicitly cast to bool dtype instead.\n",
            "  DATA[val]['data'] = DATA[val]['data'].append(data.iloc[ix])\n",
            "<ipython-input-178-4bf2de84ae7f>:13: FutureWarning: The frame.append method is deprecated and will be removed from pandas in a future version. Use pandas.concat instead.\n",
            "  DATA[val]['data'] = DATA[val]['data'].append(data.iloc[ix])\n",
            "<ipython-input-178-4bf2de84ae7f>:13: FutureWarning: The frame.append method is deprecated and will be removed from pandas in a future version. Use pandas.concat instead.\n",
            "  DATA[val]['data'] = DATA[val]['data'].append(data.iloc[ix])\n",
            "<ipython-input-178-4bf2de84ae7f>:13: FutureWarning: The frame.append method is deprecated and will be removed from pandas in a future version. Use pandas.concat instead.\n",
            "  DATA[val]['data'] = DATA[val]['data'].append(data.iloc[ix])\n",
            "<ipython-input-178-4bf2de84ae7f>:13: FutureWarning: In a future version, object-dtype columns with all-bool values will not be included in reductions with bool_only=True. Explicitly cast to bool dtype instead.\n",
            "  DATA[val]['data'] = DATA[val]['data'].append(data.iloc[ix])\n",
            "<ipython-input-178-4bf2de84ae7f>:13: FutureWarning: The frame.append method is deprecated and will be removed from pandas in a future version. Use pandas.concat instead.\n",
            "  DATA[val]['data'] = DATA[val]['data'].append(data.iloc[ix])\n",
            "<ipython-input-178-4bf2de84ae7f>:13: FutureWarning: In a future version, object-dtype columns with all-bool values will not be included in reductions with bool_only=True. Explicitly cast to bool dtype instead.\n",
            "  DATA[val]['data'] = DATA[val]['data'].append(data.iloc[ix])\n",
            "<ipython-input-178-4bf2de84ae7f>:13: FutureWarning: The frame.append method is deprecated and will be removed from pandas in a future version. Use pandas.concat instead.\n",
            "  DATA[val]['data'] = DATA[val]['data'].append(data.iloc[ix])\n",
            "<ipython-input-178-4bf2de84ae7f>:13: FutureWarning: In a future version, object-dtype columns with all-bool values will not be included in reductions with bool_only=True. Explicitly cast to bool dtype instead.\n",
            "  DATA[val]['data'] = DATA[val]['data'].append(data.iloc[ix])\n",
            "<ipython-input-178-4bf2de84ae7f>:13: FutureWarning: The frame.append method is deprecated and will be removed from pandas in a future version. Use pandas.concat instead.\n",
            "  DATA[val]['data'] = DATA[val]['data'].append(data.iloc[ix])\n",
            "<ipython-input-178-4bf2de84ae7f>:13: FutureWarning: In a future version, object-dtype columns with all-bool values will not be included in reductions with bool_only=True. Explicitly cast to bool dtype instead.\n",
            "  DATA[val]['data'] = DATA[val]['data'].append(data.iloc[ix])\n",
            "<ipython-input-178-4bf2de84ae7f>:13: FutureWarning: The frame.append method is deprecated and will be removed from pandas in a future version. Use pandas.concat instead.\n",
            "  DATA[val]['data'] = DATA[val]['data'].append(data.iloc[ix])\n",
            "<ipython-input-178-4bf2de84ae7f>:13: FutureWarning: In a future version, object-dtype columns with all-bool values will not be included in reductions with bool_only=True. Explicitly cast to bool dtype instead.\n",
            "  DATA[val]['data'] = DATA[val]['data'].append(data.iloc[ix])\n",
            "<ipython-input-178-4bf2de84ae7f>:13: FutureWarning: The frame.append method is deprecated and will be removed from pandas in a future version. Use pandas.concat instead.\n",
            "  DATA[val]['data'] = DATA[val]['data'].append(data.iloc[ix])\n",
            "<ipython-input-178-4bf2de84ae7f>:13: FutureWarning: In a future version, object-dtype columns with all-bool values will not be included in reductions with bool_only=True. Explicitly cast to bool dtype instead.\n",
            "  DATA[val]['data'] = DATA[val]['data'].append(data.iloc[ix])\n",
            "<ipython-input-178-4bf2de84ae7f>:13: FutureWarning: The frame.append method is deprecated and will be removed from pandas in a future version. Use pandas.concat instead.\n",
            "  DATA[val]['data'] = DATA[val]['data'].append(data.iloc[ix])\n",
            "<ipython-input-178-4bf2de84ae7f>:13: FutureWarning: In a future version, object-dtype columns with all-bool values will not be included in reductions with bool_only=True. Explicitly cast to bool dtype instead.\n",
            "  DATA[val]['data'] = DATA[val]['data'].append(data.iloc[ix])\n",
            "<ipython-input-178-4bf2de84ae7f>:13: FutureWarning: The frame.append method is deprecated and will be removed from pandas in a future version. Use pandas.concat instead.\n",
            "  DATA[val]['data'] = DATA[val]['data'].append(data.iloc[ix])\n",
            "<ipython-input-178-4bf2de84ae7f>:13: FutureWarning: In a future version, object-dtype columns with all-bool values will not be included in reductions with bool_only=True. Explicitly cast to bool dtype instead.\n",
            "  DATA[val]['data'] = DATA[val]['data'].append(data.iloc[ix])\n",
            "<ipython-input-178-4bf2de84ae7f>:13: FutureWarning: The frame.append method is deprecated and will be removed from pandas in a future version. Use pandas.concat instead.\n",
            "  DATA[val]['data'] = DATA[val]['data'].append(data.iloc[ix])\n",
            "<ipython-input-178-4bf2de84ae7f>:13: FutureWarning: In a future version, object-dtype columns with all-bool values will not be included in reductions with bool_only=True. Explicitly cast to bool dtype instead.\n",
            "  DATA[val]['data'] = DATA[val]['data'].append(data.iloc[ix])\n",
            "<ipython-input-178-4bf2de84ae7f>:13: FutureWarning: The frame.append method is deprecated and will be removed from pandas in a future version. Use pandas.concat instead.\n",
            "  DATA[val]['data'] = DATA[val]['data'].append(data.iloc[ix])\n",
            "<ipython-input-178-4bf2de84ae7f>:13: FutureWarning: In a future version, object-dtype columns with all-bool values will not be included in reductions with bool_only=True. Explicitly cast to bool dtype instead.\n",
            "  DATA[val]['data'] = DATA[val]['data'].append(data.iloc[ix])\n"
          ]
        },
        {
          "output_type": "execute_result",
          "data": {
            "text/plain": [
              "0.24674981977443933"
            ]
          },
          "metadata": {},
          "execution_count": 189
        }
      ]
    },
    {
      "cell_type": "code",
      "source": [
        "class DecisionTree:\n",
        "    #constructor\n",
        "    def __init__(self, depth = 0, max_depth = 5):\n",
        "        # Creating a Node\n",
        "        self.children = {}\n",
        "        self.fkey = None\n",
        "        self.max_depth = max_depth\n",
        "        self.depth = depth\n",
        "        self.target = None\n",
        "\n",
        "    def train(self, data):\n",
        "        features = ['Outlook', 'Temperature', 'Humidity', 'Windy']\n",
        "        info_gains = []\n",
        "\n",
        "        for f in features:\n",
        "            i_gain = information_gain(data, f)\n",
        "            info_gains.append(i_gain)\n",
        "\n",
        "        # finding the best feature\n",
        "        self.fkey = features[np.argmax(info_gains)]\n",
        "\n",
        "        #Splitting the Data\n",
        "        DATA = divide_data(data, self.fkey)\n",
        "\n",
        "        # Giving a target label to the Node\n",
        "        labels = list(data['Play'].value_counts().index)\n",
        "        freq = list(data['Play'].value_counts().values)\n",
        "\n",
        "        self.target = labels[np.argmax(freq)]\n",
        "\n",
        "        #Stopping condition\n",
        "        have_data = 0\n",
        "        keys = DATA.keys()\n",
        "\n",
        "        for key in keys:\n",
        "            if DATA[key]['len'] >0:\n",
        "                have_data +=1\n",
        "\n",
        "        # 1. If it is pure node\n",
        "        if have_data < 2:\n",
        "            return\n",
        "\n",
        "        #2. Early stop if you have reached max depth\n",
        "        if(self.depth >= self.max_depth):\n",
        "            return\n",
        "\n",
        "        print(\"\\t\" *self.depth + \"Making tress with - \", self.fkey)\n",
        "\n",
        "        #Recusively train child node\n",
        "        for key in keys:\n",
        "            new_data = DATA[key]['data']\n",
        "            self.children[key] = DecisionTree(depth = self.depth + 1)\n",
        "            self.children[key].train(new_data)\n",
        "\n",
        "        return\n",
        "\n",
        "    def predict(self, test):\n",
        "        if self.children == {}:\n",
        "            return self.target\n",
        "\n",
        "        return self.children[test[self.fkey][0]].predict(test)"
      ],
      "metadata": {
        "id": "mzh3_QS_pjSq"
      },
      "execution_count": 190,
      "outputs": []
    },
    {
      "cell_type": "code",
      "source": [
        "model = DecisionTree()"
      ],
      "metadata": {
        "id": "rmO4xKFerAxm"
      },
      "execution_count": 191,
      "outputs": []
    },
    {
      "cell_type": "code",
      "source": [
        "model.train(df)"
      ],
      "metadata": {
        "colab": {
          "base_uri": "https://localhost:8080/"
        },
        "id": "lvNnCDnPytcH",
        "outputId": "a1fc163e-4e6c-4535-9798-4e772f6304b2"
      },
      "execution_count": 192,
      "outputs": [
        {
          "output_type": "stream",
          "name": "stderr",
          "text": [
            "<ipython-input-178-4bf2de84ae7f>:13: FutureWarning: The frame.append method is deprecated and will be removed from pandas in a future version. Use pandas.concat instead.\n",
            "  DATA[val]['data'] = DATA[val]['data'].append(data.iloc[ix])\n",
            "<ipython-input-178-4bf2de84ae7f>:13: FutureWarning: The frame.append method is deprecated and will be removed from pandas in a future version. Use pandas.concat instead.\n",
            "  DATA[val]['data'] = DATA[val]['data'].append(data.iloc[ix])\n",
            "<ipython-input-178-4bf2de84ae7f>:13: FutureWarning: In a future version, object-dtype columns with all-bool values will not be included in reductions with bool_only=True. Explicitly cast to bool dtype instead.\n",
            "  DATA[val]['data'] = DATA[val]['data'].append(data.iloc[ix])\n",
            "<ipython-input-178-4bf2de84ae7f>:13: FutureWarning: The frame.append method is deprecated and will be removed from pandas in a future version. Use pandas.concat instead.\n",
            "  DATA[val]['data'] = DATA[val]['data'].append(data.iloc[ix])\n",
            "<ipython-input-178-4bf2de84ae7f>:13: FutureWarning: The frame.append method is deprecated and will be removed from pandas in a future version. Use pandas.concat instead.\n",
            "  DATA[val]['data'] = DATA[val]['data'].append(data.iloc[ix])\n",
            "<ipython-input-178-4bf2de84ae7f>:13: FutureWarning: The frame.append method is deprecated and will be removed from pandas in a future version. Use pandas.concat instead.\n",
            "  DATA[val]['data'] = DATA[val]['data'].append(data.iloc[ix])\n",
            "<ipython-input-178-4bf2de84ae7f>:13: FutureWarning: In a future version, object-dtype columns with all-bool values will not be included in reductions with bool_only=True. Explicitly cast to bool dtype instead.\n",
            "  DATA[val]['data'] = DATA[val]['data'].append(data.iloc[ix])\n",
            "<ipython-input-178-4bf2de84ae7f>:13: FutureWarning: The frame.append method is deprecated and will be removed from pandas in a future version. Use pandas.concat instead.\n",
            "  DATA[val]['data'] = DATA[val]['data'].append(data.iloc[ix])\n",
            "<ipython-input-178-4bf2de84ae7f>:13: FutureWarning: In a future version, object-dtype columns with all-bool values will not be included in reductions with bool_only=True. Explicitly cast to bool dtype instead.\n",
            "  DATA[val]['data'] = DATA[val]['data'].append(data.iloc[ix])\n",
            "<ipython-input-178-4bf2de84ae7f>:13: FutureWarning: The frame.append method is deprecated and will be removed from pandas in a future version. Use pandas.concat instead.\n",
            "  DATA[val]['data'] = DATA[val]['data'].append(data.iloc[ix])\n",
            "<ipython-input-178-4bf2de84ae7f>:13: FutureWarning: In a future version, object-dtype columns with all-bool values will not be included in reductions with bool_only=True. Explicitly cast to bool dtype instead.\n",
            "  DATA[val]['data'] = DATA[val]['data'].append(data.iloc[ix])\n",
            "<ipython-input-178-4bf2de84ae7f>:13: FutureWarning: The frame.append method is deprecated and will be removed from pandas in a future version. Use pandas.concat instead.\n",
            "  DATA[val]['data'] = DATA[val]['data'].append(data.iloc[ix])\n",
            "<ipython-input-178-4bf2de84ae7f>:13: FutureWarning: In a future version, object-dtype columns with all-bool values will not be included in reductions with bool_only=True. Explicitly cast to bool dtype instead.\n",
            "  DATA[val]['data'] = DATA[val]['data'].append(data.iloc[ix])\n",
            "<ipython-input-178-4bf2de84ae7f>:13: FutureWarning: The frame.append method is deprecated and will be removed from pandas in a future version. Use pandas.concat instead.\n",
            "  DATA[val]['data'] = DATA[val]['data'].append(data.iloc[ix])\n",
            "<ipython-input-178-4bf2de84ae7f>:13: FutureWarning: In a future version, object-dtype columns with all-bool values will not be included in reductions with bool_only=True. Explicitly cast to bool dtype instead.\n",
            "  DATA[val]['data'] = DATA[val]['data'].append(data.iloc[ix])\n",
            "<ipython-input-178-4bf2de84ae7f>:13: FutureWarning: The frame.append method is deprecated and will be removed from pandas in a future version. Use pandas.concat instead.\n",
            "  DATA[val]['data'] = DATA[val]['data'].append(data.iloc[ix])\n",
            "<ipython-input-178-4bf2de84ae7f>:13: FutureWarning: In a future version, object-dtype columns with all-bool values will not be included in reductions with bool_only=True. Explicitly cast to bool dtype instead.\n",
            "  DATA[val]['data'] = DATA[val]['data'].append(data.iloc[ix])\n",
            "<ipython-input-178-4bf2de84ae7f>:13: FutureWarning: The frame.append method is deprecated and will be removed from pandas in a future version. Use pandas.concat instead.\n",
            "  DATA[val]['data'] = DATA[val]['data'].append(data.iloc[ix])\n",
            "<ipython-input-178-4bf2de84ae7f>:13: FutureWarning: In a future version, object-dtype columns with all-bool values will not be included in reductions with bool_only=True. Explicitly cast to bool dtype instead.\n",
            "  DATA[val]['data'] = DATA[val]['data'].append(data.iloc[ix])\n",
            "<ipython-input-178-4bf2de84ae7f>:13: FutureWarning: The frame.append method is deprecated and will be removed from pandas in a future version. Use pandas.concat instead.\n",
            "  DATA[val]['data'] = DATA[val]['data'].append(data.iloc[ix])\n",
            "<ipython-input-178-4bf2de84ae7f>:13: FutureWarning: In a future version, object-dtype columns with all-bool values will not be included in reductions with bool_only=True. Explicitly cast to bool dtype instead.\n",
            "  DATA[val]['data'] = DATA[val]['data'].append(data.iloc[ix])\n",
            "<ipython-input-178-4bf2de84ae7f>:13: FutureWarning: The frame.append method is deprecated and will be removed from pandas in a future version. Use pandas.concat instead.\n",
            "  DATA[val]['data'] = DATA[val]['data'].append(data.iloc[ix])\n",
            "<ipython-input-178-4bf2de84ae7f>:13: FutureWarning: In a future version, object-dtype columns with all-bool values will not be included in reductions with bool_only=True. Explicitly cast to bool dtype instead.\n",
            "  DATA[val]['data'] = DATA[val]['data'].append(data.iloc[ix])\n",
            "<ipython-input-178-4bf2de84ae7f>:13: FutureWarning: The frame.append method is deprecated and will be removed from pandas in a future version. Use pandas.concat instead.\n",
            "  DATA[val]['data'] = DATA[val]['data'].append(data.iloc[ix])\n",
            "<ipython-input-178-4bf2de84ae7f>:13: FutureWarning: In a future version, object-dtype columns with all-bool values will not be included in reductions with bool_only=True. Explicitly cast to bool dtype instead.\n",
            "  DATA[val]['data'] = DATA[val]['data'].append(data.iloc[ix])\n",
            "<ipython-input-178-4bf2de84ae7f>:13: FutureWarning: The frame.append method is deprecated and will be removed from pandas in a future version. Use pandas.concat instead.\n",
            "  DATA[val]['data'] = DATA[val]['data'].append(data.iloc[ix])\n",
            "<ipython-input-178-4bf2de84ae7f>:13: FutureWarning: The frame.append method is deprecated and will be removed from pandas in a future version. Use pandas.concat instead.\n",
            "  DATA[val]['data'] = DATA[val]['data'].append(data.iloc[ix])\n",
            "<ipython-input-178-4bf2de84ae7f>:13: FutureWarning: In a future version, object-dtype columns with all-bool values will not be included in reductions with bool_only=True. Explicitly cast to bool dtype instead.\n",
            "  DATA[val]['data'] = DATA[val]['data'].append(data.iloc[ix])\n",
            "<ipython-input-178-4bf2de84ae7f>:13: FutureWarning: The frame.append method is deprecated and will be removed from pandas in a future version. Use pandas.concat instead.\n",
            "  DATA[val]['data'] = DATA[val]['data'].append(data.iloc[ix])\n",
            "<ipython-input-178-4bf2de84ae7f>:13: FutureWarning: In a future version, object-dtype columns with all-bool values will not be included in reductions with bool_only=True. Explicitly cast to bool dtype instead.\n",
            "  DATA[val]['data'] = DATA[val]['data'].append(data.iloc[ix])\n",
            "<ipython-input-178-4bf2de84ae7f>:13: FutureWarning: The frame.append method is deprecated and will be removed from pandas in a future version. Use pandas.concat instead.\n",
            "  DATA[val]['data'] = DATA[val]['data'].append(data.iloc[ix])\n",
            "<ipython-input-178-4bf2de84ae7f>:13: FutureWarning: The frame.append method is deprecated and will be removed from pandas in a future version. Use pandas.concat instead.\n",
            "  DATA[val]['data'] = DATA[val]['data'].append(data.iloc[ix])\n",
            "<ipython-input-178-4bf2de84ae7f>:13: FutureWarning: The frame.append method is deprecated and will be removed from pandas in a future version. Use pandas.concat instead.\n",
            "  DATA[val]['data'] = DATA[val]['data'].append(data.iloc[ix])\n",
            "<ipython-input-178-4bf2de84ae7f>:13: FutureWarning: In a future version, object-dtype columns with all-bool values will not be included in reductions with bool_only=True. Explicitly cast to bool dtype instead.\n",
            "  DATA[val]['data'] = DATA[val]['data'].append(data.iloc[ix])\n",
            "<ipython-input-178-4bf2de84ae7f>:13: FutureWarning: The frame.append method is deprecated and will be removed from pandas in a future version. Use pandas.concat instead.\n",
            "  DATA[val]['data'] = DATA[val]['data'].append(data.iloc[ix])\n",
            "<ipython-input-178-4bf2de84ae7f>:13: FutureWarning: In a future version, object-dtype columns with all-bool values will not be included in reductions with bool_only=True. Explicitly cast to bool dtype instead.\n",
            "  DATA[val]['data'] = DATA[val]['data'].append(data.iloc[ix])\n",
            "<ipython-input-178-4bf2de84ae7f>:13: FutureWarning: The frame.append method is deprecated and will be removed from pandas in a future version. Use pandas.concat instead.\n",
            "  DATA[val]['data'] = DATA[val]['data'].append(data.iloc[ix])\n",
            "<ipython-input-178-4bf2de84ae7f>:13: FutureWarning: In a future version, object-dtype columns with all-bool values will not be included in reductions with bool_only=True. Explicitly cast to bool dtype instead.\n",
            "  DATA[val]['data'] = DATA[val]['data'].append(data.iloc[ix])\n",
            "<ipython-input-178-4bf2de84ae7f>:13: FutureWarning: The frame.append method is deprecated and will be removed from pandas in a future version. Use pandas.concat instead.\n",
            "  DATA[val]['data'] = DATA[val]['data'].append(data.iloc[ix])\n",
            "<ipython-input-178-4bf2de84ae7f>:13: FutureWarning: In a future version, object-dtype columns with all-bool values will not be included in reductions with bool_only=True. Explicitly cast to bool dtype instead.\n",
            "  DATA[val]['data'] = DATA[val]['data'].append(data.iloc[ix])\n",
            "<ipython-input-178-4bf2de84ae7f>:13: FutureWarning: The frame.append method is deprecated and will be removed from pandas in a future version. Use pandas.concat instead.\n",
            "  DATA[val]['data'] = DATA[val]['data'].append(data.iloc[ix])\n",
            "<ipython-input-178-4bf2de84ae7f>:13: FutureWarning: In a future version, object-dtype columns with all-bool values will not be included in reductions with bool_only=True. Explicitly cast to bool dtype instead.\n",
            "  DATA[val]['data'] = DATA[val]['data'].append(data.iloc[ix])\n",
            "<ipython-input-178-4bf2de84ae7f>:13: FutureWarning: The frame.append method is deprecated and will be removed from pandas in a future version. Use pandas.concat instead.\n",
            "  DATA[val]['data'] = DATA[val]['data'].append(data.iloc[ix])\n",
            "<ipython-input-178-4bf2de84ae7f>:13: FutureWarning: In a future version, object-dtype columns with all-bool values will not be included in reductions with bool_only=True. Explicitly cast to bool dtype instead.\n",
            "  DATA[val]['data'] = DATA[val]['data'].append(data.iloc[ix])\n",
            "<ipython-input-178-4bf2de84ae7f>:13: FutureWarning: The frame.append method is deprecated and will be removed from pandas in a future version. Use pandas.concat instead.\n",
            "  DATA[val]['data'] = DATA[val]['data'].append(data.iloc[ix])\n",
            "<ipython-input-178-4bf2de84ae7f>:13: FutureWarning: In a future version, object-dtype columns with all-bool values will not be included in reductions with bool_only=True. Explicitly cast to bool dtype instead.\n",
            "  DATA[val]['data'] = DATA[val]['data'].append(data.iloc[ix])\n",
            "<ipython-input-178-4bf2de84ae7f>:13: FutureWarning: The frame.append method is deprecated and will be removed from pandas in a future version. Use pandas.concat instead.\n",
            "  DATA[val]['data'] = DATA[val]['data'].append(data.iloc[ix])\n",
            "<ipython-input-178-4bf2de84ae7f>:13: FutureWarning: In a future version, object-dtype columns with all-bool values will not be included in reductions with bool_only=True. Explicitly cast to bool dtype instead.\n",
            "  DATA[val]['data'] = DATA[val]['data'].append(data.iloc[ix])\n",
            "<ipython-input-178-4bf2de84ae7f>:13: FutureWarning: The frame.append method is deprecated and will be removed from pandas in a future version. Use pandas.concat instead.\n",
            "  DATA[val]['data'] = DATA[val]['data'].append(data.iloc[ix])\n",
            "<ipython-input-178-4bf2de84ae7f>:13: FutureWarning: In a future version, object-dtype columns with all-bool values will not be included in reductions with bool_only=True. Explicitly cast to bool dtype instead.\n",
            "  DATA[val]['data'] = DATA[val]['data'].append(data.iloc[ix])\n",
            "<ipython-input-178-4bf2de84ae7f>:13: FutureWarning: The frame.append method is deprecated and will be removed from pandas in a future version. Use pandas.concat instead.\n",
            "  DATA[val]['data'] = DATA[val]['data'].append(data.iloc[ix])\n",
            "<ipython-input-178-4bf2de84ae7f>:13: FutureWarning: The frame.append method is deprecated and will be removed from pandas in a future version. Use pandas.concat instead.\n",
            "  DATA[val]['data'] = DATA[val]['data'].append(data.iloc[ix])\n",
            "<ipython-input-178-4bf2de84ae7f>:13: FutureWarning: In a future version, object-dtype columns with all-bool values will not be included in reductions with bool_only=True. Explicitly cast to bool dtype instead.\n",
            "  DATA[val]['data'] = DATA[val]['data'].append(data.iloc[ix])\n",
            "<ipython-input-178-4bf2de84ae7f>:13: FutureWarning: The frame.append method is deprecated and will be removed from pandas in a future version. Use pandas.concat instead.\n",
            "  DATA[val]['data'] = DATA[val]['data'].append(data.iloc[ix])\n",
            "<ipython-input-178-4bf2de84ae7f>:13: FutureWarning: In a future version, object-dtype columns with all-bool values will not be included in reductions with bool_only=True. Explicitly cast to bool dtype instead.\n",
            "  DATA[val]['data'] = DATA[val]['data'].append(data.iloc[ix])\n",
            "<ipython-input-178-4bf2de84ae7f>:13: FutureWarning: The frame.append method is deprecated and will be removed from pandas in a future version. Use pandas.concat instead.\n",
            "  DATA[val]['data'] = DATA[val]['data'].append(data.iloc[ix])\n",
            "<ipython-input-178-4bf2de84ae7f>:13: FutureWarning: In a future version, object-dtype columns with all-bool values will not be included in reductions with bool_only=True. Explicitly cast to bool dtype instead.\n",
            "  DATA[val]['data'] = DATA[val]['data'].append(data.iloc[ix])\n",
            "<ipython-input-178-4bf2de84ae7f>:13: FutureWarning: The frame.append method is deprecated and will be removed from pandas in a future version. Use pandas.concat instead.\n",
            "  DATA[val]['data'] = DATA[val]['data'].append(data.iloc[ix])\n",
            "<ipython-input-178-4bf2de84ae7f>:13: FutureWarning: The frame.append method is deprecated and will be removed from pandas in a future version. Use pandas.concat instead.\n",
            "  DATA[val]['data'] = DATA[val]['data'].append(data.iloc[ix])\n",
            "<ipython-input-178-4bf2de84ae7f>:13: FutureWarning: In a future version, object-dtype columns with all-bool values will not be included in reductions with bool_only=True. Explicitly cast to bool dtype instead.\n",
            "  DATA[val]['data'] = DATA[val]['data'].append(data.iloc[ix])\n",
            "<ipython-input-178-4bf2de84ae7f>:13: FutureWarning: The frame.append method is deprecated and will be removed from pandas in a future version. Use pandas.concat instead.\n",
            "  DATA[val]['data'] = DATA[val]['data'].append(data.iloc[ix])\n",
            "<ipython-input-178-4bf2de84ae7f>:13: FutureWarning: In a future version, object-dtype columns with all-bool values will not be included in reductions with bool_only=True. Explicitly cast to bool dtype instead.\n",
            "  DATA[val]['data'] = DATA[val]['data'].append(data.iloc[ix])\n",
            "<ipython-input-178-4bf2de84ae7f>:13: FutureWarning: The frame.append method is deprecated and will be removed from pandas in a future version. Use pandas.concat instead.\n",
            "  DATA[val]['data'] = DATA[val]['data'].append(data.iloc[ix])\n",
            "<ipython-input-178-4bf2de84ae7f>:13: FutureWarning: In a future version, object-dtype columns with all-bool values will not be included in reductions with bool_only=True. Explicitly cast to bool dtype instead.\n",
            "  DATA[val]['data'] = DATA[val]['data'].append(data.iloc[ix])\n",
            "<ipython-input-178-4bf2de84ae7f>:13: FutureWarning: The frame.append method is deprecated and will be removed from pandas in a future version. Use pandas.concat instead.\n",
            "  DATA[val]['data'] = DATA[val]['data'].append(data.iloc[ix])\n",
            "<ipython-input-178-4bf2de84ae7f>:13: FutureWarning: In a future version, object-dtype columns with all-bool values will not be included in reductions with bool_only=True. Explicitly cast to bool dtype instead.\n",
            "  DATA[val]['data'] = DATA[val]['data'].append(data.iloc[ix])\n",
            "<ipython-input-178-4bf2de84ae7f>:13: FutureWarning: The frame.append method is deprecated and will be removed from pandas in a future version. Use pandas.concat instead.\n",
            "  DATA[val]['data'] = DATA[val]['data'].append(data.iloc[ix])\n",
            "<ipython-input-178-4bf2de84ae7f>:13: FutureWarning: In a future version, object-dtype columns with all-bool values will not be included in reductions with bool_only=True. Explicitly cast to bool dtype instead.\n",
            "  DATA[val]['data'] = DATA[val]['data'].append(data.iloc[ix])\n",
            "<ipython-input-178-4bf2de84ae7f>:13: FutureWarning: The frame.append method is deprecated and will be removed from pandas in a future version. Use pandas.concat instead.\n",
            "  DATA[val]['data'] = DATA[val]['data'].append(data.iloc[ix])\n",
            "<ipython-input-178-4bf2de84ae7f>:13: FutureWarning: In a future version, object-dtype columns with all-bool values will not be included in reductions with bool_only=True. Explicitly cast to bool dtype instead.\n",
            "  DATA[val]['data'] = DATA[val]['data'].append(data.iloc[ix])\n",
            "<ipython-input-178-4bf2de84ae7f>:13: FutureWarning: The frame.append method is deprecated and will be removed from pandas in a future version. Use pandas.concat instead.\n",
            "  DATA[val]['data'] = DATA[val]['data'].append(data.iloc[ix])\n",
            "<ipython-input-178-4bf2de84ae7f>:13: FutureWarning: In a future version, object-dtype columns with all-bool values will not be included in reductions with bool_only=True. Explicitly cast to bool dtype instead.\n",
            "  DATA[val]['data'] = DATA[val]['data'].append(data.iloc[ix])\n",
            "<ipython-input-178-4bf2de84ae7f>:13: FutureWarning: The frame.append method is deprecated and will be removed from pandas in a future version. Use pandas.concat instead.\n",
            "  DATA[val]['data'] = DATA[val]['data'].append(data.iloc[ix])\n",
            "<ipython-input-178-4bf2de84ae7f>:13: FutureWarning: In a future version, object-dtype columns with all-bool values will not be included in reductions with bool_only=True. Explicitly cast to bool dtype instead.\n",
            "  DATA[val]['data'] = DATA[val]['data'].append(data.iloc[ix])\n",
            "<ipython-input-178-4bf2de84ae7f>:13: FutureWarning: The frame.append method is deprecated and will be removed from pandas in a future version. Use pandas.concat instead.\n",
            "  DATA[val]['data'] = DATA[val]['data'].append(data.iloc[ix])\n",
            "<ipython-input-178-4bf2de84ae7f>:13: FutureWarning: In a future version, object-dtype columns with all-bool values will not be included in reductions with bool_only=True. Explicitly cast to bool dtype instead.\n",
            "  DATA[val]['data'] = DATA[val]['data'].append(data.iloc[ix])\n",
            "<ipython-input-178-4bf2de84ae7f>:13: FutureWarning: The frame.append method is deprecated and will be removed from pandas in a future version. Use pandas.concat instead.\n",
            "  DATA[val]['data'] = DATA[val]['data'].append(data.iloc[ix])\n",
            "<ipython-input-178-4bf2de84ae7f>:13: FutureWarning: The frame.append method is deprecated and will be removed from pandas in a future version. Use pandas.concat instead.\n",
            "  DATA[val]['data'] = DATA[val]['data'].append(data.iloc[ix])\n",
            "<ipython-input-178-4bf2de84ae7f>:13: FutureWarning: The frame.append method is deprecated and will be removed from pandas in a future version. Use pandas.concat instead.\n",
            "  DATA[val]['data'] = DATA[val]['data'].append(data.iloc[ix])\n",
            "<ipython-input-178-4bf2de84ae7f>:13: FutureWarning: In a future version, object-dtype columns with all-bool values will not be included in reductions with bool_only=True. Explicitly cast to bool dtype instead.\n",
            "  DATA[val]['data'] = DATA[val]['data'].append(data.iloc[ix])\n",
            "<ipython-input-178-4bf2de84ae7f>:13: FutureWarning: The frame.append method is deprecated and will be removed from pandas in a future version. Use pandas.concat instead.\n",
            "  DATA[val]['data'] = DATA[val]['data'].append(data.iloc[ix])\n",
            "<ipython-input-178-4bf2de84ae7f>:13: FutureWarning: In a future version, object-dtype columns with all-bool values will not be included in reductions with bool_only=True. Explicitly cast to bool dtype instead.\n",
            "  DATA[val]['data'] = DATA[val]['data'].append(data.iloc[ix])\n",
            "<ipython-input-178-4bf2de84ae7f>:13: FutureWarning: The frame.append method is deprecated and will be removed from pandas in a future version. Use pandas.concat instead.\n",
            "  DATA[val]['data'] = DATA[val]['data'].append(data.iloc[ix])\n",
            "<ipython-input-178-4bf2de84ae7f>:13: FutureWarning: In a future version, object-dtype columns with all-bool values will not be included in reductions with bool_only=True. Explicitly cast to bool dtype instead.\n",
            "  DATA[val]['data'] = DATA[val]['data'].append(data.iloc[ix])\n",
            "<ipython-input-178-4bf2de84ae7f>:13: FutureWarning: The frame.append method is deprecated and will be removed from pandas in a future version. Use pandas.concat instead.\n",
            "  DATA[val]['data'] = DATA[val]['data'].append(data.iloc[ix])\n",
            "<ipython-input-178-4bf2de84ae7f>:13: FutureWarning: In a future version, object-dtype columns with all-bool values will not be included in reductions with bool_only=True. Explicitly cast to bool dtype instead.\n",
            "  DATA[val]['data'] = DATA[val]['data'].append(data.iloc[ix])\n",
            "<ipython-input-178-4bf2de84ae7f>:13: FutureWarning: The frame.append method is deprecated and will be removed from pandas in a future version. Use pandas.concat instead.\n",
            "  DATA[val]['data'] = DATA[val]['data'].append(data.iloc[ix])\n",
            "<ipython-input-178-4bf2de84ae7f>:13: FutureWarning: In a future version, object-dtype columns with all-bool values will not be included in reductions with bool_only=True. Explicitly cast to bool dtype instead.\n",
            "  DATA[val]['data'] = DATA[val]['data'].append(data.iloc[ix])\n",
            "<ipython-input-178-4bf2de84ae7f>:13: FutureWarning: The frame.append method is deprecated and will be removed from pandas in a future version. Use pandas.concat instead.\n",
            "  DATA[val]['data'] = DATA[val]['data'].append(data.iloc[ix])\n",
            "<ipython-input-178-4bf2de84ae7f>:13: FutureWarning: In a future version, object-dtype columns with all-bool values will not be included in reductions with bool_only=True. Explicitly cast to bool dtype instead.\n",
            "  DATA[val]['data'] = DATA[val]['data'].append(data.iloc[ix])\n",
            "<ipython-input-178-4bf2de84ae7f>:13: FutureWarning: The frame.append method is deprecated and will be removed from pandas in a future version. Use pandas.concat instead.\n",
            "  DATA[val]['data'] = DATA[val]['data'].append(data.iloc[ix])\n",
            "<ipython-input-178-4bf2de84ae7f>:13: FutureWarning: In a future version, object-dtype columns with all-bool values will not be included in reductions with bool_only=True. Explicitly cast to bool dtype instead.\n",
            "  DATA[val]['data'] = DATA[val]['data'].append(data.iloc[ix])\n",
            "<ipython-input-178-4bf2de84ae7f>:13: FutureWarning: The frame.append method is deprecated and will be removed from pandas in a future version. Use pandas.concat instead.\n",
            "  DATA[val]['data'] = DATA[val]['data'].append(data.iloc[ix])\n",
            "<ipython-input-178-4bf2de84ae7f>:13: FutureWarning: In a future version, object-dtype columns with all-bool values will not be included in reductions with bool_only=True. Explicitly cast to bool dtype instead.\n",
            "  DATA[val]['data'] = DATA[val]['data'].append(data.iloc[ix])\n",
            "<ipython-input-178-4bf2de84ae7f>:13: FutureWarning: The frame.append method is deprecated and will be removed from pandas in a future version. Use pandas.concat instead.\n",
            "  DATA[val]['data'] = DATA[val]['data'].append(data.iloc[ix])\n",
            "<ipython-input-178-4bf2de84ae7f>:13: FutureWarning: In a future version, object-dtype columns with all-bool values will not be included in reductions with bool_only=True. Explicitly cast to bool dtype instead.\n",
            "  DATA[val]['data'] = DATA[val]['data'].append(data.iloc[ix])\n",
            "<ipython-input-178-4bf2de84ae7f>:13: FutureWarning: The frame.append method is deprecated and will be removed from pandas in a future version. Use pandas.concat instead.\n",
            "  DATA[val]['data'] = DATA[val]['data'].append(data.iloc[ix])\n",
            "<ipython-input-178-4bf2de84ae7f>:13: FutureWarning: In a future version, object-dtype columns with all-bool values will not be included in reductions with bool_only=True. Explicitly cast to bool dtype instead.\n",
            "  DATA[val]['data'] = DATA[val]['data'].append(data.iloc[ix])\n",
            "<ipython-input-178-4bf2de84ae7f>:13: FutureWarning: The frame.append method is deprecated and will be removed from pandas in a future version. Use pandas.concat instead.\n",
            "  DATA[val]['data'] = DATA[val]['data'].append(data.iloc[ix])\n",
            "<ipython-input-178-4bf2de84ae7f>:13: FutureWarning: In a future version, object-dtype columns with all-bool values will not be included in reductions with bool_only=True. Explicitly cast to bool dtype instead.\n",
            "  DATA[val]['data'] = DATA[val]['data'].append(data.iloc[ix])\n",
            "<ipython-input-178-4bf2de84ae7f>:13: FutureWarning: The frame.append method is deprecated and will be removed from pandas in a future version. Use pandas.concat instead.\n",
            "  DATA[val]['data'] = DATA[val]['data'].append(data.iloc[ix])\n",
            "<ipython-input-178-4bf2de84ae7f>:13: FutureWarning: In a future version, object-dtype columns with all-bool values will not be included in reductions with bool_only=True. Explicitly cast to bool dtype instead.\n",
            "  DATA[val]['data'] = DATA[val]['data'].append(data.iloc[ix])\n",
            "<ipython-input-178-4bf2de84ae7f>:13: FutureWarning: The frame.append method is deprecated and will be removed from pandas in a future version. Use pandas.concat instead.\n",
            "  DATA[val]['data'] = DATA[val]['data'].append(data.iloc[ix])\n",
            "<ipython-input-178-4bf2de84ae7f>:13: FutureWarning: The frame.append method is deprecated and will be removed from pandas in a future version. Use pandas.concat instead.\n",
            "  DATA[val]['data'] = DATA[val]['data'].append(data.iloc[ix])\n",
            "<ipython-input-178-4bf2de84ae7f>:13: FutureWarning: In a future version, object-dtype columns with all-bool values will not be included in reductions with bool_only=True. Explicitly cast to bool dtype instead.\n",
            "  DATA[val]['data'] = DATA[val]['data'].append(data.iloc[ix])\n",
            "<ipython-input-178-4bf2de84ae7f>:13: FutureWarning: The frame.append method is deprecated and will be removed from pandas in a future version. Use pandas.concat instead.\n",
            "  DATA[val]['data'] = DATA[val]['data'].append(data.iloc[ix])\n",
            "<ipython-input-178-4bf2de84ae7f>:13: FutureWarning: The frame.append method is deprecated and will be removed from pandas in a future version. Use pandas.concat instead.\n",
            "  DATA[val]['data'] = DATA[val]['data'].append(data.iloc[ix])\n",
            "<ipython-input-178-4bf2de84ae7f>:13: FutureWarning: The frame.append method is deprecated and will be removed from pandas in a future version. Use pandas.concat instead.\n",
            "  DATA[val]['data'] = DATA[val]['data'].append(data.iloc[ix])\n",
            "<ipython-input-178-4bf2de84ae7f>:13: FutureWarning: In a future version, object-dtype columns with all-bool values will not be included in reductions with bool_only=True. Explicitly cast to bool dtype instead.\n",
            "  DATA[val]['data'] = DATA[val]['data'].append(data.iloc[ix])\n",
            "<ipython-input-178-4bf2de84ae7f>:13: FutureWarning: The frame.append method is deprecated and will be removed from pandas in a future version. Use pandas.concat instead.\n",
            "  DATA[val]['data'] = DATA[val]['data'].append(data.iloc[ix])\n",
            "<ipython-input-178-4bf2de84ae7f>:13: FutureWarning: In a future version, object-dtype columns with all-bool values will not be included in reductions with bool_only=True. Explicitly cast to bool dtype instead.\n",
            "  DATA[val]['data'] = DATA[val]['data'].append(data.iloc[ix])\n",
            "<ipython-input-178-4bf2de84ae7f>:13: FutureWarning: The frame.append method is deprecated and will be removed from pandas in a future version. Use pandas.concat instead.\n",
            "  DATA[val]['data'] = DATA[val]['data'].append(data.iloc[ix])\n",
            "<ipython-input-178-4bf2de84ae7f>:13: FutureWarning: In a future version, object-dtype columns with all-bool values will not be included in reductions with bool_only=True. Explicitly cast to bool dtype instead.\n",
            "  DATA[val]['data'] = DATA[val]['data'].append(data.iloc[ix])\n",
            "<ipython-input-178-4bf2de84ae7f>:13: FutureWarning: The frame.append method is deprecated and will be removed from pandas in a future version. Use pandas.concat instead.\n",
            "  DATA[val]['data'] = DATA[val]['data'].append(data.iloc[ix])\n",
            "<ipython-input-178-4bf2de84ae7f>:13: FutureWarning: In a future version, object-dtype columns with all-bool values will not be included in reductions with bool_only=True. Explicitly cast to bool dtype instead.\n",
            "  DATA[val]['data'] = DATA[val]['data'].append(data.iloc[ix])\n",
            "<ipython-input-178-4bf2de84ae7f>:13: FutureWarning: The frame.append method is deprecated and will be removed from pandas in a future version. Use pandas.concat instead.\n",
            "  DATA[val]['data'] = DATA[val]['data'].append(data.iloc[ix])\n",
            "<ipython-input-178-4bf2de84ae7f>:13: FutureWarning: In a future version, object-dtype columns with all-bool values will not be included in reductions with bool_only=True. Explicitly cast to bool dtype instead.\n",
            "  DATA[val]['data'] = DATA[val]['data'].append(data.iloc[ix])\n",
            "<ipython-input-178-4bf2de84ae7f>:13: FutureWarning: The frame.append method is deprecated and will be removed from pandas in a future version. Use pandas.concat instead.\n",
            "  DATA[val]['data'] = DATA[val]['data'].append(data.iloc[ix])\n",
            "<ipython-input-178-4bf2de84ae7f>:13: FutureWarning: In a future version, object-dtype columns with all-bool values will not be included in reductions with bool_only=True. Explicitly cast to bool dtype instead.\n",
            "  DATA[val]['data'] = DATA[val]['data'].append(data.iloc[ix])\n",
            "<ipython-input-178-4bf2de84ae7f>:13: FutureWarning: The frame.append method is deprecated and will be removed from pandas in a future version. Use pandas.concat instead.\n",
            "  DATA[val]['data'] = DATA[val]['data'].append(data.iloc[ix])\n",
            "<ipython-input-178-4bf2de84ae7f>:13: FutureWarning: In a future version, object-dtype columns with all-bool values will not be included in reductions with bool_only=True. Explicitly cast to bool dtype instead.\n",
            "  DATA[val]['data'] = DATA[val]['data'].append(data.iloc[ix])\n",
            "<ipython-input-178-4bf2de84ae7f>:13: FutureWarning: The frame.append method is deprecated and will be removed from pandas in a future version. Use pandas.concat instead.\n",
            "  DATA[val]['data'] = DATA[val]['data'].append(data.iloc[ix])\n",
            "<ipython-input-178-4bf2de84ae7f>:13: FutureWarning: In a future version, object-dtype columns with all-bool values will not be included in reductions with bool_only=True. Explicitly cast to bool dtype instead.\n",
            "  DATA[val]['data'] = DATA[val]['data'].append(data.iloc[ix])\n",
            "<ipython-input-178-4bf2de84ae7f>:13: FutureWarning: The frame.append method is deprecated and will be removed from pandas in a future version. Use pandas.concat instead.\n",
            "  DATA[val]['data'] = DATA[val]['data'].append(data.iloc[ix])\n",
            "<ipython-input-178-4bf2de84ae7f>:13: FutureWarning: In a future version, object-dtype columns with all-bool values will not be included in reductions with bool_only=True. Explicitly cast to bool dtype instead.\n",
            "  DATA[val]['data'] = DATA[val]['data'].append(data.iloc[ix])\n",
            "<ipython-input-178-4bf2de84ae7f>:13: FutureWarning: The frame.append method is deprecated and will be removed from pandas in a future version. Use pandas.concat instead.\n",
            "  DATA[val]['data'] = DATA[val]['data'].append(data.iloc[ix])\n",
            "<ipython-input-178-4bf2de84ae7f>:13: FutureWarning: In a future version, object-dtype columns with all-bool values will not be included in reductions with bool_only=True. Explicitly cast to bool dtype instead.\n",
            "  DATA[val]['data'] = DATA[val]['data'].append(data.iloc[ix])\n",
            "<ipython-input-178-4bf2de84ae7f>:13: FutureWarning: The frame.append method is deprecated and will be removed from pandas in a future version. Use pandas.concat instead.\n",
            "  DATA[val]['data'] = DATA[val]['data'].append(data.iloc[ix])\n",
            "<ipython-input-178-4bf2de84ae7f>:13: FutureWarning: The frame.append method is deprecated and will be removed from pandas in a future version. Use pandas.concat instead.\n",
            "  DATA[val]['data'] = DATA[val]['data'].append(data.iloc[ix])\n",
            "<ipython-input-178-4bf2de84ae7f>:13: FutureWarning: In a future version, object-dtype columns with all-bool values will not be included in reductions with bool_only=True. Explicitly cast to bool dtype instead.\n",
            "  DATA[val]['data'] = DATA[val]['data'].append(data.iloc[ix])\n",
            "<ipython-input-178-4bf2de84ae7f>:13: FutureWarning: The frame.append method is deprecated and will be removed from pandas in a future version. Use pandas.concat instead.\n",
            "  DATA[val]['data'] = DATA[val]['data'].append(data.iloc[ix])\n",
            "<ipython-input-178-4bf2de84ae7f>:13: FutureWarning: In a future version, object-dtype columns with all-bool values will not be included in reductions with bool_only=True. Explicitly cast to bool dtype instead.\n",
            "  DATA[val]['data'] = DATA[val]['data'].append(data.iloc[ix])\n",
            "<ipython-input-178-4bf2de84ae7f>:13: FutureWarning: The frame.append method is deprecated and will be removed from pandas in a future version. Use pandas.concat instead.\n",
            "  DATA[val]['data'] = DATA[val]['data'].append(data.iloc[ix])\n",
            "<ipython-input-178-4bf2de84ae7f>:13: FutureWarning: In a future version, object-dtype columns with all-bool values will not be included in reductions with bool_only=True. Explicitly cast to bool dtype instead.\n",
            "  DATA[val]['data'] = DATA[val]['data'].append(data.iloc[ix])\n",
            "<ipython-input-178-4bf2de84ae7f>:13: FutureWarning: The frame.append method is deprecated and will be removed from pandas in a future version. Use pandas.concat instead.\n",
            "  DATA[val]['data'] = DATA[val]['data'].append(data.iloc[ix])\n",
            "<ipython-input-178-4bf2de84ae7f>:13: FutureWarning: In a future version, object-dtype columns with all-bool values will not be included in reductions with bool_only=True. Explicitly cast to bool dtype instead.\n",
            "  DATA[val]['data'] = DATA[val]['data'].append(data.iloc[ix])\n",
            "<ipython-input-178-4bf2de84ae7f>:13: FutureWarning: The frame.append method is deprecated and will be removed from pandas in a future version. Use pandas.concat instead.\n",
            "  DATA[val]['data'] = DATA[val]['data'].append(data.iloc[ix])\n",
            "<ipython-input-178-4bf2de84ae7f>:13: FutureWarning: The frame.append method is deprecated and will be removed from pandas in a future version. Use pandas.concat instead.\n",
            "  DATA[val]['data'] = DATA[val]['data'].append(data.iloc[ix])\n",
            "<ipython-input-178-4bf2de84ae7f>:13: FutureWarning: In a future version, object-dtype columns with all-bool values will not be included in reductions with bool_only=True. Explicitly cast to bool dtype instead.\n",
            "  DATA[val]['data'] = DATA[val]['data'].append(data.iloc[ix])\n",
            "<ipython-input-178-4bf2de84ae7f>:13: FutureWarning: The frame.append method is deprecated and will be removed from pandas in a future version. Use pandas.concat instead.\n",
            "  DATA[val]['data'] = DATA[val]['data'].append(data.iloc[ix])\n",
            "<ipython-input-178-4bf2de84ae7f>:13: FutureWarning: The frame.append method is deprecated and will be removed from pandas in a future version. Use pandas.concat instead.\n",
            "  DATA[val]['data'] = DATA[val]['data'].append(data.iloc[ix])\n",
            "<ipython-input-178-4bf2de84ae7f>:13: FutureWarning: The frame.append method is deprecated and will be removed from pandas in a future version. Use pandas.concat instead.\n",
            "  DATA[val]['data'] = DATA[val]['data'].append(data.iloc[ix])\n",
            "<ipython-input-178-4bf2de84ae7f>:13: FutureWarning: In a future version, object-dtype columns with all-bool values will not be included in reductions with bool_only=True. Explicitly cast to bool dtype instead.\n",
            "  DATA[val]['data'] = DATA[val]['data'].append(data.iloc[ix])\n",
            "<ipython-input-178-4bf2de84ae7f>:13: FutureWarning: The frame.append method is deprecated and will be removed from pandas in a future version. Use pandas.concat instead.\n",
            "  DATA[val]['data'] = DATA[val]['data'].append(data.iloc[ix])\n",
            "<ipython-input-178-4bf2de84ae7f>:13: FutureWarning: The frame.append method is deprecated and will be removed from pandas in a future version. Use pandas.concat instead.\n",
            "  DATA[val]['data'] = DATA[val]['data'].append(data.iloc[ix])\n",
            "<ipython-input-178-4bf2de84ae7f>:13: FutureWarning: In a future version, object-dtype columns with all-bool values will not be included in reductions with bool_only=True. Explicitly cast to bool dtype instead.\n",
            "  DATA[val]['data'] = DATA[val]['data'].append(data.iloc[ix])\n",
            "<ipython-input-178-4bf2de84ae7f>:13: FutureWarning: The frame.append method is deprecated and will be removed from pandas in a future version. Use pandas.concat instead.\n",
            "  DATA[val]['data'] = DATA[val]['data'].append(data.iloc[ix])\n",
            "<ipython-input-178-4bf2de84ae7f>:13: FutureWarning: In a future version, object-dtype columns with all-bool values will not be included in reductions with bool_only=True. Explicitly cast to bool dtype instead.\n",
            "  DATA[val]['data'] = DATA[val]['data'].append(data.iloc[ix])\n",
            "<ipython-input-178-4bf2de84ae7f>:13: FutureWarning: The frame.append method is deprecated and will be removed from pandas in a future version. Use pandas.concat instead.\n",
            "  DATA[val]['data'] = DATA[val]['data'].append(data.iloc[ix])\n",
            "<ipython-input-178-4bf2de84ae7f>:13: FutureWarning: The frame.append method is deprecated and will be removed from pandas in a future version. Use pandas.concat instead.\n",
            "  DATA[val]['data'] = DATA[val]['data'].append(data.iloc[ix])\n",
            "<ipython-input-178-4bf2de84ae7f>:13: FutureWarning: In a future version, object-dtype columns with all-bool values will not be included in reductions with bool_only=True. Explicitly cast to bool dtype instead.\n",
            "  DATA[val]['data'] = DATA[val]['data'].append(data.iloc[ix])\n",
            "<ipython-input-178-4bf2de84ae7f>:13: FutureWarning: The frame.append method is deprecated and will be removed from pandas in a future version. Use pandas.concat instead.\n",
            "  DATA[val]['data'] = DATA[val]['data'].append(data.iloc[ix])\n",
            "<ipython-input-178-4bf2de84ae7f>:13: FutureWarning: The frame.append method is deprecated and will be removed from pandas in a future version. Use pandas.concat instead.\n",
            "  DATA[val]['data'] = DATA[val]['data'].append(data.iloc[ix])\n",
            "<ipython-input-178-4bf2de84ae7f>:13: FutureWarning: The frame.append method is deprecated and will be removed from pandas in a future version. Use pandas.concat instead.\n",
            "  DATA[val]['data'] = DATA[val]['data'].append(data.iloc[ix])\n",
            "<ipython-input-178-4bf2de84ae7f>:13: FutureWarning: In a future version, object-dtype columns with all-bool values will not be included in reductions with bool_only=True. Explicitly cast to bool dtype instead.\n",
            "  DATA[val]['data'] = DATA[val]['data'].append(data.iloc[ix])\n",
            "<ipython-input-178-4bf2de84ae7f>:13: FutureWarning: The frame.append method is deprecated and will be removed from pandas in a future version. Use pandas.concat instead.\n",
            "  DATA[val]['data'] = DATA[val]['data'].append(data.iloc[ix])\n",
            "<ipython-input-178-4bf2de84ae7f>:13: FutureWarning: In a future version, object-dtype columns with all-bool values will not be included in reductions with bool_only=True. Explicitly cast to bool dtype instead.\n",
            "  DATA[val]['data'] = DATA[val]['data'].append(data.iloc[ix])\n",
            "<ipython-input-178-4bf2de84ae7f>:13: FutureWarning: The frame.append method is deprecated and will be removed from pandas in a future version. Use pandas.concat instead.\n",
            "  DATA[val]['data'] = DATA[val]['data'].append(data.iloc[ix])\n",
            "<ipython-input-178-4bf2de84ae7f>:13: FutureWarning: In a future version, object-dtype columns with all-bool values will not be included in reductions with bool_only=True. Explicitly cast to bool dtype instead.\n",
            "  DATA[val]['data'] = DATA[val]['data'].append(data.iloc[ix])\n",
            "<ipython-input-178-4bf2de84ae7f>:13: FutureWarning: The frame.append method is deprecated and will be removed from pandas in a future version. Use pandas.concat instead.\n",
            "  DATA[val]['data'] = DATA[val]['data'].append(data.iloc[ix])\n",
            "<ipython-input-178-4bf2de84ae7f>:13: FutureWarning: The frame.append method is deprecated and will be removed from pandas in a future version. Use pandas.concat instead.\n",
            "  DATA[val]['data'] = DATA[val]['data'].append(data.iloc[ix])\n",
            "<ipython-input-178-4bf2de84ae7f>:13: FutureWarning: In a future version, object-dtype columns with all-bool values will not be included in reductions with bool_only=True. Explicitly cast to bool dtype instead.\n",
            "  DATA[val]['data'] = DATA[val]['data'].append(data.iloc[ix])\n",
            "<ipython-input-178-4bf2de84ae7f>:13: FutureWarning: The frame.append method is deprecated and will be removed from pandas in a future version. Use pandas.concat instead.\n",
            "  DATA[val]['data'] = DATA[val]['data'].append(data.iloc[ix])\n",
            "<ipython-input-178-4bf2de84ae7f>:13: FutureWarning: In a future version, object-dtype columns with all-bool values will not be included in reductions with bool_only=True. Explicitly cast to bool dtype instead.\n",
            "  DATA[val]['data'] = DATA[val]['data'].append(data.iloc[ix])\n",
            "<ipython-input-178-4bf2de84ae7f>:13: FutureWarning: The frame.append method is deprecated and will be removed from pandas in a future version. Use pandas.concat instead.\n",
            "  DATA[val]['data'] = DATA[val]['data'].append(data.iloc[ix])\n",
            "<ipython-input-178-4bf2de84ae7f>:13: FutureWarning: The frame.append method is deprecated and will be removed from pandas in a future version. Use pandas.concat instead.\n",
            "  DATA[val]['data'] = DATA[val]['data'].append(data.iloc[ix])\n",
            "<ipython-input-178-4bf2de84ae7f>:13: FutureWarning: In a future version, object-dtype columns with all-bool values will not be included in reductions with bool_only=True. Explicitly cast to bool dtype instead.\n",
            "  DATA[val]['data'] = DATA[val]['data'].append(data.iloc[ix])\n",
            "<ipython-input-178-4bf2de84ae7f>:13: FutureWarning: The frame.append method is deprecated and will be removed from pandas in a future version. Use pandas.concat instead.\n",
            "  DATA[val]['data'] = DATA[val]['data'].append(data.iloc[ix])\n",
            "<ipython-input-178-4bf2de84ae7f>:13: FutureWarning: The frame.append method is deprecated and will be removed from pandas in a future version. Use pandas.concat instead.\n",
            "  DATA[val]['data'] = DATA[val]['data'].append(data.iloc[ix])\n",
            "<ipython-input-178-4bf2de84ae7f>:13: FutureWarning: In a future version, object-dtype columns with all-bool values will not be included in reductions with bool_only=True. Explicitly cast to bool dtype instead.\n",
            "  DATA[val]['data'] = DATA[val]['data'].append(data.iloc[ix])\n",
            "<ipython-input-178-4bf2de84ae7f>:13: FutureWarning: The frame.append method is deprecated and will be removed from pandas in a future version. Use pandas.concat instead.\n",
            "  DATA[val]['data'] = DATA[val]['data'].append(data.iloc[ix])\n",
            "<ipython-input-178-4bf2de84ae7f>:13: FutureWarning: In a future version, object-dtype columns with all-bool values will not be included in reductions with bool_only=True. Explicitly cast to bool dtype instead.\n",
            "  DATA[val]['data'] = DATA[val]['data'].append(data.iloc[ix])\n",
            "<ipython-input-178-4bf2de84ae7f>:13: FutureWarning: The frame.append method is deprecated and will be removed from pandas in a future version. Use pandas.concat instead.\n",
            "  DATA[val]['data'] = DATA[val]['data'].append(data.iloc[ix])\n",
            "<ipython-input-178-4bf2de84ae7f>:13: FutureWarning: The frame.append method is deprecated and will be removed from pandas in a future version. Use pandas.concat instead.\n",
            "  DATA[val]['data'] = DATA[val]['data'].append(data.iloc[ix])\n",
            "<ipython-input-178-4bf2de84ae7f>:13: FutureWarning: In a future version, object-dtype columns with all-bool values will not be included in reductions with bool_only=True. Explicitly cast to bool dtype instead.\n",
            "  DATA[val]['data'] = DATA[val]['data'].append(data.iloc[ix])\n",
            "<ipython-input-178-4bf2de84ae7f>:13: FutureWarning: The frame.append method is deprecated and will be removed from pandas in a future version. Use pandas.concat instead.\n",
            "  DATA[val]['data'] = DATA[val]['data'].append(data.iloc[ix])\n"
          ]
        },
        {
          "output_type": "stream",
          "name": "stdout",
          "text": [
            "Making tress with -  Outlook\n",
            "\tMaking tress with -  Humidity\n"
          ]
        },
        {
          "output_type": "stream",
          "name": "stderr",
          "text": [
            "<ipython-input-178-4bf2de84ae7f>:13: FutureWarning: The frame.append method is deprecated and will be removed from pandas in a future version. Use pandas.concat instead.\n",
            "  DATA[val]['data'] = DATA[val]['data'].append(data.iloc[ix])\n",
            "<ipython-input-178-4bf2de84ae7f>:13: FutureWarning: The frame.append method is deprecated and will be removed from pandas in a future version. Use pandas.concat instead.\n",
            "  DATA[val]['data'] = DATA[val]['data'].append(data.iloc[ix])\n",
            "<ipython-input-178-4bf2de84ae7f>:13: FutureWarning: In a future version, object-dtype columns with all-bool values will not be included in reductions with bool_only=True. Explicitly cast to bool dtype instead.\n",
            "  DATA[val]['data'] = DATA[val]['data'].append(data.iloc[ix])\n",
            "<ipython-input-178-4bf2de84ae7f>:13: FutureWarning: The frame.append method is deprecated and will be removed from pandas in a future version. Use pandas.concat instead.\n",
            "  DATA[val]['data'] = DATA[val]['data'].append(data.iloc[ix])\n",
            "<ipython-input-178-4bf2de84ae7f>:13: FutureWarning: In a future version, object-dtype columns with all-bool values will not be included in reductions with bool_only=True. Explicitly cast to bool dtype instead.\n",
            "  DATA[val]['data'] = DATA[val]['data'].append(data.iloc[ix])\n",
            "<ipython-input-178-4bf2de84ae7f>:13: FutureWarning: The frame.append method is deprecated and will be removed from pandas in a future version. Use pandas.concat instead.\n",
            "  DATA[val]['data'] = DATA[val]['data'].append(data.iloc[ix])\n",
            "<ipython-input-178-4bf2de84ae7f>:13: FutureWarning: The frame.append method is deprecated and will be removed from pandas in a future version. Use pandas.concat instead.\n",
            "  DATA[val]['data'] = DATA[val]['data'].append(data.iloc[ix])\n",
            "<ipython-input-178-4bf2de84ae7f>:13: FutureWarning: The frame.append method is deprecated and will be removed from pandas in a future version. Use pandas.concat instead.\n",
            "  DATA[val]['data'] = DATA[val]['data'].append(data.iloc[ix])\n",
            "<ipython-input-178-4bf2de84ae7f>:13: FutureWarning: In a future version, object-dtype columns with all-bool values will not be included in reductions with bool_only=True. Explicitly cast to bool dtype instead.\n",
            "  DATA[val]['data'] = DATA[val]['data'].append(data.iloc[ix])\n",
            "<ipython-input-178-4bf2de84ae7f>:13: FutureWarning: The frame.append method is deprecated and will be removed from pandas in a future version. Use pandas.concat instead.\n",
            "  DATA[val]['data'] = DATA[val]['data'].append(data.iloc[ix])\n",
            "<ipython-input-178-4bf2de84ae7f>:13: FutureWarning: The frame.append method is deprecated and will be removed from pandas in a future version. Use pandas.concat instead.\n",
            "  DATA[val]['data'] = DATA[val]['data'].append(data.iloc[ix])\n",
            "<ipython-input-178-4bf2de84ae7f>:13: FutureWarning: In a future version, object-dtype columns with all-bool values will not be included in reductions with bool_only=True. Explicitly cast to bool dtype instead.\n",
            "  DATA[val]['data'] = DATA[val]['data'].append(data.iloc[ix])\n",
            "<ipython-input-178-4bf2de84ae7f>:13: FutureWarning: The frame.append method is deprecated and will be removed from pandas in a future version. Use pandas.concat instead.\n",
            "  DATA[val]['data'] = DATA[val]['data'].append(data.iloc[ix])\n",
            "<ipython-input-178-4bf2de84ae7f>:13: FutureWarning: In a future version, object-dtype columns with all-bool values will not be included in reductions with bool_only=True. Explicitly cast to bool dtype instead.\n",
            "  DATA[val]['data'] = DATA[val]['data'].append(data.iloc[ix])\n",
            "<ipython-input-178-4bf2de84ae7f>:13: FutureWarning: The frame.append method is deprecated and will be removed from pandas in a future version. Use pandas.concat instead.\n",
            "  DATA[val]['data'] = DATA[val]['data'].append(data.iloc[ix])\n",
            "<ipython-input-178-4bf2de84ae7f>:13: FutureWarning: The frame.append method is deprecated and will be removed from pandas in a future version. Use pandas.concat instead.\n",
            "  DATA[val]['data'] = DATA[val]['data'].append(data.iloc[ix])\n",
            "<ipython-input-178-4bf2de84ae7f>:13: FutureWarning: In a future version, object-dtype columns with all-bool values will not be included in reductions with bool_only=True. Explicitly cast to bool dtype instead.\n",
            "  DATA[val]['data'] = DATA[val]['data'].append(data.iloc[ix])\n",
            "<ipython-input-178-4bf2de84ae7f>:13: FutureWarning: The frame.append method is deprecated and will be removed from pandas in a future version. Use pandas.concat instead.\n",
            "  DATA[val]['data'] = DATA[val]['data'].append(data.iloc[ix])\n",
            "<ipython-input-178-4bf2de84ae7f>:13: FutureWarning: The frame.append method is deprecated and will be removed from pandas in a future version. Use pandas.concat instead.\n",
            "  DATA[val]['data'] = DATA[val]['data'].append(data.iloc[ix])\n",
            "<ipython-input-178-4bf2de84ae7f>:13: FutureWarning: The frame.append method is deprecated and will be removed from pandas in a future version. Use pandas.concat instead.\n",
            "  DATA[val]['data'] = DATA[val]['data'].append(data.iloc[ix])\n",
            "<ipython-input-178-4bf2de84ae7f>:13: FutureWarning: The frame.append method is deprecated and will be removed from pandas in a future version. Use pandas.concat instead.\n",
            "  DATA[val]['data'] = DATA[val]['data'].append(data.iloc[ix])\n",
            "<ipython-input-178-4bf2de84ae7f>:13: FutureWarning: In a future version, object-dtype columns with all-bool values will not be included in reductions with bool_only=True. Explicitly cast to bool dtype instead.\n",
            "  DATA[val]['data'] = DATA[val]['data'].append(data.iloc[ix])\n",
            "<ipython-input-178-4bf2de84ae7f>:13: FutureWarning: The frame.append method is deprecated and will be removed from pandas in a future version. Use pandas.concat instead.\n",
            "  DATA[val]['data'] = DATA[val]['data'].append(data.iloc[ix])\n",
            "<ipython-input-178-4bf2de84ae7f>:13: FutureWarning: The frame.append method is deprecated and will be removed from pandas in a future version. Use pandas.concat instead.\n",
            "  DATA[val]['data'] = DATA[val]['data'].append(data.iloc[ix])\n",
            "<ipython-input-178-4bf2de84ae7f>:13: FutureWarning: The frame.append method is deprecated and will be removed from pandas in a future version. Use pandas.concat instead.\n",
            "  DATA[val]['data'] = DATA[val]['data'].append(data.iloc[ix])\n",
            "<ipython-input-178-4bf2de84ae7f>:13: FutureWarning: The frame.append method is deprecated and will be removed from pandas in a future version. Use pandas.concat instead.\n",
            "  DATA[val]['data'] = DATA[val]['data'].append(data.iloc[ix])\n",
            "<ipython-input-178-4bf2de84ae7f>:13: FutureWarning: In a future version, object-dtype columns with all-bool values will not be included in reductions with bool_only=True. Explicitly cast to bool dtype instead.\n",
            "  DATA[val]['data'] = DATA[val]['data'].append(data.iloc[ix])\n",
            "<ipython-input-178-4bf2de84ae7f>:13: FutureWarning: The frame.append method is deprecated and will be removed from pandas in a future version. Use pandas.concat instead.\n",
            "  DATA[val]['data'] = DATA[val]['data'].append(data.iloc[ix])\n",
            "<ipython-input-178-4bf2de84ae7f>:13: FutureWarning: The frame.append method is deprecated and will be removed from pandas in a future version. Use pandas.concat instead.\n",
            "  DATA[val]['data'] = DATA[val]['data'].append(data.iloc[ix])\n",
            "<ipython-input-178-4bf2de84ae7f>:13: FutureWarning: In a future version, object-dtype columns with all-bool values will not be included in reductions with bool_only=True. Explicitly cast to bool dtype instead.\n",
            "  DATA[val]['data'] = DATA[val]['data'].append(data.iloc[ix])\n",
            "<ipython-input-178-4bf2de84ae7f>:13: FutureWarning: The frame.append method is deprecated and will be removed from pandas in a future version. Use pandas.concat instead.\n",
            "  DATA[val]['data'] = DATA[val]['data'].append(data.iloc[ix])\n",
            "<ipython-input-178-4bf2de84ae7f>:13: FutureWarning: In a future version, object-dtype columns with all-bool values will not be included in reductions with bool_only=True. Explicitly cast to bool dtype instead.\n",
            "  DATA[val]['data'] = DATA[val]['data'].append(data.iloc[ix])\n",
            "<ipython-input-178-4bf2de84ae7f>:13: FutureWarning: The frame.append method is deprecated and will be removed from pandas in a future version. Use pandas.concat instead.\n",
            "  DATA[val]['data'] = DATA[val]['data'].append(data.iloc[ix])\n",
            "<ipython-input-178-4bf2de84ae7f>:13: FutureWarning: In a future version, object-dtype columns with all-bool values will not be included in reductions with bool_only=True. Explicitly cast to bool dtype instead.\n",
            "  DATA[val]['data'] = DATA[val]['data'].append(data.iloc[ix])\n",
            "<ipython-input-178-4bf2de84ae7f>:13: FutureWarning: The frame.append method is deprecated and will be removed from pandas in a future version. Use pandas.concat instead.\n",
            "  DATA[val]['data'] = DATA[val]['data'].append(data.iloc[ix])\n",
            "<ipython-input-178-4bf2de84ae7f>:13: FutureWarning: In a future version, object-dtype columns with all-bool values will not be included in reductions with bool_only=True. Explicitly cast to bool dtype instead.\n",
            "  DATA[val]['data'] = DATA[val]['data'].append(data.iloc[ix])\n",
            "<ipython-input-178-4bf2de84ae7f>:13: FutureWarning: The frame.append method is deprecated and will be removed from pandas in a future version. Use pandas.concat instead.\n",
            "  DATA[val]['data'] = DATA[val]['data'].append(data.iloc[ix])\n",
            "<ipython-input-178-4bf2de84ae7f>:13: FutureWarning: The frame.append method is deprecated and will be removed from pandas in a future version. Use pandas.concat instead.\n",
            "  DATA[val]['data'] = DATA[val]['data'].append(data.iloc[ix])\n",
            "<ipython-input-178-4bf2de84ae7f>:13: FutureWarning: The frame.append method is deprecated and will be removed from pandas in a future version. Use pandas.concat instead.\n",
            "  DATA[val]['data'] = DATA[val]['data'].append(data.iloc[ix])\n",
            "<ipython-input-178-4bf2de84ae7f>:13: FutureWarning: In a future version, object-dtype columns with all-bool values will not be included in reductions with bool_only=True. Explicitly cast to bool dtype instead.\n",
            "  DATA[val]['data'] = DATA[val]['data'].append(data.iloc[ix])\n",
            "<ipython-input-178-4bf2de84ae7f>:13: FutureWarning: The frame.append method is deprecated and will be removed from pandas in a future version. Use pandas.concat instead.\n",
            "  DATA[val]['data'] = DATA[val]['data'].append(data.iloc[ix])\n",
            "<ipython-input-178-4bf2de84ae7f>:13: FutureWarning: In a future version, object-dtype columns with all-bool values will not be included in reductions with bool_only=True. Explicitly cast to bool dtype instead.\n",
            "  DATA[val]['data'] = DATA[val]['data'].append(data.iloc[ix])\n",
            "<ipython-input-178-4bf2de84ae7f>:13: FutureWarning: The frame.append method is deprecated and will be removed from pandas in a future version. Use pandas.concat instead.\n",
            "  DATA[val]['data'] = DATA[val]['data'].append(data.iloc[ix])\n",
            "<ipython-input-178-4bf2de84ae7f>:13: FutureWarning: In a future version, object-dtype columns with all-bool values will not be included in reductions with bool_only=True. Explicitly cast to bool dtype instead.\n",
            "  DATA[val]['data'] = DATA[val]['data'].append(data.iloc[ix])\n",
            "<ipython-input-178-4bf2de84ae7f>:13: FutureWarning: The frame.append method is deprecated and will be removed from pandas in a future version. Use pandas.concat instead.\n",
            "  DATA[val]['data'] = DATA[val]['data'].append(data.iloc[ix])\n",
            "<ipython-input-178-4bf2de84ae7f>:13: FutureWarning: The frame.append method is deprecated and will be removed from pandas in a future version. Use pandas.concat instead.\n",
            "  DATA[val]['data'] = DATA[val]['data'].append(data.iloc[ix])\n",
            "<ipython-input-178-4bf2de84ae7f>:13: FutureWarning: The frame.append method is deprecated and will be removed from pandas in a future version. Use pandas.concat instead.\n",
            "  DATA[val]['data'] = DATA[val]['data'].append(data.iloc[ix])\n",
            "<ipython-input-178-4bf2de84ae7f>:13: FutureWarning: In a future version, object-dtype columns with all-bool values will not be included in reductions with bool_only=True. Explicitly cast to bool dtype instead.\n",
            "  DATA[val]['data'] = DATA[val]['data'].append(data.iloc[ix])\n",
            "<ipython-input-178-4bf2de84ae7f>:13: FutureWarning: The frame.append method is deprecated and will be removed from pandas in a future version. Use pandas.concat instead.\n",
            "  DATA[val]['data'] = DATA[val]['data'].append(data.iloc[ix])\n",
            "<ipython-input-178-4bf2de84ae7f>:13: FutureWarning: In a future version, object-dtype columns with all-bool values will not be included in reductions with bool_only=True. Explicitly cast to bool dtype instead.\n",
            "  DATA[val]['data'] = DATA[val]['data'].append(data.iloc[ix])\n",
            "<ipython-input-178-4bf2de84ae7f>:13: FutureWarning: The frame.append method is deprecated and will be removed from pandas in a future version. Use pandas.concat instead.\n",
            "  DATA[val]['data'] = DATA[val]['data'].append(data.iloc[ix])\n",
            "<ipython-input-178-4bf2de84ae7f>:13: FutureWarning: In a future version, object-dtype columns with all-bool values will not be included in reductions with bool_only=True. Explicitly cast to bool dtype instead.\n",
            "  DATA[val]['data'] = DATA[val]['data'].append(data.iloc[ix])\n",
            "<ipython-input-178-4bf2de84ae7f>:13: FutureWarning: The frame.append method is deprecated and will be removed from pandas in a future version. Use pandas.concat instead.\n",
            "  DATA[val]['data'] = DATA[val]['data'].append(data.iloc[ix])\n",
            "<ipython-input-178-4bf2de84ae7f>:13: FutureWarning: The frame.append method is deprecated and will be removed from pandas in a future version. Use pandas.concat instead.\n",
            "  DATA[val]['data'] = DATA[val]['data'].append(data.iloc[ix])\n",
            "<ipython-input-178-4bf2de84ae7f>:13: FutureWarning: In a future version, object-dtype columns with all-bool values will not be included in reductions with bool_only=True. Explicitly cast to bool dtype instead.\n",
            "  DATA[val]['data'] = DATA[val]['data'].append(data.iloc[ix])\n",
            "<ipython-input-178-4bf2de84ae7f>:13: FutureWarning: The frame.append method is deprecated and will be removed from pandas in a future version. Use pandas.concat instead.\n",
            "  DATA[val]['data'] = DATA[val]['data'].append(data.iloc[ix])\n",
            "<ipython-input-178-4bf2de84ae7f>:13: FutureWarning: The frame.append method is deprecated and will be removed from pandas in a future version. Use pandas.concat instead.\n",
            "  DATA[val]['data'] = DATA[val]['data'].append(data.iloc[ix])\n",
            "<ipython-input-178-4bf2de84ae7f>:13: FutureWarning: In a future version, object-dtype columns with all-bool values will not be included in reductions with bool_only=True. Explicitly cast to bool dtype instead.\n",
            "  DATA[val]['data'] = DATA[val]['data'].append(data.iloc[ix])\n",
            "<ipython-input-178-4bf2de84ae7f>:13: FutureWarning: The frame.append method is deprecated and will be removed from pandas in a future version. Use pandas.concat instead.\n",
            "  DATA[val]['data'] = DATA[val]['data'].append(data.iloc[ix])\n",
            "<ipython-input-178-4bf2de84ae7f>:13: FutureWarning: In a future version, object-dtype columns with all-bool values will not be included in reductions with bool_only=True. Explicitly cast to bool dtype instead.\n",
            "  DATA[val]['data'] = DATA[val]['data'].append(data.iloc[ix])\n",
            "<ipython-input-178-4bf2de84ae7f>:13: FutureWarning: The frame.append method is deprecated and will be removed from pandas in a future version. Use pandas.concat instead.\n",
            "  DATA[val]['data'] = DATA[val]['data'].append(data.iloc[ix])\n",
            "<ipython-input-178-4bf2de84ae7f>:13: FutureWarning: The frame.append method is deprecated and will be removed from pandas in a future version. Use pandas.concat instead.\n",
            "  DATA[val]['data'] = DATA[val]['data'].append(data.iloc[ix])\n",
            "<ipython-input-178-4bf2de84ae7f>:13: FutureWarning: In a future version, object-dtype columns with all-bool values will not be included in reductions with bool_only=True. Explicitly cast to bool dtype instead.\n",
            "  DATA[val]['data'] = DATA[val]['data'].append(data.iloc[ix])\n",
            "<ipython-input-178-4bf2de84ae7f>:13: FutureWarning: The frame.append method is deprecated and will be removed from pandas in a future version. Use pandas.concat instead.\n",
            "  DATA[val]['data'] = DATA[val]['data'].append(data.iloc[ix])\n",
            "<ipython-input-178-4bf2de84ae7f>:13: FutureWarning: The frame.append method is deprecated and will be removed from pandas in a future version. Use pandas.concat instead.\n",
            "  DATA[val]['data'] = DATA[val]['data'].append(data.iloc[ix])\n",
            "<ipython-input-178-4bf2de84ae7f>:13: FutureWarning: In a future version, object-dtype columns with all-bool values will not be included in reductions with bool_only=True. Explicitly cast to bool dtype instead.\n",
            "  DATA[val]['data'] = DATA[val]['data'].append(data.iloc[ix])\n",
            "<ipython-input-178-4bf2de84ae7f>:13: FutureWarning: The frame.append method is deprecated and will be removed from pandas in a future version. Use pandas.concat instead.\n",
            "  DATA[val]['data'] = DATA[val]['data'].append(data.iloc[ix])\n",
            "<ipython-input-178-4bf2de84ae7f>:13: FutureWarning: In a future version, object-dtype columns with all-bool values will not be included in reductions with bool_only=True. Explicitly cast to bool dtype instead.\n",
            "  DATA[val]['data'] = DATA[val]['data'].append(data.iloc[ix])\n",
            "<ipython-input-178-4bf2de84ae7f>:13: FutureWarning: The frame.append method is deprecated and will be removed from pandas in a future version. Use pandas.concat instead.\n",
            "  DATA[val]['data'] = DATA[val]['data'].append(data.iloc[ix])\n",
            "<ipython-input-178-4bf2de84ae7f>:13: FutureWarning: The frame.append method is deprecated and will be removed from pandas in a future version. Use pandas.concat instead.\n",
            "  DATA[val]['data'] = DATA[val]['data'].append(data.iloc[ix])\n",
            "<ipython-input-178-4bf2de84ae7f>:13: FutureWarning: In a future version, object-dtype columns with all-bool values will not be included in reductions with bool_only=True. Explicitly cast to bool dtype instead.\n",
            "  DATA[val]['data'] = DATA[val]['data'].append(data.iloc[ix])\n",
            "<ipython-input-178-4bf2de84ae7f>:13: FutureWarning: The frame.append method is deprecated and will be removed from pandas in a future version. Use pandas.concat instead.\n",
            "  DATA[val]['data'] = DATA[val]['data'].append(data.iloc[ix])\n",
            "<ipython-input-178-4bf2de84ae7f>:13: FutureWarning: In a future version, object-dtype columns with all-bool values will not be included in reductions with bool_only=True. Explicitly cast to bool dtype instead.\n",
            "  DATA[val]['data'] = DATA[val]['data'].append(data.iloc[ix])\n",
            "<ipython-input-178-4bf2de84ae7f>:13: FutureWarning: The frame.append method is deprecated and will be removed from pandas in a future version. Use pandas.concat instead.\n",
            "  DATA[val]['data'] = DATA[val]['data'].append(data.iloc[ix])\n",
            "<ipython-input-178-4bf2de84ae7f>:13: FutureWarning: The frame.append method is deprecated and will be removed from pandas in a future version. Use pandas.concat instead.\n",
            "  DATA[val]['data'] = DATA[val]['data'].append(data.iloc[ix])\n",
            "<ipython-input-178-4bf2de84ae7f>:13: FutureWarning: The frame.append method is deprecated and will be removed from pandas in a future version. Use pandas.concat instead.\n",
            "  DATA[val]['data'] = DATA[val]['data'].append(data.iloc[ix])\n",
            "<ipython-input-178-4bf2de84ae7f>:13: FutureWarning: In a future version, object-dtype columns with all-bool values will not be included in reductions with bool_only=True. Explicitly cast to bool dtype instead.\n",
            "  DATA[val]['data'] = DATA[val]['data'].append(data.iloc[ix])\n",
            "<ipython-input-178-4bf2de84ae7f>:13: FutureWarning: The frame.append method is deprecated and will be removed from pandas in a future version. Use pandas.concat instead.\n",
            "  DATA[val]['data'] = DATA[val]['data'].append(data.iloc[ix])\n",
            "<ipython-input-178-4bf2de84ae7f>:13: FutureWarning: The frame.append method is deprecated and will be removed from pandas in a future version. Use pandas.concat instead.\n",
            "  DATA[val]['data'] = DATA[val]['data'].append(data.iloc[ix])\n",
            "<ipython-input-178-4bf2de84ae7f>:13: FutureWarning: The frame.append method is deprecated and will be removed from pandas in a future version. Use pandas.concat instead.\n",
            "  DATA[val]['data'] = DATA[val]['data'].append(data.iloc[ix])\n",
            "<ipython-input-178-4bf2de84ae7f>:13: FutureWarning: In a future version, object-dtype columns with all-bool values will not be included in reductions with bool_only=True. Explicitly cast to bool dtype instead.\n",
            "  DATA[val]['data'] = DATA[val]['data'].append(data.iloc[ix])\n",
            "<ipython-input-178-4bf2de84ae7f>:13: FutureWarning: The frame.append method is deprecated and will be removed from pandas in a future version. Use pandas.concat instead.\n",
            "  DATA[val]['data'] = DATA[val]['data'].append(data.iloc[ix])\n",
            "<ipython-input-178-4bf2de84ae7f>:13: FutureWarning: The frame.append method is deprecated and will be removed from pandas in a future version. Use pandas.concat instead.\n",
            "  DATA[val]['data'] = DATA[val]['data'].append(data.iloc[ix])\n",
            "<ipython-input-178-4bf2de84ae7f>:13: FutureWarning: In a future version, object-dtype columns with all-bool values will not be included in reductions with bool_only=True. Explicitly cast to bool dtype instead.\n",
            "  DATA[val]['data'] = DATA[val]['data'].append(data.iloc[ix])\n",
            "<ipython-input-178-4bf2de84ae7f>:13: FutureWarning: The frame.append method is deprecated and will be removed from pandas in a future version. Use pandas.concat instead.\n",
            "  DATA[val]['data'] = DATA[val]['data'].append(data.iloc[ix])\n",
            "<ipython-input-178-4bf2de84ae7f>:13: FutureWarning: In a future version, object-dtype columns with all-bool values will not be included in reductions with bool_only=True. Explicitly cast to bool dtype instead.\n",
            "  DATA[val]['data'] = DATA[val]['data'].append(data.iloc[ix])\n",
            "<ipython-input-178-4bf2de84ae7f>:13: FutureWarning: The frame.append method is deprecated and will be removed from pandas in a future version. Use pandas.concat instead.\n",
            "  DATA[val]['data'] = DATA[val]['data'].append(data.iloc[ix])\n",
            "<ipython-input-178-4bf2de84ae7f>:13: FutureWarning: The frame.append method is deprecated and will be removed from pandas in a future version. Use pandas.concat instead.\n",
            "  DATA[val]['data'] = DATA[val]['data'].append(data.iloc[ix])\n",
            "<ipython-input-178-4bf2de84ae7f>:13: FutureWarning: In a future version, object-dtype columns with all-bool values will not be included in reductions with bool_only=True. Explicitly cast to bool dtype instead.\n",
            "  DATA[val]['data'] = DATA[val]['data'].append(data.iloc[ix])\n",
            "<ipython-input-178-4bf2de84ae7f>:13: FutureWarning: The frame.append method is deprecated and will be removed from pandas in a future version. Use pandas.concat instead.\n",
            "  DATA[val]['data'] = DATA[val]['data'].append(data.iloc[ix])\n",
            "<ipython-input-178-4bf2de84ae7f>:13: FutureWarning: In a future version, object-dtype columns with all-bool values will not be included in reductions with bool_only=True. Explicitly cast to bool dtype instead.\n",
            "  DATA[val]['data'] = DATA[val]['data'].append(data.iloc[ix])\n",
            "<ipython-input-178-4bf2de84ae7f>:13: FutureWarning: The frame.append method is deprecated and will be removed from pandas in a future version. Use pandas.concat instead.\n",
            "  DATA[val]['data'] = DATA[val]['data'].append(data.iloc[ix])\n",
            "<ipython-input-178-4bf2de84ae7f>:13: FutureWarning: The frame.append method is deprecated and will be removed from pandas in a future version. Use pandas.concat instead.\n",
            "  DATA[val]['data'] = DATA[val]['data'].append(data.iloc[ix])\n",
            "<ipython-input-178-4bf2de84ae7f>:13: FutureWarning: In a future version, object-dtype columns with all-bool values will not be included in reductions with bool_only=True. Explicitly cast to bool dtype instead.\n",
            "  DATA[val]['data'] = DATA[val]['data'].append(data.iloc[ix])\n",
            "<ipython-input-178-4bf2de84ae7f>:13: FutureWarning: The frame.append method is deprecated and will be removed from pandas in a future version. Use pandas.concat instead.\n",
            "  DATA[val]['data'] = DATA[val]['data'].append(data.iloc[ix])\n",
            "<ipython-input-178-4bf2de84ae7f>:13: FutureWarning: The frame.append method is deprecated and will be removed from pandas in a future version. Use pandas.concat instead.\n",
            "  DATA[val]['data'] = DATA[val]['data'].append(data.iloc[ix])\n",
            "<ipython-input-178-4bf2de84ae7f>:13: FutureWarning: The frame.append method is deprecated and will be removed from pandas in a future version. Use pandas.concat instead.\n",
            "  DATA[val]['data'] = DATA[val]['data'].append(data.iloc[ix])\n",
            "<ipython-input-178-4bf2de84ae7f>:13: FutureWarning: The frame.append method is deprecated and will be removed from pandas in a future version. Use pandas.concat instead.\n",
            "  DATA[val]['data'] = DATA[val]['data'].append(data.iloc[ix])\n"
          ]
        },
        {
          "output_type": "stream",
          "name": "stdout",
          "text": [
            "\tMaking tress with -  Windy\n"
          ]
        },
        {
          "output_type": "stream",
          "name": "stderr",
          "text": [
            "<ipython-input-178-4bf2de84ae7f>:13: FutureWarning: The frame.append method is deprecated and will be removed from pandas in a future version. Use pandas.concat instead.\n",
            "  DATA[val]['data'] = DATA[val]['data'].append(data.iloc[ix])\n",
            "<ipython-input-178-4bf2de84ae7f>:13: FutureWarning: The frame.append method is deprecated and will be removed from pandas in a future version. Use pandas.concat instead.\n",
            "  DATA[val]['data'] = DATA[val]['data'].append(data.iloc[ix])\n",
            "<ipython-input-178-4bf2de84ae7f>:13: FutureWarning: In a future version, object-dtype columns with all-bool values will not be included in reductions with bool_only=True. Explicitly cast to bool dtype instead.\n",
            "  DATA[val]['data'] = DATA[val]['data'].append(data.iloc[ix])\n",
            "<ipython-input-178-4bf2de84ae7f>:13: FutureWarning: The frame.append method is deprecated and will be removed from pandas in a future version. Use pandas.concat instead.\n",
            "  DATA[val]['data'] = DATA[val]['data'].append(data.iloc[ix])\n",
            "<ipython-input-178-4bf2de84ae7f>:13: FutureWarning: The frame.append method is deprecated and will be removed from pandas in a future version. Use pandas.concat instead.\n",
            "  DATA[val]['data'] = DATA[val]['data'].append(data.iloc[ix])\n",
            "<ipython-input-178-4bf2de84ae7f>:13: FutureWarning: In a future version, object-dtype columns with all-bool values will not be included in reductions with bool_only=True. Explicitly cast to bool dtype instead.\n",
            "  DATA[val]['data'] = DATA[val]['data'].append(data.iloc[ix])\n",
            "<ipython-input-178-4bf2de84ae7f>:13: FutureWarning: The frame.append method is deprecated and will be removed from pandas in a future version. Use pandas.concat instead.\n",
            "  DATA[val]['data'] = DATA[val]['data'].append(data.iloc[ix])\n",
            "<ipython-input-178-4bf2de84ae7f>:13: FutureWarning: The frame.append method is deprecated and will be removed from pandas in a future version. Use pandas.concat instead.\n",
            "  DATA[val]['data'] = DATA[val]['data'].append(data.iloc[ix])\n",
            "<ipython-input-178-4bf2de84ae7f>:13: FutureWarning: In a future version, object-dtype columns with all-bool values will not be included in reductions with bool_only=True. Explicitly cast to bool dtype instead.\n",
            "  DATA[val]['data'] = DATA[val]['data'].append(data.iloc[ix])\n",
            "<ipython-input-178-4bf2de84ae7f>:13: FutureWarning: The frame.append method is deprecated and will be removed from pandas in a future version. Use pandas.concat instead.\n",
            "  DATA[val]['data'] = DATA[val]['data'].append(data.iloc[ix])\n",
            "<ipython-input-178-4bf2de84ae7f>:13: FutureWarning: In a future version, object-dtype columns with all-bool values will not be included in reductions with bool_only=True. Explicitly cast to bool dtype instead.\n",
            "  DATA[val]['data'] = DATA[val]['data'].append(data.iloc[ix])\n",
            "<ipython-input-178-4bf2de84ae7f>:13: FutureWarning: The frame.append method is deprecated and will be removed from pandas in a future version. Use pandas.concat instead.\n",
            "  DATA[val]['data'] = DATA[val]['data'].append(data.iloc[ix])\n",
            "<ipython-input-178-4bf2de84ae7f>:13: FutureWarning: In a future version, object-dtype columns with all-bool values will not be included in reductions with bool_only=True. Explicitly cast to bool dtype instead.\n",
            "  DATA[val]['data'] = DATA[val]['data'].append(data.iloc[ix])\n",
            "<ipython-input-178-4bf2de84ae7f>:13: FutureWarning: The frame.append method is deprecated and will be removed from pandas in a future version. Use pandas.concat instead.\n",
            "  DATA[val]['data'] = DATA[val]['data'].append(data.iloc[ix])\n",
            "<ipython-input-178-4bf2de84ae7f>:13: FutureWarning: The frame.append method is deprecated and will be removed from pandas in a future version. Use pandas.concat instead.\n",
            "  DATA[val]['data'] = DATA[val]['data'].append(data.iloc[ix])\n",
            "<ipython-input-178-4bf2de84ae7f>:13: FutureWarning: The frame.append method is deprecated and will be removed from pandas in a future version. Use pandas.concat instead.\n",
            "  DATA[val]['data'] = DATA[val]['data'].append(data.iloc[ix])\n",
            "<ipython-input-178-4bf2de84ae7f>:13: FutureWarning: The frame.append method is deprecated and will be removed from pandas in a future version. Use pandas.concat instead.\n",
            "  DATA[val]['data'] = DATA[val]['data'].append(data.iloc[ix])\n",
            "<ipython-input-178-4bf2de84ae7f>:13: FutureWarning: In a future version, object-dtype columns with all-bool values will not be included in reductions with bool_only=True. Explicitly cast to bool dtype instead.\n",
            "  DATA[val]['data'] = DATA[val]['data'].append(data.iloc[ix])\n",
            "<ipython-input-178-4bf2de84ae7f>:13: FutureWarning: The frame.append method is deprecated and will be removed from pandas in a future version. Use pandas.concat instead.\n",
            "  DATA[val]['data'] = DATA[val]['data'].append(data.iloc[ix])\n",
            "<ipython-input-178-4bf2de84ae7f>:13: FutureWarning: The frame.append method is deprecated and will be removed from pandas in a future version. Use pandas.concat instead.\n",
            "  DATA[val]['data'] = DATA[val]['data'].append(data.iloc[ix])\n",
            "<ipython-input-178-4bf2de84ae7f>:13: FutureWarning: The frame.append method is deprecated and will be removed from pandas in a future version. Use pandas.concat instead.\n",
            "  DATA[val]['data'] = DATA[val]['data'].append(data.iloc[ix])\n",
            "<ipython-input-178-4bf2de84ae7f>:13: FutureWarning: In a future version, object-dtype columns with all-bool values will not be included in reductions with bool_only=True. Explicitly cast to bool dtype instead.\n",
            "  DATA[val]['data'] = DATA[val]['data'].append(data.iloc[ix])\n",
            "<ipython-input-178-4bf2de84ae7f>:13: FutureWarning: The frame.append method is deprecated and will be removed from pandas in a future version. Use pandas.concat instead.\n",
            "  DATA[val]['data'] = DATA[val]['data'].append(data.iloc[ix])\n",
            "<ipython-input-178-4bf2de84ae7f>:13: FutureWarning: In a future version, object-dtype columns with all-bool values will not be included in reductions with bool_only=True. Explicitly cast to bool dtype instead.\n",
            "  DATA[val]['data'] = DATA[val]['data'].append(data.iloc[ix])\n",
            "<ipython-input-178-4bf2de84ae7f>:13: FutureWarning: The frame.append method is deprecated and will be removed from pandas in a future version. Use pandas.concat instead.\n",
            "  DATA[val]['data'] = DATA[val]['data'].append(data.iloc[ix])\n",
            "<ipython-input-178-4bf2de84ae7f>:13: FutureWarning: The frame.append method is deprecated and will be removed from pandas in a future version. Use pandas.concat instead.\n",
            "  DATA[val]['data'] = DATA[val]['data'].append(data.iloc[ix])\n",
            "<ipython-input-178-4bf2de84ae7f>:13: FutureWarning: The frame.append method is deprecated and will be removed from pandas in a future version. Use pandas.concat instead.\n",
            "  DATA[val]['data'] = DATA[val]['data'].append(data.iloc[ix])\n",
            "<ipython-input-178-4bf2de84ae7f>:13: FutureWarning: In a future version, object-dtype columns with all-bool values will not be included in reductions with bool_only=True. Explicitly cast to bool dtype instead.\n",
            "  DATA[val]['data'] = DATA[val]['data'].append(data.iloc[ix])\n",
            "<ipython-input-178-4bf2de84ae7f>:13: FutureWarning: The frame.append method is deprecated and will be removed from pandas in a future version. Use pandas.concat instead.\n",
            "  DATA[val]['data'] = DATA[val]['data'].append(data.iloc[ix])\n",
            "<ipython-input-178-4bf2de84ae7f>:13: FutureWarning: In a future version, object-dtype columns with all-bool values will not be included in reductions with bool_only=True. Explicitly cast to bool dtype instead.\n",
            "  DATA[val]['data'] = DATA[val]['data'].append(data.iloc[ix])\n",
            "<ipython-input-178-4bf2de84ae7f>:13: FutureWarning: The frame.append method is deprecated and will be removed from pandas in a future version. Use pandas.concat instead.\n",
            "  DATA[val]['data'] = DATA[val]['data'].append(data.iloc[ix])\n",
            "<ipython-input-178-4bf2de84ae7f>:13: FutureWarning: The frame.append method is deprecated and will be removed from pandas in a future version. Use pandas.concat instead.\n",
            "  DATA[val]['data'] = DATA[val]['data'].append(data.iloc[ix])\n",
            "<ipython-input-178-4bf2de84ae7f>:13: FutureWarning: In a future version, object-dtype columns with all-bool values will not be included in reductions with bool_only=True. Explicitly cast to bool dtype instead.\n",
            "  DATA[val]['data'] = DATA[val]['data'].append(data.iloc[ix])\n",
            "<ipython-input-178-4bf2de84ae7f>:13: FutureWarning: The frame.append method is deprecated and will be removed from pandas in a future version. Use pandas.concat instead.\n",
            "  DATA[val]['data'] = DATA[val]['data'].append(data.iloc[ix])\n",
            "<ipython-input-178-4bf2de84ae7f>:13: FutureWarning: In a future version, object-dtype columns with all-bool values will not be included in reductions with bool_only=True. Explicitly cast to bool dtype instead.\n",
            "  DATA[val]['data'] = DATA[val]['data'].append(data.iloc[ix])\n",
            "<ipython-input-178-4bf2de84ae7f>:13: FutureWarning: The frame.append method is deprecated and will be removed from pandas in a future version. Use pandas.concat instead.\n",
            "  DATA[val]['data'] = DATA[val]['data'].append(data.iloc[ix])\n",
            "<ipython-input-178-4bf2de84ae7f>:13: FutureWarning: In a future version, object-dtype columns with all-bool values will not be included in reductions with bool_only=True. Explicitly cast to bool dtype instead.\n",
            "  DATA[val]['data'] = DATA[val]['data'].append(data.iloc[ix])\n"
          ]
        }
      ]
    },
    {
      "cell_type": "code",
      "source": [
        "model"
      ],
      "metadata": {
        "colab": {
          "base_uri": "https://localhost:8080/"
        },
        "id": "JI9EdBC4y1bx",
        "outputId": "4fb54701-a638-4f0b-a90c-514457b8f04e"
      },
      "execution_count": 193,
      "outputs": [
        {
          "output_type": "execute_result",
          "data": {
            "text/plain": [
              "<__main__.DecisionTree at 0x797854af4ac0>"
            ]
          },
          "metadata": {},
          "execution_count": 193
        }
      ]
    },
    {
      "cell_type": "code",
      "source": [
        "model.target"
      ],
      "metadata": {
        "colab": {
          "base_uri": "https://localhost:8080/",
          "height": 35
        },
        "id": "ys7xgA-c0Ccs",
        "outputId": "2e9c8bbe-8ccd-48b8-f892-d8c5a3c21c81"
      },
      "execution_count": 194,
      "outputs": [
        {
          "output_type": "execute_result",
          "data": {
            "text/plain": [
              "'yes'"
            ],
            "application/vnd.google.colaboratory.intrinsic+json": {
              "type": "string"
            }
          },
          "metadata": {},
          "execution_count": 194
        }
      ]
    },
    {
      "cell_type": "code",
      "source": [
        "model.fkey"
      ],
      "metadata": {
        "colab": {
          "base_uri": "https://localhost:8080/",
          "height": 35
        },
        "id": "jtRkWpsY0Ecm",
        "outputId": "05614691-8a7a-433d-ef92-017aade6f7c1"
      },
      "execution_count": 195,
      "outputs": [
        {
          "output_type": "execute_result",
          "data": {
            "text/plain": [
              "'Outlook'"
            ],
            "application/vnd.google.colaboratory.intrinsic+json": {
              "type": "string"
            }
          },
          "metadata": {},
          "execution_count": 195
        }
      ]
    },
    {
      "cell_type": "code",
      "source": [
        "model.children"
      ],
      "metadata": {
        "colab": {
          "base_uri": "https://localhost:8080/"
        },
        "id": "1J05Eg_y0GhW",
        "outputId": "c4a992e6-c011-4455-9965-823c9f247598"
      },
      "execution_count": 196,
      "outputs": [
        {
          "output_type": "execute_result",
          "data": {
            "text/plain": [
              "{'sunny': <__main__.DecisionTree at 0x797854af4e20>,\n",
              " 'rainy': <__main__.DecisionTree at 0x797854af6680>,\n",
              " 'overcast': <__main__.DecisionTree at 0x7978907843a0>}"
            ]
          },
          "metadata": {},
          "execution_count": 196
        }
      ]
    },
    {
      "cell_type": "code",
      "source": [
        "model.children['sunny']"
      ],
      "metadata": {
        "colab": {
          "base_uri": "https://localhost:8080/"
        },
        "id": "OACCAxmU0Iue",
        "outputId": "2b8ac909-dd2d-426e-ba06-ece8e1461573"
      },
      "execution_count": 197,
      "outputs": [
        {
          "output_type": "execute_result",
          "data": {
            "text/plain": [
              "<__main__.DecisionTree at 0x797854af4e20>"
            ]
          },
          "metadata": {},
          "execution_count": 197
        }
      ]
    },
    {
      "cell_type": "code",
      "source": [
        "model.children['sunny'].fkey"
      ],
      "metadata": {
        "colab": {
          "base_uri": "https://localhost:8080/",
          "height": 35
        },
        "id": "d96S0pDw0RVq",
        "outputId": "ac28dd2a-594b-47e7-912e-05c7a8e46874"
      },
      "execution_count": 198,
      "outputs": [
        {
          "output_type": "execute_result",
          "data": {
            "text/plain": [
              "'Humidity'"
            ],
            "application/vnd.google.colaboratory.intrinsic+json": {
              "type": "string"
            }
          },
          "metadata": {},
          "execution_count": 198
        }
      ]
    },
    {
      "cell_type": "code",
      "source": [],
      "metadata": {
        "id": "WGelbqCB0TIv"
      },
      "execution_count": 198,
      "outputs": []
    },
    {
      "cell_type": "code",
      "source": [
        "x_test = pd.DataFrame([['overcast', 'hot', 'high', False]], columns = list(df.columns.values[:-1]))"
      ],
      "metadata": {
        "id": "RN6Szt7k021t"
      },
      "execution_count": 199,
      "outputs": []
    },
    {
      "cell_type": "code",
      "source": [
        "x_test"
      ],
      "metadata": {
        "colab": {
          "base_uri": "https://localhost:8080/",
          "height": 81
        },
        "id": "Uu1cgD-t1LkH",
        "outputId": "cbe8d4fe-2016-437b-eb5b-460795cc27db"
      },
      "execution_count": 200,
      "outputs": [
        {
          "output_type": "execute_result",
          "data": {
            "text/plain": [
              "    Outlook Temperature Humidity  Windy\n",
              "0  overcast         hot     high  False"
            ],
            "text/html": [
              "\n",
              "  <div id=\"df-9e8d9f74-d155-484b-aecf-5157dc34500b\" class=\"colab-df-container\">\n",
              "    <div>\n",
              "<style scoped>\n",
              "    .dataframe tbody tr th:only-of-type {\n",
              "        vertical-align: middle;\n",
              "    }\n",
              "\n",
              "    .dataframe tbody tr th {\n",
              "        vertical-align: top;\n",
              "    }\n",
              "\n",
              "    .dataframe thead th {\n",
              "        text-align: right;\n",
              "    }\n",
              "</style>\n",
              "<table border=\"1\" class=\"dataframe\">\n",
              "  <thead>\n",
              "    <tr style=\"text-align: right;\">\n",
              "      <th></th>\n",
              "      <th>Outlook</th>\n",
              "      <th>Temperature</th>\n",
              "      <th>Humidity</th>\n",
              "      <th>Windy</th>\n",
              "    </tr>\n",
              "  </thead>\n",
              "  <tbody>\n",
              "    <tr>\n",
              "      <th>0</th>\n",
              "      <td>overcast</td>\n",
              "      <td>hot</td>\n",
              "      <td>high</td>\n",
              "      <td>False</td>\n",
              "    </tr>\n",
              "  </tbody>\n",
              "</table>\n",
              "</div>\n",
              "    <div class=\"colab-df-buttons\">\n",
              "\n",
              "  <div class=\"colab-df-container\">\n",
              "    <button class=\"colab-df-convert\" onclick=\"convertToInteractive('df-9e8d9f74-d155-484b-aecf-5157dc34500b')\"\n",
              "            title=\"Convert this dataframe to an interactive table.\"\n",
              "            style=\"display:none;\">\n",
              "\n",
              "  <svg xmlns=\"http://www.w3.org/2000/svg\" height=\"24px\" viewBox=\"0 -960 960 960\">\n",
              "    <path d=\"M120-120v-720h720v720H120Zm60-500h600v-160H180v160Zm220 220h160v-160H400v160Zm0 220h160v-160H400v160ZM180-400h160v-160H180v160Zm440 0h160v-160H620v160ZM180-180h160v-160H180v160Zm440 0h160v-160H620v160Z\"/>\n",
              "  </svg>\n",
              "    </button>\n",
              "\n",
              "  <style>\n",
              "    .colab-df-container {\n",
              "      display:flex;\n",
              "      gap: 12px;\n",
              "    }\n",
              "\n",
              "    .colab-df-convert {\n",
              "      background-color: #E8F0FE;\n",
              "      border: none;\n",
              "      border-radius: 50%;\n",
              "      cursor: pointer;\n",
              "      display: none;\n",
              "      fill: #1967D2;\n",
              "      height: 32px;\n",
              "      padding: 0 0 0 0;\n",
              "      width: 32px;\n",
              "    }\n",
              "\n",
              "    .colab-df-convert:hover {\n",
              "      background-color: #E2EBFA;\n",
              "      box-shadow: 0px 1px 2px rgba(60, 64, 67, 0.3), 0px 1px 3px 1px rgba(60, 64, 67, 0.15);\n",
              "      fill: #174EA6;\n",
              "    }\n",
              "\n",
              "    .colab-df-buttons div {\n",
              "      margin-bottom: 4px;\n",
              "    }\n",
              "\n",
              "    [theme=dark] .colab-df-convert {\n",
              "      background-color: #3B4455;\n",
              "      fill: #D2E3FC;\n",
              "    }\n",
              "\n",
              "    [theme=dark] .colab-df-convert:hover {\n",
              "      background-color: #434B5C;\n",
              "      box-shadow: 0px 1px 3px 1px rgba(0, 0, 0, 0.15);\n",
              "      filter: drop-shadow(0px 1px 2px rgba(0, 0, 0, 0.3));\n",
              "      fill: #FFFFFF;\n",
              "    }\n",
              "  </style>\n",
              "\n",
              "    <script>\n",
              "      const buttonEl =\n",
              "        document.querySelector('#df-9e8d9f74-d155-484b-aecf-5157dc34500b button.colab-df-convert');\n",
              "      buttonEl.style.display =\n",
              "        google.colab.kernel.accessAllowed ? 'block' : 'none';\n",
              "\n",
              "      async function convertToInteractive(key) {\n",
              "        const element = document.querySelector('#df-9e8d9f74-d155-484b-aecf-5157dc34500b');\n",
              "        const dataTable =\n",
              "          await google.colab.kernel.invokeFunction('convertToInteractive',\n",
              "                                                    [key], {});\n",
              "        if (!dataTable) return;\n",
              "\n",
              "        const docLinkHtml = 'Like what you see? Visit the ' +\n",
              "          '<a target=\"_blank\" href=https://colab.research.google.com/notebooks/data_table.ipynb>data table notebook</a>'\n",
              "          + ' to learn more about interactive tables.';\n",
              "        element.innerHTML = '';\n",
              "        dataTable['output_type'] = 'display_data';\n",
              "        await google.colab.output.renderOutput(dataTable, element);\n",
              "        const docLink = document.createElement('div');\n",
              "        docLink.innerHTML = docLinkHtml;\n",
              "        element.appendChild(docLink);\n",
              "      }\n",
              "    </script>\n",
              "  </div>\n",
              "\n",
              "    </div>\n",
              "  </div>\n"
            ]
          },
          "metadata": {},
          "execution_count": 200
        }
      ]
    },
    {
      "cell_type": "code",
      "source": [
        "model.predict(x_test)"
      ],
      "metadata": {
        "colab": {
          "base_uri": "https://localhost:8080/",
          "height": 35
        },
        "id": "ZDsYatnW1MuW",
        "outputId": "23554437-b875-41c6-fe55-0e94e6e7dd80"
      },
      "execution_count": 201,
      "outputs": [
        {
          "output_type": "execute_result",
          "data": {
            "text/plain": [
              "'yes'"
            ],
            "application/vnd.google.colaboratory.intrinsic+json": {
              "type": "string"
            }
          },
          "metadata": {},
          "execution_count": 201
        }
      ]
    },
    {
      "cell_type": "code",
      "source": [],
      "metadata": {
        "id": "NxZ_iyvk2oR2"
      },
      "execution_count": null,
      "outputs": []
    }
  ]
}
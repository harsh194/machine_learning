{
  "nbformat": 4,
  "nbformat_minor": 0,
  "metadata": {
    "colab": {
      "provenance": [],
      "mount_file_id": "1MSyF6UI7hXEk2CuwNAGlqt7fOzdZP26Y",
      "authorship_tag": "ABX9TyNdRzZQ5P6mvhil0W9k3+3J",
      "include_colab_link": true
    },
    "kernelspec": {
      "name": "python3",
      "display_name": "Python 3"
    },
    "language_info": {
      "name": "python"
    }
  },
  "cells": [
    {
      "cell_type": "markdown",
      "metadata": {
        "id": "view-in-github",
        "colab_type": "text"
      },
      "source": [
        "<a href=\"https://colab.research.google.com/github/harsh194/machine_learning/blob/main/Pokemon.ipynb\" target=\"_parent\"><img src=\"https://colab.research.google.com/assets/colab-badge.svg\" alt=\"Open In Colab\"/></a>"
      ]
    },
    {
      "cell_type": "code",
      "execution_count": 45,
      "metadata": {
        "id": "PzxQ0kz5F9hY"
      },
      "outputs": [],
      "source": [
        "import numpy as np\n",
        "import pandas as pd\n",
        "import matplotlib.pyplot as plt\n",
        "import tensorflow as tf\n",
        "import os"
      ]
    },
    {
      "cell_type": "code",
      "source": [
        "new_directory = '/content/drive/MyDrive/Harsh/Machine Learning/Pokemon Classification'\n",
        "os.chdir(new_directory)"
      ],
      "metadata": {
        "id": "TcZncrtUHY51"
      },
      "execution_count": 46,
      "outputs": []
    },
    {
      "cell_type": "code",
      "source": [
        "classes = os.listdir(\"/content/drive/MyDrive/Harsh/Machine Learning/Pokemon Classification/Train\")\n",
        "classes"
      ],
      "metadata": {
        "colab": {
          "base_uri": "https://localhost:8080/"
        },
        "id": "wX3EAVvLIDDM",
        "outputId": "35d8732d-abd0-48f1-f3f4-051e17de5c7b"
      },
      "execution_count": 47,
      "outputs": [
        {
          "output_type": "execute_result",
          "data": {
            "text/plain": [
              "['Bulbasaur', 'Charmander', 'Pikachu']"
            ]
          },
          "metadata": {},
          "execution_count": 47
        }
      ]
    },
    {
      "cell_type": "code",
      "source": [
        "print(\"Training Data:\")\n",
        "for f in classes:\n",
        "    path = \"/content/drive/MyDrive/Harsh/Machine Learning/Pokemon Classification/Train/\" + f\n",
        "    print(f\"{f} - {len(os.listdir(path))}\")"
      ],
      "metadata": {
        "colab": {
          "base_uri": "https://localhost:8080/"
        },
        "id": "tJ3J9QQbIVbd",
        "outputId": "69b41472-03ad-4f38-e92f-82b22097ca64"
      },
      "execution_count": 48,
      "outputs": [
        {
          "output_type": "stream",
          "name": "stdout",
          "text": [
            "Training Data:\n",
            "Bulbasaur - 101\n",
            "Charmander - 102\n",
            "Pikachu - 101\n"
          ]
        }
      ]
    },
    {
      "cell_type": "code",
      "source": [
        "print(\"Testing Data:\")\n",
        "for f in classes:\n",
        "    path = \"/content/drive/MyDrive/Harsh/Machine Learning/Pokemon Classification/Test/\" + f\n",
        "    print(f\"{f} - {len(os.listdir(path))}\")"
      ],
      "metadata": {
        "colab": {
          "base_uri": "https://localhost:8080/"
        },
        "id": "ReBYl4GII3Wu",
        "outputId": "48bc9353-a85f-4002-b5da-d61151cb5b32"
      },
      "execution_count": 49,
      "outputs": [
        {
          "output_type": "stream",
          "name": "stdout",
          "text": [
            "Testing Data:\n",
            "Bulbasaur - 41\n",
            "Charmander - 42\n",
            "Pikachu - 40\n"
          ]
        }
      ]
    },
    {
      "cell_type": "code",
      "source": [
        "from keras.preprocessing import image"
      ],
      "metadata": {
        "id": "k4eBrySwLyq5"
      },
      "execution_count": 50,
      "outputs": []
    },
    {
      "cell_type": "code",
      "source": [
        "train_data = []\n",
        "train_labels =[]\n",
        "\n",
        "for category in classes:\n",
        "    folder = f\"/content/drive/MyDrive/Harsh/Machine Learning/Pokemon Classification/Train/\" + category\n",
        "    for img_name in os.listdir(folder):\n",
        "        img_path = f\"{folder}/{img_name}\"\n",
        "        img = image.load_img(img_path, target_size= (100,100))\n",
        "        img = image.img_to_array(img)\n",
        "        train_data.append(img)\n",
        "        train_labels.append(category)"
      ],
      "metadata": {
        "colab": {
          "base_uri": "https://localhost:8080/"
        },
        "id": "u6hM3JLQJagw",
        "outputId": "4cb73706-d768-452d-9a1a-fb2487cfebe7"
      },
      "execution_count": 51,
      "outputs": [
        {
          "output_type": "stream",
          "name": "stderr",
          "text": [
            "/usr/local/lib/python3.10/dist-packages/PIL/Image.py:996: UserWarning: Palette images with Transparency expressed in bytes should be converted to RGBA images\n",
            "  warnings.warn(\n"
          ]
        }
      ]
    },
    {
      "cell_type": "code",
      "source": [
        "train_data = np.array(train_data)\n",
        "train_labels = np.array(train_labels)"
      ],
      "metadata": {
        "id": "kMpneBf9Pdh8"
      },
      "execution_count": 52,
      "outputs": []
    },
    {
      "cell_type": "code",
      "source": [
        "train_data.shape"
      ],
      "metadata": {
        "colab": {
          "base_uri": "https://localhost:8080/"
        },
        "id": "2E_WZUijP36D",
        "outputId": "b9a709cc-b7a8-4e44-af34-5190bd26b0ac"
      },
      "execution_count": 53,
      "outputs": [
        {
          "output_type": "execute_result",
          "data": {
            "text/plain": [
              "(304, 100, 100, 3)"
            ]
          },
          "metadata": {},
          "execution_count": 53
        }
      ]
    },
    {
      "cell_type": "code",
      "source": [
        "train_labels.shape"
      ],
      "metadata": {
        "colab": {
          "base_uri": "https://localhost:8080/"
        },
        "id": "mYNJMb59NJGR",
        "outputId": "155f7af4-f923-455b-c4fa-2ce8f1980c64"
      },
      "execution_count": 54,
      "outputs": [
        {
          "output_type": "execute_result",
          "data": {
            "text/plain": [
              "(304,)"
            ]
          },
          "metadata": {},
          "execution_count": 54
        }
      ]
    },
    {
      "cell_type": "code",
      "source": [
        "train_data = train_data.reshape(len(train_data), -1)\n",
        "train_data.shape"
      ],
      "metadata": {
        "colab": {
          "base_uri": "https://localhost:8080/"
        },
        "id": "iMgKmr31NbIt",
        "outputId": "acae8f5a-ad3e-4416-c6a0-504c84133c03"
      },
      "execution_count": 55,
      "outputs": [
        {
          "output_type": "execute_result",
          "data": {
            "text/plain": [
              "(304, 30000)"
            ]
          },
          "metadata": {},
          "execution_count": 55
        }
      ]
    },
    {
      "cell_type": "code",
      "source": [
        "category2label = {'Pikachu':0,'Charmander':1,'Bulbasaur':2}\n",
        "label2category = {0:'Pikachu', 1:'Charmander', 2:'Bulbasaur'}"
      ],
      "metadata": {
        "id": "Gje5WauqQWhb"
      },
      "execution_count": 56,
      "outputs": []
    },
    {
      "cell_type": "code",
      "source": [
        "train_labels = np.array([category2label[label] for label in train_labels])"
      ],
      "metadata": {
        "id": "YCEJgpBAQ16j"
      },
      "execution_count": 57,
      "outputs": []
    },
    {
      "cell_type": "code",
      "source": [
        "train_labels.shape"
      ],
      "metadata": {
        "colab": {
          "base_uri": "https://localhost:8080/"
        },
        "id": "uUXEwrnbRmKX",
        "outputId": "5b8cc39d-1e85-4964-dcb3-b9394736cacc"
      },
      "execution_count": 58,
      "outputs": [
        {
          "output_type": "execute_result",
          "data": {
            "text/plain": [
              "(304,)"
            ]
          },
          "metadata": {},
          "execution_count": 58
        }
      ]
    },
    {
      "cell_type": "code",
      "source": [
        "from keras.utils import to_categorical"
      ],
      "metadata": {
        "id": "eIVUeAZsR4Z9"
      },
      "execution_count": 59,
      "outputs": []
    },
    {
      "cell_type": "code",
      "source": [
        "train_labels = to_categorical(train_labels)"
      ],
      "metadata": {
        "id": "FPPVo3alSKjK"
      },
      "execution_count": 60,
      "outputs": []
    },
    {
      "cell_type": "code",
      "source": [
        "train_labels.shape"
      ],
      "metadata": {
        "colab": {
          "base_uri": "https://localhost:8080/"
        },
        "id": "W0mMMH50SUs5",
        "outputId": "ec4d4d0c-ae20-4d59-ed5c-d95baa7245f9"
      },
      "execution_count": 61,
      "outputs": [
        {
          "output_type": "execute_result",
          "data": {
            "text/plain": [
              "(304, 3)"
            ]
          },
          "metadata": {},
          "execution_count": 61
        }
      ]
    },
    {
      "cell_type": "code",
      "source": [
        "train_labels[:5]"
      ],
      "metadata": {
        "colab": {
          "base_uri": "https://localhost:8080/"
        },
        "id": "-L9UY_ymSW0a",
        "outputId": "c4642ab7-ae1f-4cab-8787-6282c6a03b44"
      },
      "execution_count": 62,
      "outputs": [
        {
          "output_type": "execute_result",
          "data": {
            "text/plain": [
              "array([[0., 0., 1.],\n",
              "       [0., 0., 1.],\n",
              "       [0., 0., 1.],\n",
              "       [0., 0., 1.],\n",
              "       [0., 0., 1.]], dtype=float32)"
            ]
          },
          "metadata": {},
          "execution_count": 62
        }
      ]
    },
    {
      "cell_type": "code",
      "source": [
        "from keras.layers import Dense\n",
        "from keras import Sequential"
      ],
      "metadata": {
        "id": "ojQaxoWwSZwF"
      },
      "execution_count": 63,
      "outputs": []
    },
    {
      "cell_type": "code",
      "source": [
        "features = train_data.shape[1]"
      ],
      "metadata": {
        "id": "50ZtprlyTl99"
      },
      "execution_count": 65,
      "outputs": []
    },
    {
      "cell_type": "code",
      "source": [
        "model = Sequential()\n",
        "model.add(Dense(units = 512, activation = 'relu', input_shape = (features,)))\n",
        "model.add(Dense(units = 256, activation = 'relu'))\n",
        "model.add(Dense(units = 128, activation = 'relu'))\n",
        "model.add(Dense(units = 64, activation = 'relu'))\n",
        "model.add(Dense(units = 3, activation = 'softmax'))\n",
        "\n",
        "model.compile(optimizer = \"adam\", loss = \"categorical_crossentropy\", metrics=['accuracy'])"
      ],
      "metadata": {
        "id": "C-wJu0YTTT7Y"
      },
      "execution_count": 70,
      "outputs": []
    },
    {
      "cell_type": "code",
      "source": [
        "model.summary()"
      ],
      "metadata": {
        "colab": {
          "base_uri": "https://localhost:8080/"
        },
        "id": "CtapJUbBTW6E",
        "outputId": "d58f0aa5-2061-4085-a2e4-3fdf09e48cd4"
      },
      "execution_count": 71,
      "outputs": [
        {
          "output_type": "stream",
          "name": "stdout",
          "text": [
            "Model: \"sequential_4\"\n",
            "_________________________________________________________________\n",
            " Layer (type)                Output Shape              Param #   \n",
            "=================================================================\n",
            " dense_7 (Dense)             (None, 512)               15360512  \n",
            "                                                                 \n",
            " dense_8 (Dense)             (None, 256)               131328    \n",
            "                                                                 \n",
            " dense_9 (Dense)             (None, 128)               32896     \n",
            "                                                                 \n",
            " dense_10 (Dense)            (None, 64)                8256      \n",
            "                                                                 \n",
            " dense_11 (Dense)            (None, 3)                 195       \n",
            "                                                                 \n",
            "=================================================================\n",
            "Total params: 15533187 (59.25 MB)\n",
            "Trainable params: 15533187 (59.25 MB)\n",
            "Non-trainable params: 0 (0.00 Byte)\n",
            "_________________________________________________________________\n"
          ]
        }
      ]
    },
    {
      "cell_type": "code",
      "source": [
        "model.fit(train_data, train_labels, batch_size = 32, epochs = 50)"
      ],
      "metadata": {
        "colab": {
          "base_uri": "https://localhost:8080/"
        },
        "id": "9SEn5L9wUd48",
        "outputId": "dd83bb19-1eb9-449c-b036-c5bb311672a8"
      },
      "execution_count": 72,
      "outputs": [
        {
          "output_type": "stream",
          "name": "stdout",
          "text": [
            "Epoch 1/50\n",
            "10/10 [==============================] - 4s 234ms/step - loss: 3981.8623 - accuracy: 0.3289\n",
            "Epoch 2/50\n",
            "10/10 [==============================] - 2s 237ms/step - loss: 1350.0582 - accuracy: 0.4375\n",
            "Epoch 3/50\n",
            "10/10 [==============================] - 2s 237ms/step - loss: 591.9530 - accuracy: 0.5263\n",
            "Epoch 4/50\n",
            "10/10 [==============================] - 2s 246ms/step - loss: 318.5174 - accuracy: 0.6283\n",
            "Epoch 5/50\n",
            "10/10 [==============================] - 4s 384ms/step - loss: 166.5092 - accuracy: 0.6974\n",
            "Epoch 6/50\n",
            "10/10 [==============================] - 2s 240ms/step - loss: 222.1095 - accuracy: 0.6776\n",
            "Epoch 7/50\n",
            "10/10 [==============================] - 2s 234ms/step - loss: 70.4690 - accuracy: 0.7961\n",
            "Epoch 8/50\n",
            "10/10 [==============================] - 2s 236ms/step - loss: 39.2434 - accuracy: 0.8520\n",
            "Epoch 9/50\n",
            "10/10 [==============================] - 2s 236ms/step - loss: 73.1957 - accuracy: 0.8289\n",
            "Epoch 10/50\n",
            "10/10 [==============================] - 3s 361ms/step - loss: 132.4474 - accuracy: 0.7796\n",
            "Epoch 11/50\n",
            "10/10 [==============================] - 3s 291ms/step - loss: 31.6232 - accuracy: 0.8651\n",
            "Epoch 12/50\n",
            "10/10 [==============================] - 2s 238ms/step - loss: 15.0905 - accuracy: 0.9309\n",
            "Epoch 13/50\n",
            "10/10 [==============================] - 2s 235ms/step - loss: 6.7467 - accuracy: 0.9671\n",
            "Epoch 14/50\n",
            "10/10 [==============================] - 2s 239ms/step - loss: 15.6969 - accuracy: 0.9375\n",
            "Epoch 15/50\n",
            "10/10 [==============================] - 3s 281ms/step - loss: 10.5344 - accuracy: 0.9342\n",
            "Epoch 16/50\n",
            "10/10 [==============================] - 3s 337ms/step - loss: 16.8588 - accuracy: 0.9013\n",
            "Epoch 17/50\n",
            "10/10 [==============================] - 2s 234ms/step - loss: 62.7924 - accuracy: 0.8191\n",
            "Epoch 18/50\n",
            "10/10 [==============================] - 2s 234ms/step - loss: 45.4955 - accuracy: 0.8816\n",
            "Epoch 19/50\n",
            "10/10 [==============================] - 2s 233ms/step - loss: 59.9628 - accuracy: 0.8487\n",
            "Epoch 20/50\n",
            "10/10 [==============================] - 2s 232ms/step - loss: 61.3900 - accuracy: 0.8750\n",
            "Epoch 21/50\n",
            "10/10 [==============================] - 4s 370ms/step - loss: 17.9405 - accuracy: 0.9276\n",
            "Epoch 22/50\n",
            "10/10 [==============================] - 3s 241ms/step - loss: 30.4924 - accuracy: 0.8783\n",
            "Epoch 23/50\n",
            "10/10 [==============================] - 2s 229ms/step - loss: 13.5008 - accuracy: 0.9408\n",
            "Epoch 24/50\n",
            "10/10 [==============================] - 2s 232ms/step - loss: 9.0494 - accuracy: 0.9671\n",
            "Epoch 25/50\n",
            "10/10 [==============================] - 2s 231ms/step - loss: 1.4564 - accuracy: 0.9836\n",
            "Epoch 26/50\n",
            "10/10 [==============================] - 3s 314ms/step - loss: 0.9262 - accuracy: 0.9934\n",
            "Epoch 27/50\n",
            "10/10 [==============================] - 3s 308ms/step - loss: 1.0095 - accuracy: 0.9967\n",
            "Epoch 28/50\n",
            "10/10 [==============================] - 3s 297ms/step - loss: 3.5291 - accuracy: 0.9671\n",
            "Epoch 29/50\n",
            "10/10 [==============================] - 2s 235ms/step - loss: 7.4914 - accuracy: 0.9539\n",
            "Epoch 30/50\n",
            "10/10 [==============================] - 2s 234ms/step - loss: 2.4295 - accuracy: 0.9770\n",
            "Epoch 31/50\n",
            "10/10 [==============================] - 4s 391ms/step - loss: 1.0564 - accuracy: 0.9901\n",
            "Epoch 32/50\n",
            "10/10 [==============================] - 4s 341ms/step - loss: 1.3153 - accuracy: 0.9836\n",
            "Epoch 33/50\n",
            "10/10 [==============================] - 3s 268ms/step - loss: 9.3952 - accuracy: 0.9441\n",
            "Epoch 34/50\n",
            "10/10 [==============================] - 4s 351ms/step - loss: 2.3519 - accuracy: 0.9803\n",
            "Epoch 35/50\n",
            "10/10 [==============================] - 5s 512ms/step - loss: 0.0649 - accuracy: 0.9967\n",
            "Epoch 36/50\n",
            "10/10 [==============================] - 3s 284ms/step - loss: 3.0402 - accuracy: 0.9868\n",
            "Epoch 37/50\n",
            "10/10 [==============================] - 4s 386ms/step - loss: 6.3930 - accuracy: 0.9638\n",
            "Epoch 38/50\n",
            "10/10 [==============================] - 3s 278ms/step - loss: 23.4328 - accuracy: 0.9309\n",
            "Epoch 39/50\n",
            "10/10 [==============================] - 4s 392ms/step - loss: 142.7133 - accuracy: 0.8322\n",
            "Epoch 40/50\n",
            "10/10 [==============================] - 3s 311ms/step - loss: 122.7340 - accuracy: 0.8158\n",
            "Epoch 41/50\n",
            "10/10 [==============================] - 2s 238ms/step - loss: 60.6248 - accuracy: 0.8421\n",
            "Epoch 42/50\n",
            "10/10 [==============================] - 2s 246ms/step - loss: 35.8386 - accuracy: 0.8980\n",
            "Epoch 43/50\n",
            "10/10 [==============================] - 2s 240ms/step - loss: 28.8485 - accuracy: 0.9243\n",
            "Epoch 44/50\n",
            "10/10 [==============================] - 3s 295ms/step - loss: 89.8949 - accuracy: 0.8388\n",
            "Epoch 45/50\n",
            "10/10 [==============================] - 4s 361ms/step - loss: 60.7826 - accuracy: 0.8717\n",
            "Epoch 46/50\n",
            "10/10 [==============================] - 2s 240ms/step - loss: 9.9203 - accuracy: 0.9375\n",
            "Epoch 47/50\n",
            "10/10 [==============================] - 4s 377ms/step - loss: 5.1864 - accuracy: 0.9770\n",
            "Epoch 48/50\n",
            "10/10 [==============================] - 4s 413ms/step - loss: 1.2966 - accuracy: 0.9868\n",
            "Epoch 49/50\n",
            "10/10 [==============================] - 5s 469ms/step - loss: 10.6042 - accuracy: 0.9605\n",
            "Epoch 50/50\n",
            "10/10 [==============================] - 3s 289ms/step - loss: 14.2430 - accuracy: 0.9539\n"
          ]
        },
        {
          "output_type": "execute_result",
          "data": {
            "text/plain": [
              "<keras.src.callbacks.History at 0x7f06f0051930>"
            ]
          },
          "metadata": {},
          "execution_count": 72
        }
      ]
    },
    {
      "cell_type": "code",
      "source": [
        "test_data = []\n",
        "test_labels =[]\n",
        "\n",
        "for category in classes:\n",
        "    folder = f\"/content/drive/MyDrive/Harsh/Machine Learning/Pokemon Classification/Test/\" + category\n",
        "    for img_name in os.listdir(folder):\n",
        "        img_path = f\"{folder}/{img_name}\"\n",
        "        img = image.load_img(img_path, target_size= (100,100))\n",
        "        img = image.img_to_array(img)\n",
        "        test_data.append(img)\n",
        "        test_labels.append(category)"
      ],
      "metadata": {
        "id": "-0M4VGYPVbrK"
      },
      "execution_count": 79,
      "outputs": []
    },
    {
      "cell_type": "code",
      "source": [
        "test_data = np.array(test_data)\n",
        "test_labels = np.array(test_labels)"
      ],
      "metadata": {
        "id": "wExoymP2V3B8"
      },
      "execution_count": 80,
      "outputs": []
    },
    {
      "cell_type": "code",
      "source": [
        "test_labels = np.array([category2label[label] for label in test_labels])\n",
        "test_labels = to_categorical(test_labels)\n",
        "test_labels.shape"
      ],
      "metadata": {
        "colab": {
          "base_uri": "https://localhost:8080/"
        },
        "id": "csc1fGfjWBoj",
        "outputId": "21f1c4ee-6668-492b-c09e-fb571552c484"
      },
      "execution_count": 81,
      "outputs": [
        {
          "output_type": "execute_result",
          "data": {
            "text/plain": [
              "(123, 3)"
            ]
          },
          "metadata": {},
          "execution_count": 81
        }
      ]
    },
    {
      "cell_type": "code",
      "source": [
        "test_data = test_data.reshape(len(test_data), -1)\n",
        "test_data.shape"
      ],
      "metadata": {
        "colab": {
          "base_uri": "https://localhost:8080/"
        },
        "id": "Tqr2nOeJWbAn",
        "outputId": "193b9879-7041-4570-cc69-6ef8594dd1eb"
      },
      "execution_count": 83,
      "outputs": [
        {
          "output_type": "execute_result",
          "data": {
            "text/plain": [
              "(123, 30000)"
            ]
          },
          "metadata": {},
          "execution_count": 83
        }
      ]
    },
    {
      "cell_type": "code",
      "source": [
        "model.evaluate(test_data, test_labels)"
      ],
      "metadata": {
        "colab": {
          "base_uri": "https://localhost:8080/"
        },
        "id": "CrnGJRddWzAI",
        "outputId": "2d7aadcd-34d9-465b-b232-d8a388a34753"
      },
      "execution_count": 84,
      "outputs": [
        {
          "output_type": "stream",
          "name": "stdout",
          "text": [
            "4/4 [==============================] - 0s 75ms/step - loss: 9.8893 - accuracy: 0.9593\n"
          ]
        },
        {
          "output_type": "execute_result",
          "data": {
            "text/plain": [
              "[9.889293670654297, 0.9593495726585388]"
            ]
          },
          "metadata": {},
          "execution_count": 84
        }
      ]
    },
    {
      "cell_type": "code",
      "source": [
        "pred = model.predict(test_data).argmax(axis=1)"
      ],
      "metadata": {
        "colab": {
          "base_uri": "https://localhost:8080/"
        },
        "id": "MEzdlT-cXK3S",
        "outputId": "c0eb3e16-2fe6-4ab6-e73c-038dd6615ce2"
      },
      "execution_count": 86,
      "outputs": [
        {
          "output_type": "stream",
          "name": "stdout",
          "text": [
            "4/4 [==============================] - 0s 28ms/step\n"
          ]
        }
      ]
    },
    {
      "cell_type": "code",
      "source": [
        "pred[:10]"
      ],
      "metadata": {
        "colab": {
          "base_uri": "https://localhost:8080/"
        },
        "id": "wpkSQkbzXWic",
        "outputId": "950a38d5-b0fc-4dc6-c068-f0d58aaa3e02"
      },
      "execution_count": 87,
      "outputs": [
        {
          "output_type": "execute_result",
          "data": {
            "text/plain": [
              "array([2, 2, 2, 2, 2, 2, 2, 2, 2, 2])"
            ]
          },
          "metadata": {},
          "execution_count": 87
        }
      ]
    },
    {
      "cell_type": "code",
      "source": [
        "[label2category[p] for p in pred]"
      ],
      "metadata": {
        "colab": {
          "base_uri": "https://localhost:8080/"
        },
        "id": "FfNdllB2XkrY",
        "outputId": "2dea9cd1-7d5f-49eb-932a-76709dc81d04"
      },
      "execution_count": 88,
      "outputs": [
        {
          "output_type": "execute_result",
          "data": {
            "text/plain": [
              "['Bulbasaur',\n",
              " 'Bulbasaur',\n",
              " 'Bulbasaur',\n",
              " 'Bulbasaur',\n",
              " 'Bulbasaur',\n",
              " 'Bulbasaur',\n",
              " 'Bulbasaur',\n",
              " 'Bulbasaur',\n",
              " 'Bulbasaur',\n",
              " 'Bulbasaur',\n",
              " 'Bulbasaur',\n",
              " 'Bulbasaur',\n",
              " 'Bulbasaur',\n",
              " 'Bulbasaur',\n",
              " 'Bulbasaur',\n",
              " 'Bulbasaur',\n",
              " 'Bulbasaur',\n",
              " 'Bulbasaur',\n",
              " 'Bulbasaur',\n",
              " 'Bulbasaur',\n",
              " 'Bulbasaur',\n",
              " 'Bulbasaur',\n",
              " 'Bulbasaur',\n",
              " 'Bulbasaur',\n",
              " 'Bulbasaur',\n",
              " 'Bulbasaur',\n",
              " 'Bulbasaur',\n",
              " 'Bulbasaur',\n",
              " 'Bulbasaur',\n",
              " 'Bulbasaur',\n",
              " 'Bulbasaur',\n",
              " 'Bulbasaur',\n",
              " 'Bulbasaur',\n",
              " 'Bulbasaur',\n",
              " 'Bulbasaur',\n",
              " 'Bulbasaur',\n",
              " 'Bulbasaur',\n",
              " 'Bulbasaur',\n",
              " 'Bulbasaur',\n",
              " 'Bulbasaur',\n",
              " 'Bulbasaur',\n",
              " 'Charmander',\n",
              " 'Charmander',\n",
              " 'Charmander',\n",
              " 'Charmander',\n",
              " 'Charmander',\n",
              " 'Charmander',\n",
              " 'Charmander',\n",
              " 'Charmander',\n",
              " 'Charmander',\n",
              " 'Charmander',\n",
              " 'Charmander',\n",
              " 'Charmander',\n",
              " 'Charmander',\n",
              " 'Charmander',\n",
              " 'Charmander',\n",
              " 'Charmander',\n",
              " 'Charmander',\n",
              " 'Charmander',\n",
              " 'Charmander',\n",
              " 'Charmander',\n",
              " 'Charmander',\n",
              " 'Charmander',\n",
              " 'Charmander',\n",
              " 'Charmander',\n",
              " 'Charmander',\n",
              " 'Charmander',\n",
              " 'Charmander',\n",
              " 'Charmander',\n",
              " 'Charmander',\n",
              " 'Charmander',\n",
              " 'Charmander',\n",
              " 'Charmander',\n",
              " 'Charmander',\n",
              " 'Charmander',\n",
              " 'Charmander',\n",
              " 'Charmander',\n",
              " 'Charmander',\n",
              " 'Charmander',\n",
              " 'Charmander',\n",
              " 'Charmander',\n",
              " 'Charmander',\n",
              " 'Pikachu',\n",
              " 'Pikachu',\n",
              " 'Pikachu',\n",
              " 'Pikachu',\n",
              " 'Pikachu',\n",
              " 'Pikachu',\n",
              " 'Charmander',\n",
              " 'Pikachu',\n",
              " 'Pikachu',\n",
              " 'Pikachu',\n",
              " 'Pikachu',\n",
              " 'Pikachu',\n",
              " 'Pikachu',\n",
              " 'Pikachu',\n",
              " 'Pikachu',\n",
              " 'Pikachu',\n",
              " 'Pikachu',\n",
              " 'Pikachu',\n",
              " 'Pikachu',\n",
              " 'Pikachu',\n",
              " 'Pikachu',\n",
              " 'Bulbasaur',\n",
              " 'Pikachu',\n",
              " 'Pikachu',\n",
              " 'Charmander',\n",
              " 'Pikachu',\n",
              " 'Pikachu',\n",
              " 'Pikachu',\n",
              " 'Pikachu',\n",
              " 'Pikachu',\n",
              " 'Pikachu',\n",
              " 'Pikachu',\n",
              " 'Pikachu',\n",
              " 'Charmander',\n",
              " 'Pikachu',\n",
              " 'Pikachu',\n",
              " 'Pikachu',\n",
              " 'Pikachu',\n",
              " 'Pikachu',\n",
              " 'Pikachu',\n",
              " 'Pikachu']"
            ]
          },
          "metadata": {},
          "execution_count": 88
        }
      ]
    },
    {
      "cell_type": "code",
      "source": [
        "test_img = \"/content/drive/MyDrive/Harsh/Machine Learning/Pokemon Classification/Test/Pikachu/2007.jpg\"\n",
        "img = image.load_img(test_img, target_size= (100,100))\n",
        "img = image.img_to_array(img)\n",
        "plt.imshow(img.astype('int'))"
      ],
      "metadata": {
        "colab": {
          "base_uri": "https://localhost:8080/",
          "height": 450
        },
        "id": "GeWuEXh_XxbP",
        "outputId": "045ce05a-40fb-4bc7-cf31-ea1ba7ce2c28"
      },
      "execution_count": 89,
      "outputs": [
        {
          "output_type": "execute_result",
          "data": {
            "text/plain": [
              "<matplotlib.image.AxesImage at 0x7f06e2efa500>"
            ]
          },
          "metadata": {},
          "execution_count": 89
        },
        {
          "output_type": "display_data",
          "data": {
            "text/plain": [
              "<Figure size 640x480 with 1 Axes>"
            ],
            "image/png": "[encoded data removed]"
          },
          "metadata": {}
        }
      ]
    },
    {
      "cell_type": "code",
      "source": [
        "img = img.reshape(1,30000)\n",
        "img.shape"
      ],
      "metadata": {
        "colab": {
          "base_uri": "https://localhost:8080/"
        },
        "id": "A6-eWW73YaSa",
        "outputId": "faf5f3a9-e0d7-418c-aa6a-b6a3f90e75e4"
      },
      "execution_count": 90,
      "outputs": [
        {
          "output_type": "execute_result",
          "data": {
            "text/plain": [
              "(1, 30000)"
            ]
          },
          "metadata": {},
          "execution_count": 90
        }
      ]
    },
    {
      "cell_type": "code",
      "source": [
        "pred = label2category[model.predict(img).argmax()]\n",
        "pred"
      ],
      "metadata": {
        "colab": {
          "base_uri": "https://localhost:8080/",
          "height": 53
        },
        "id": "1G4wRhhFYhXV",
        "outputId": "134d50ad-5446-4e53-970b-298663dcacc7"
      },
      "execution_count": 91,
      "outputs": [
        {
          "output_type": "stream",
          "name": "stdout",
          "text": [
            "1/1 [==============================] - 0s 26ms/step\n"
          ]
        },
        {
          "output_type": "execute_result",
          "data": {
            "text/plain": [
              "'Pikachu'"
            ],
            "application/vnd.google.colaboratory.intrinsic+json": {
              "type": "string"
            }
          },
          "metadata": {},
          "execution_count": 91
        }
      ]
    },
    {
      "cell_type": "code",
      "source": [],
      "metadata": {
        "id": "vH4IQq0LYqf8"
      },
      "execution_count": null,
      "outputs": []
    }
  ]
}
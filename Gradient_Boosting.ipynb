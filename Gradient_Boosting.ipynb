{
  "nbformat": 4,
  "nbformat_minor": 0,
  "metadata": {
    "colab": {
      "provenance": [],
      "mount_file_id": "1kZZ73XXJYbRJiai9JKvzXfk6TY90iuV_",
      "authorship_tag": "ABX9TyNi4kuoxbGklXL6hZ5/kS7L",
      "include_colab_link": true
    },
    "kernelspec": {
      "name": "python3",
      "display_name": "Python 3"
    },
    "language_info": {
      "name": "python"
    }
  },
  "cells": [
    {
      "cell_type": "markdown",
      "metadata": {
        "id": "view-in-github",
        "colab_type": "text"
      },
      "source": [
        "<a href=\"https://colab.research.google.com/github/harsh194/machine_learning/blob/main/Gradient_Boosting.ipynb\" target=\"_parent\"><img src=\"https://colab.research.google.com/assets/colab-badge.svg\" alt=\"Open In Colab\"/></a>"
      ]
    },
    {
      "cell_type": "code",
      "execution_count": 56,
      "metadata": {
        "id": "LAgrIK9Br0Jd"
      },
      "outputs": [],
      "source": [
        "from sklearn.datasets import make_regression"
      ]
    },
    {
      "cell_type": "code",
      "source": [
        "X,y = make_regression(n_samples= 1000, n_features= 10, n_informative = 6, noise = 2.0)"
      ],
      "metadata": {
        "id": "CfIWSXwUtKm0"
      },
      "execution_count": 57,
      "outputs": []
    },
    {
      "cell_type": "code",
      "source": [
        "X.shape"
      ],
      "metadata": {
        "colab": {
          "base_uri": "https://localhost:8080/"
        },
        "id": "cSliwC_ftV5W",
        "outputId": "c1f68286-8cd9-406b-d86a-ae8f640a5fc7"
      },
      "execution_count": 58,
      "outputs": [
        {
          "output_type": "execute_result",
          "data": {
            "text/plain": [
              "(1000, 10)"
            ]
          },
          "metadata": {},
          "execution_count": 58
        }
      ]
    },
    {
      "cell_type": "code",
      "source": [
        "from sklearn.model_selection import train_test_split"
      ],
      "metadata": {
        "id": "FpoOmJMrtXQz"
      },
      "execution_count": 59,
      "outputs": []
    },
    {
      "cell_type": "code",
      "source": [
        " X_train, X_test, y_train, y_test = train_test_split(X, y, test_size=0.2, random_state=42)"
      ],
      "metadata": {
        "id": "lAu07dnEthsX"
      },
      "execution_count": 60,
      "outputs": []
    },
    {
      "cell_type": "code",
      "source": [
        "from sklearn.ensemble import GradientBoostingRegressor"
      ],
      "metadata": {
        "id": "V9i9IrQEtxkF"
      },
      "execution_count": 61,
      "outputs": []
    },
    {
      "cell_type": "code",
      "source": [
        "M = [10,50,100,200,500,1000]"
      ],
      "metadata": {
        "id": "c-lOgw0SuyHP"
      },
      "execution_count": 62,
      "outputs": []
    },
    {
      "cell_type": "code",
      "source": [
        "train_scores =[]\n",
        "test_scores =[]"
      ],
      "metadata": {
        "id": "edY6IaTrvYBo"
      },
      "execution_count": 63,
      "outputs": []
    },
    {
      "cell_type": "code",
      "source": [
        "for m in M:\n",
        "    model = GradientBoostingRegressor(n_estimators=m)\n",
        "    model.fit(X_train, y_train)\n",
        "    train_scores.append(model.score(X_train, y_train))\n",
        "    test_scores.append(model.score(X_test, y_test))\n"
      ],
      "metadata": {
        "id": "m2xrDIIvvh--"
      },
      "execution_count": 64,
      "outputs": []
    },
    {
      "cell_type": "code",
      "source": [
        "train_scores"
      ],
      "metadata": {
        "id": "-QCh0GBVt-2x",
        "colab": {
          "base_uri": "https://localhost:8080/"
        },
        "outputId": "0755da4f-90c5-449a-cdbf-8d2183ca1126"
      },
      "execution_count": 65,
      "outputs": [
        {
          "output_type": "execute_result",
          "data": {
            "text/plain": [
              "[0.6371969422726627,\n",
              " 0.9697860852174089,\n",
              " 0.9928280264020408,\n",
              " 0.9964269165196241,\n",
              " 0.9992062395050672,\n",
              " 0.9999006233191436]"
            ]
          },
          "metadata": {},
          "execution_count": 65
        }
      ]
    },
    {
      "cell_type": "code",
      "source": [
        "test_scores"
      ],
      "metadata": {
        "colab": {
          "base_uri": "https://localhost:8080/"
        },
        "id": "IiNYpQ7muOq8",
        "outputId": "be95e904-de95-425f-ffb9-eddf8fe787fe"
      },
      "execution_count": 66,
      "outputs": [
        {
          "output_type": "execute_result",
          "data": {
            "text/plain": [
              "[0.5790672494341624,\n",
              " 0.9250351989411827,\n",
              " 0.9641840441226652,\n",
              " 0.9714598018752685,\n",
              " 0.9746015357725781,\n",
              " 0.9746047871319135]"
            ]
          },
          "metadata": {},
          "execution_count": 66
        }
      ]
    },
    {
      "cell_type": "code",
      "source": [
        "import matplotlib.pyplot as plt\n",
        "%matplotlib inline"
      ],
      "metadata": {
        "id": "8WklpWl9uSpM"
      },
      "execution_count": 67,
      "outputs": []
    },
    {
      "cell_type": "code",
      "source": [
        "plt.plot(M, train_scores, 'bo')\n",
        "plt.plot(M, test_scores, 'r+')\n",
        "plt.title('Train and Test Result')\n",
        "plt.xlabel('n_estimators')\n",
        "plt.ylabel('Accuracy')"
      ],
      "metadata": {
        "colab": {
          "base_uri": "https://localhost:8080/",
          "height": 489
        },
        "id": "emWC5RKvuWZs",
        "outputId": "7ba4b1c6-ce3e-42d2-f340-dd1b6a4f8ce9"
      },
      "execution_count": 68,
      "outputs": [
        {
          "output_type": "execute_result",
          "data": {
            "text/plain": [
              "Text(0, 0.5, 'Accuracy')"
            ]
          },
          "metadata": {},
          "execution_count": 68
        },
        {
          "output_type": "display_data",
          "data": {
            "text/plain": [
              "<Figure size 640x480 with 1 Axes>"
            ],
            "image/png": "[encoded data removed]"
          },
          "metadata": {}
        }
      ]
    },
    {
      "cell_type": "code",
      "source": [],
      "metadata": {
        "id": "0qKJejE-uk84"
      },
      "execution_count": 68,
      "outputs": []
    }
  ]
}
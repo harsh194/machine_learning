{
  "nbformat": 4,
  "nbformat_minor": 0,
  "metadata": {
    "colab": {
      "provenance": [],
      "mount_file_id": "1ErFPt4ZKSSn7ukZBJIP__JXK3dDss7UV",
      "authorship_tag": "ABX9TyPYlT1MwomRJsP0eB24TbjZ",
      "include_colab_link": true
    },
    "kernelspec": {
      "name": "python3",
      "display_name": "Python 3"
    },
    "language_info": {
      "name": "python"
    }
  },
  "cells": [
    {
      "cell_type": "markdown",
      "metadata": {
        "id": "view-in-github",
        "colab_type": "text"
      },
      "source": [
        "<a href=\"https://colab.research.google.com/github/harsh194/machine_learning/blob/main/Decision_Tree.ipynb\" target=\"_parent\"><img src=\"https://colab.research.google.com/assets/colab-badge.svg\" alt=\"Open In Colab\"/></a>"
      ]
    },
    {
      "cell_type": "code",
      "execution_count": 2,
      "metadata": {
        "id": "J8Kson-8VYLw"
      },
      "outputs": [],
      "source": [
        "import os\n",
        "new_directory = '/content/drive/MyDrive/Harsh/Unsupervised Learning/Week 1/Anomaly Detection'\n",
        "os.chdir(new_directory)"
      ]
    },
    {
      "cell_type": "code",
      "source": [
        "import numpy as np\n",
        "import matplotlib.pyplot as plt\n",
        "from public_tests import *\n",
        "\n",
        "%matplotlib inline"
      ],
      "metadata": {
        "id": "qdux9jGGV02h"
      },
      "execution_count": 3,
      "outputs": []
    },
    {
      "cell_type": "code",
      "source": [
        "X_train = np.array([[1,1,1],[1,0,1],[1,0,0],[1,0,0],[1,1,1],[0,1,1],[0,0,0],[1,0,1],[0,1,0],[1,0,0]])\n",
        "y_train = np.array([1,1,0,0,1,0,0,1,1,0])"
      ],
      "metadata": {
        "id": "xZgWFb79WGwe"
      },
      "execution_count": 4,
      "outputs": []
    },
    {
      "cell_type": "code",
      "source": [
        "def compute_entropy(y):\n",
        "    entropy = 0.\n",
        "\n",
        "    if len(y) !=0:\n",
        "        p1 = len(y[y == 1]) / len(y)\n",
        "        if p1 !=0 and p1 !=1:\n",
        "            entropy = -p1*np.log2(p1) - (1-p1)*np.log2(1-p1)\n",
        "        else:\n",
        "            entropy = 0\n",
        "\n",
        "    return entropy"
      ],
      "metadata": {
        "id": "vr24DbeyWW-S"
      },
      "execution_count": 5,
      "outputs": []
    },
    {
      "cell_type": "code",
      "source": [
        "print(\"Entropy at root node: \", compute_entropy(y_train))\n"
      ],
      "metadata": {
        "colab": {
          "base_uri": "https://localhost:8080/"
        },
        "id": "D3pxVFoyYlnH",
        "outputId": "8ee56ef9-66bf-4110-aebb-c3d7a44579b3"
      },
      "execution_count": 6,
      "outputs": [
        {
          "output_type": "stream",
          "name": "stdout",
          "text": [
            "Entropy at root node:  1.0\n"
          ]
        }
      ]
    },
    {
      "cell_type": "code",
      "source": [
        "def split_dataset(X, node_indices, feature):\n",
        "    left_indices = []\n",
        "    right_indices = []\n",
        "\n",
        "    for i in node_indices:\n",
        "        if X[i][feature] == 1:\n",
        "            left_indices.append(i)\n",
        "        else:\n",
        "            right_indices.append(i)\n",
        "\n",
        "    return left_indices, right_indices"
      ],
      "metadata": {
        "id": "d9kS4tMbY0ec"
      },
      "execution_count": 7,
      "outputs": []
    },
    {
      "cell_type": "code",
      "source": [
        "root_indices = [0,1,2,3,4,5,6,7,8,9]\n",
        "feature = 0\n",
        "left_indices, right_indices = split_dataset(X_train, root_indices, feature)\n",
        "\n",
        "print(\"Left indices : \", left_indices)\n",
        "print(\"Right indices : \", right_indices)"
      ],
      "metadata": {
        "colab": {
          "base_uri": "https://localhost:8080/"
        },
        "id": "jgo_KnclaARs",
        "outputId": "2e123280-f278-4056-9f63-8b740739eb27"
      },
      "execution_count": 9,
      "outputs": [
        {
          "output_type": "stream",
          "name": "stdout",
          "text": [
            "Left indices :  [0, 1, 2, 3, 4, 7, 9]\n",
            "Right indices :  [5, 6, 8]\n"
          ]
        }
      ]
    },
    {
      "cell_type": "code",
      "source": [
        "def compute_information_gain(X,y, node_indices, feature):\n",
        "    left_indices, right_indices = split_dataset(X, node_indices, feature)\n",
        "\n",
        "    X_node, y_node = X[node_indices], y[node_indices]\n",
        "    X_left, y_left = X[left_indices], y[left_indices]\n",
        "    X_right, y_right = X[right_indices], y[right_indices]\n",
        "\n",
        "    information_gain = 0\n",
        "\n",
        "    node_entropy = compute_entropy(y_node)\n",
        "    left_entropy = compute_entropy(y_left)\n",
        "    right_entropy = compute_entropy(y_right)\n",
        "\n",
        "    w_left = len(X_left) / len(X_node)\n",
        "    w_right = len(X_right) / len(X_node)\n",
        "\n",
        "    weighted_entropy = w_left*left_entropy + w_right * right_entropy\n",
        "\n",
        "    information_gain = node_entropy - weighted_entropy\n",
        "\n",
        "    return information_gain"
      ],
      "metadata": {
        "id": "Mni21NuwablX"
      },
      "execution_count": 12,
      "outputs": []
    },
    {
      "cell_type": "code",
      "source": [
        "info_gain0 = compute_information_gain(X_train, y_train, root_indices, feature=0)\n",
        "print(\"Information Gain from splitting the root on brown cap: \", info_gain0)\n",
        "\n",
        "info_gain1 = compute_information_gain(X_train, y_train, root_indices, feature=1)\n",
        "print(\"Information Gain from splitting the root on tapering stalk shape: \", info_gain1)\n",
        "\n",
        "info_gain2 = compute_information_gain(X_train, y_train, root_indices, feature=2)\n",
        "print(\"Information Gain from splitting the root on solitary: \", info_gain2)"
      ],
      "metadata": {
        "colab": {
          "base_uri": "https://localhost:8080/"
        },
        "id": "C8NVU_MGbxKn",
        "outputId": "161c16ac-936b-4b59-a0c5-67720aa400f7"
      },
      "execution_count": 14,
      "outputs": [
        {
          "output_type": "stream",
          "name": "stdout",
          "text": [
            "Information Gain from splitting the root on brown cap:  0.034851554559677034\n",
            "Information Gain from splitting the root on tapering stalk shape:  0.12451124978365313\n",
            "Information Gain from splitting the root on solitary:  0.2780719051126377\n"
          ]
        }
      ]
    },
    {
      "cell_type": "code",
      "source": [],
      "metadata": {
        "id": "xQt0XUTpc9LK"
      },
      "execution_count": null,
      "outputs": []
    }
  ]
}
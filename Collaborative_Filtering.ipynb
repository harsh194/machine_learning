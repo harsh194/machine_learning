{
  "nbformat": 4,
  "nbformat_minor": 0,
  "metadata": {
    "colab": {
      "provenance": [],
      "mount_file_id": "1DMY9t1DOimY5Y9CF3makKNGbQ7oT1nHc",
      "authorship_tag": "ABX9TyMYGj5kz5B/EUcxrCSG4tWb",
      "include_colab_link": true
    },
    "kernelspec": {
      "name": "python3",
      "display_name": "Python 3"
    },
    "language_info": {
      "name": "python"
    }
  },
  "cells": [
    {
      "cell_type": "markdown",
      "metadata": {
        "id": "view-in-github",
        "colab_type": "text"
      },
      "source": [
        "<a href=\"https://colab.research.google.com/github/harsh194/machine_learning/blob/main/Collaborative_Filtering.ipynb\" target=\"_parent\"><img src=\"https://colab.research.google.com/assets/colab-badge.svg\" alt=\"Open In Colab\"/></a>"
      ]
    },
    {
      "cell_type": "code",
      "execution_count": 1,
      "metadata": {
        "id": "u971jNYc8Zrg"
      },
      "outputs": [],
      "source": [
        "import os\n",
        "new_directory = '/content/drive/MyDrive/Harsh/Unsupervised Learning/Week 2/Collaborative Filtering'\n",
        "os.chdir(new_directory)"
      ]
    },
    {
      "cell_type": "code",
      "source": [
        "import numpy as np\n",
        "import tensorflow as tf\n",
        "from tensorflow import keras\n",
        "from recsys_utils import *"
      ],
      "metadata": {
        "id": "AaTGw3kj_qWR"
      },
      "execution_count": 2,
      "outputs": []
    },
    {
      "cell_type": "code",
      "source": [],
      "metadata": {
        "id": "GQ8e5rkXASsd"
      },
      "execution_count": 2,
      "outputs": []
    }
  ]
}
{
  "nbformat": 4,
  "nbformat_minor": 0,
  "metadata": {
    "colab": {
      "provenance": [],
      "mount_file_id": "1DMY9t1DOimY5Y9CF3makKNGbQ7oT1nHc",
      "authorship_tag": "ABX9TyO/7kn0H9CdOlpWsYS+/N1+",
      "include_colab_link": true
    },
    "kernelspec": {
      "name": "python3",
      "display_name": "Python 3"
    },
    "language_info": {
      "name": "python"
    }
  },
  "cells": [
    {
      "cell_type": "markdown",
      "metadata": {
        "id": "view-in-github",
        "colab_type": "text"
      },
      "source": [
        "<a href=\"https://colab.research.google.com/github/harsh194/machine_learning/blob/main/Collaborative_Filtering.ipynb\" target=\"_parent\"><img src=\"https://colab.research.google.com/assets/colab-badge.svg\" alt=\"Open In Colab\"/></a>"
      ]
    },
    {
      "cell_type": "code",
      "execution_count": 9,
      "metadata": {
        "id": "u971jNYc8Zrg"
      },
      "outputs": [],
      "source": [
        "import os\n",
        "new_directory = '/content/drive/MyDrive/Harsh/Unsupervised Learning/Week 2/Collaborative Filtering'\n",
        "os.chdir(new_directory)"
      ]
    },
    {
      "cell_type": "code",
      "source": [
        "import numpy as np\n",
        "import tensorflow as tf\n",
        "from tensorflow import keras\n",
        "from recsys_utils import *"
      ],
      "metadata": {
        "id": "AaTGw3kj_qWR"
      },
      "execution_count": 10,
      "outputs": []
    },
    {
      "cell_type": "code",
      "source": [
        "X, W, b, num_movies, num_features, num_users = load_precalc_params_small()\n",
        "Y,R = load_ratings_small()\n",
        "\n",
        "print(\"Y\", Y.shape, \"R\", R.shape)\n",
        "print(\"X\", X.shape)\n",
        "print(\"W\", W.shape)\n",
        "print(\"b\", b.shape)\n",
        "print(\"num_features\", num_features)\n",
        "print(\"num_movies\",   num_movies)\n",
        "print(\"num_users\",    num_users)"
      ],
      "metadata": {
        "colab": {
          "base_uri": "https://localhost:8080/"
        },
        "id": "GQ8e5rkXASsd",
        "outputId": "58ec14b2-4c36-4e3d-d49d-e8e9ce4b1b70"
      },
      "execution_count": 11,
      "outputs": [
        {
          "output_type": "stream",
          "name": "stdout",
          "text": [
            "Y (4778, 443) R (4778, 443)\n",
            "X (4778, 10)\n",
            "W (443, 10)\n",
            "b (1, 443)\n",
            "num_features 10\n",
            "num_movies 4778\n",
            "num_users 443\n"
          ]
        }
      ]
    },
    {
      "cell_type": "code",
      "source": [
        "tsmean = np.mean(Y[0, R[0,:].astype(bool)])\n",
        "print(f\"Average rating for movie 1 : {tsmean : 0.3f} / 5\")"
      ],
      "metadata": {
        "colab": {
          "base_uri": "https://localhost:8080/"
        },
        "id": "5xmMs6m6XK93",
        "outputId": "8cb30d42-b866-4496-da4b-79a5c2729e22"
      },
      "execution_count": 12,
      "outputs": [
        {
          "output_type": "stream",
          "name": "stdout",
          "text": [
            "Average rating for movie 1 :  3.400 / 5\n"
          ]
        }
      ]
    },
    {
      "cell_type": "code",
      "source": [
        "def cofi_cost_func(X, W, b, Y, R, lambda_):\n",
        "    nm, nu = Y.shape\n",
        "    J = 0\n",
        "\n",
        "    for j in range(nu):\n",
        "        w = W[j,:]\n",
        "        b_j = b[0,j]\n",
        "        for i in range(nm):\n",
        "            x = X[i,:]\n",
        "            y = Y[i,j]\n",
        "            r = R[i,j]\n",
        "            J += r * np.square((np.dot(w,x) + b_j - y))\n",
        "\n",
        "    J += (lambda_)*(np.sum(np.square(W)) + np.sum(np.square(X)))\n",
        "    J = J/2\n",
        "\n",
        "    return J\n"
      ],
      "metadata": {
        "id": "0Zm2N09ZABmL"
      },
      "execution_count": 13,
      "outputs": []
    },
    {
      "cell_type": "code",
      "source": [
        "# Reduce the data set size so that this runs faster\n",
        "num_users_r = 4\n",
        "num_movies_r = 5\n",
        "num_features_r = 3\n",
        "\n",
        "X_r = X[:num_movies_r, :num_features_r]\n",
        "W_r = W[:num_users_r,  :num_features_r]\n",
        "b_r = b[0, :num_users_r].reshape(1,-1)\n",
        "Y_r = Y[:num_movies_r, :num_users_r]\n",
        "R_r = R[:num_movies_r, :num_users_r]\n",
        "\n",
        "J = cofi_cost_func(X_r, W_r, b_r, Y_r, R_r, 0)\n",
        "print(f\"Cost : {J:0.2f}\")"
      ],
      "metadata": {
        "colab": {
          "base_uri": "https://localhost:8080/"
        },
        "id": "QhL9rpUjEnZ5",
        "outputId": "9351099c-08e1-41f4-ac0d-e37a20e452ab"
      },
      "execution_count": 15,
      "outputs": [
        {
          "output_type": "stream",
          "name": "stdout",
          "text": [
            "Cost : 13.67\n"
          ]
        }
      ]
    },
    {
      "cell_type": "code",
      "source": [
        "# Evaluate the cost function with rgularization\n",
        "J = cofi_cost_func(X_r, W_r, b_r, Y_r, R_r, 1.5)\n",
        "print(f\"Cost (with regularization): {J:0.2f}\")"
      ],
      "metadata": {
        "colab": {
          "base_uri": "https://localhost:8080/"
        },
        "id": "M0_xDSoQF5IT",
        "outputId": "f2713a0e-fca5-4eef-e21a-6f62a12e069e"
      },
      "execution_count": 17,
      "outputs": [
        {
          "output_type": "stream",
          "name": "stdout",
          "text": [
            "Cost (with regularization): 28.09\n"
          ]
        }
      ]
    },
    {
      "cell_type": "code",
      "source": [
        "def cofi_cost_func_v(X,W,b,Y,R, lambda_):\n",
        "    j = (tf.linalg.matmul(X, tf.transpose(W)) + b - Y)*R\n",
        "    J = 0.5*tf.reduce_sum(j**2) + (lambda_/2)*(tf.reduce_sum(X**2) + tf.reduce_sum(W**2))\n",
        "    return J"
      ],
      "metadata": {
        "id": "mwMJkaXtGPHS"
      },
      "execution_count": 19,
      "outputs": []
    },
    {
      "cell_type": "code",
      "source": [
        "# Evaluate cost function\n",
        "J = cofi_cost_func_v(X_r, W_r, b_r, Y_r, R_r, 0);\n",
        "print(f\"Cost: {J:0.2f}\")\n",
        "\n",
        "# Evaluate cost function with regularization\n",
        "J = cofi_cost_func_v(X_r, W_r, b_r, Y_r, R_r, 1.5);\n",
        "print(f\"Cost (with regularization): {J:0.2f}\")"
      ],
      "metadata": {
        "colab": {
          "base_uri": "https://localhost:8080/"
        },
        "id": "cGL3I8LwIYfS",
        "outputId": "3700f203-e44e-42bd-cb8f-2d3d35016274"
      },
      "execution_count": 20,
      "outputs": [
        {
          "output_type": "stream",
          "name": "stdout",
          "text": [
            "Cost: 13.67\n",
            "Cost (with regularization): 28.09\n"
          ]
        }
      ]
    },
    {
      "cell_type": "code",
      "source": [
        "movieList, movieList_df = load_Movie_List_pd()\n",
        "my_ratings = np.zeros(num_movies)\n",
        "\n",
        "# Ratings for the selected movie\n",
        "my_ratings[2700] = 5\n",
        "my_ratings[2609] = 2\n",
        "my_ratings[929]  = 5   # Lord of the Rings: The Return of the King, The\n",
        "my_ratings[246]  = 5   # Shrek (2001)\n",
        "my_ratings[2716] = 3   # Inception\n",
        "my_ratings[1150] = 5   # Incredibles, The (2004)\n",
        "my_ratings[382]  = 2   # Amelie (Fabuleux destin d'Amélie Poulain, Le)\n",
        "my_ratings[366]  = 5   # Harry Potter and the Sorcerer's Stone (a.k.a. Harry Potter and the Philosopher's Stone) (2001)\n",
        "my_ratings[622]  = 5   # Harry Potter and the Chamber of Secrets (2002)\n",
        "my_ratings[988]  = 3   # Eternal Sunshine of the Spotless Mind (2004)\n",
        "my_ratings[2925] = 1   # Louis Theroux: Law & Disorder (2008)\n",
        "my_ratings[2937] = 1   # Nothing to Declare (Rien à déclarer)\n",
        "my_ratings[793]  = 5   # Pirates of the Caribbean: The Curse of the Black Pearl (2003)\n",
        "\n",
        "my_rated = [i for i in range(len(my_ratings)) if my_ratings[i]>0]\n",
        "\n",
        "print('\\n New user ratings:\\n')\n",
        "for i in range(len(my_ratings)):\n",
        "    if my_ratings[i] > 0:\n",
        "        print(f'Rated {my_ratings[i]} for {movieList_df.loc[i, \"title\"]}')"
      ],
      "metadata": {
        "colab": {
          "base_uri": "https://localhost:8080/"
        },
        "id": "FzEi5NPxIfyl",
        "outputId": "1371501f-c913-43ee-ca94-2a49b814da90"
      },
      "execution_count": 26,
      "outputs": [
        {
          "output_type": "stream",
          "name": "stdout",
          "text": [
            "\n",
            " New user ratings:\n",
            "\n",
            "Rated 5.0 for Shrek (2001)\n",
            "Rated 5.0 for Harry Potter and the Sorcerer's Stone (a.k.a. Harry Potter and the Philosopher's Stone) (2001)\n",
            "Rated 2.0 for Amelie (Fabuleux destin d'Amélie Poulain, Le) (2001)\n",
            "Rated 5.0 for Harry Potter and the Chamber of Secrets (2002)\n",
            "Rated 5.0 for Pirates of the Caribbean: The Curse of the Black Pearl (2003)\n",
            "Rated 5.0 for Lord of the Rings: The Return of the King, The (2003)\n",
            "Rated 3.0 for Eternal Sunshine of the Spotless Mind (2004)\n",
            "Rated 5.0 for Incredibles, The (2004)\n",
            "Rated 2.0 for Persuasion (2007)\n",
            "Rated 5.0 for Toy Story 3 (2010)\n",
            "Rated 3.0 for Inception (2010)\n",
            "Rated 1.0 for Louis Theroux: Law & Disorder (2008)\n",
            "Rated 1.0 for Nothing to Declare (Rien à déclarer) (2010)\n"
          ]
        }
      ]
    },
    {
      "cell_type": "code",
      "source": [
        "Y, R = load_ratings_small()\n",
        "Y = np.c_[my_ratings,Y]\n",
        "R = np.c_[(my_ratings !=0).astype(int), R]\n",
        "\n",
        "Ynorm, Ymean = normalizeRatings(Y,R)"
      ],
      "metadata": {
        "id": "7j6lQVaMJ_I0"
      },
      "execution_count": 27,
      "outputs": []
    },
    {
      "cell_type": "code",
      "source": [
        "num_movies, num_users = Y.shape\n",
        "num_features = 100\n",
        "\n",
        "tf.random.set_seed(1234)\n",
        "W = tf.Variable(tf.random.normal((num_users, num_features), dtype= tf.float64), name = 'W')\n",
        "X = tf.Variable(tf.random.normal((num_movies, num_features), dtype = tf.float64), name = 'X')\n",
        "b = tf.Variable(tf.random.normal((1, num_users), dtype = tf.float64), name = 'b')\n",
        "\n",
        "optimizer = keras.optimizers.Adam(learning_rate = 1e-1)"
      ],
      "metadata": {
        "id": "Whl1A9GAOt1E"
      },
      "execution_count": 28,
      "outputs": []
    },
    {
      "cell_type": "code",
      "source": [
        "iterations = 100000\n",
        "lambda_ = 1\n",
        "for iter in range(iterations):\n",
        "    with tf.GradientTape() as tape:\n",
        "        cost_value = cofi_cost_func_v(X,W, b, Ynorm, R, lambda_)\n",
        "    grads = tape.gradient(cost_value, [X,W,b])\n",
        "    optimizer.apply_gradients(zip(grads,[X,W,b]))\n",
        "\n",
        "    if iter % 20 == 0:\n",
        "        print(f\"Training loss at iteration {iter}: {cost_value:0.1f}\")"
      ],
      "metadata": {
        "colab": {
          "base_uri": "https://localhost:8080/"
        },
        "id": "qyB60tiHP8r5",
        "outputId": "0a2d4718-42d4-4e28-fd8a-7c635ec344a6"
      },
      "execution_count": null,
      "outputs": [
        {
          "output_type": "stream",
          "name": "stdout",
          "text": [
            "Training loss at iteration 0: 2566.6\n",
            "Training loss at iteration 20: 2348.7\n",
            "Training loss at iteration 40: 2202.9\n",
            "Training loss at iteration 60: 2102.4\n",
            "Training loss at iteration 80: 2031.2\n",
            "Training loss at iteration 100: 1979.4\n"
          ]
        }
      ]
    },
    {
      "cell_type": "code",
      "source": [],
      "metadata": {
        "id": "-VJrfZZMS4u-"
      },
      "execution_count": null,
      "outputs": []
    }
  ]
}
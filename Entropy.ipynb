{
  "nbformat": 4,
  "nbformat_minor": 0,
  "metadata": {
    "colab": {
      "provenance": [],
      "mount_file_id": "1oO9eKvUHtu4mP9ZW9CADmJjCVv6pLLLL",
      "authorship_tag": "ABX9TyPxlPDky5djD9qgaqXPXZ2C",
      "include_colab_link": true
    },
    "kernelspec": {
      "name": "python3",
      "display_name": "Python 3"
    },
    "language_info": {
      "name": "python"
    }
  },
  "cells": [
    {
      "cell_type": "markdown",
      "metadata": {
        "id": "view-in-github",
        "colab_type": "text"
      },
      "source": [
        "<a href=\"https://colab.research.google.com/github/harsh194/machine_learning/blob/main/Entropy.ipynb\" target=\"_parent\"><img src=\"https://colab.research.google.com/assets/colab-badge.svg\" alt=\"Open In Colab\"/></a>"
      ]
    },
    {
      "cell_type": "code",
      "execution_count": 1,
      "metadata": {
        "id": "CQ0ghBhWBa6X"
      },
      "outputs": [],
      "source": [
        "import os\n",
        "new_directory = '/content/drive/MyDrive/Harsh/Machine Learning/Decision Trees'\n",
        "os.chdir(new_directory)"
      ]
    },
    {
      "cell_type": "code",
      "source": [
        "import numpy as np"
      ],
      "metadata": {
        "id": "VFoDHaxqBpR_"
      },
      "execution_count": 2,
      "outputs": []
    },
    {
      "cell_type": "code",
      "source": [
        "Y = np.array([1,0,0,1,0,1,0,1])"
      ],
      "metadata": {
        "id": "fItdLcB4B0KN"
      },
      "execution_count": 3,
      "outputs": []
    },
    {
      "cell_type": "code",
      "source": [
        "def entropy(var):\n",
        "    N = var.shape[0]\n",
        "    values, counts = np.unique(var, return_counts=True)\n",
        "\n",
        "    ent = 0.0\n",
        "    for i in counts:\n",
        "        p = i/N\n",
        "        ent += (p*np.log2(p))\n",
        "\n",
        "    return -ent"
      ],
      "metadata": {
        "id": "5h-i_m0WB5IE"
      },
      "execution_count": 14,
      "outputs": []
    },
    {
      "cell_type": "code",
      "source": [
        "entropy(Y)"
      ],
      "metadata": {
        "colab": {
          "base_uri": "https://localhost:8080/"
        },
        "id": "WjTcLc2gDaxf",
        "outputId": "94104546-4f81-416d-eb19-ca9910bba02e"
      },
      "execution_count": 16,
      "outputs": [
        {
          "output_type": "execute_result",
          "data": {
            "text/plain": [
              "1.0"
            ]
          },
          "metadata": {},
          "execution_count": 16
        }
      ]
    },
    {
      "cell_type": "code",
      "source": [
        "X = np.array([1,1,1,1,1,1,1])"
      ],
      "metadata": {
        "id": "l6KWRxBQDt6h"
      },
      "execution_count": 18,
      "outputs": []
    },
    {
      "cell_type": "code",
      "source": [
        "entropy(X)"
      ],
      "metadata": {
        "colab": {
          "base_uri": "https://localhost:8080/"
        },
        "id": "tWvVEh5uDyxn",
        "outputId": "8357f096-5686-44ad-9f09-961ce7b6ecb1"
      },
      "execution_count": 19,
      "outputs": [
        {
          "output_type": "execute_result",
          "data": {
            "text/plain": [
              "-0.0"
            ]
          },
          "metadata": {},
          "execution_count": 19
        }
      ]
    },
    {
      "cell_type": "code",
      "source": [
        "values, counts = np.unique(Y, return_counts=True)"
      ],
      "metadata": {
        "id": "LwDkzleMDOeP"
      },
      "execution_count": 9,
      "outputs": []
    },
    {
      "cell_type": "code",
      "source": [
        "values"
      ],
      "metadata": {
        "colab": {
          "base_uri": "https://localhost:8080/"
        },
        "id": "zWI31gL-DP39",
        "outputId": "a1aa10c2-1688-4f81-c270-07d90aecf243"
      },
      "execution_count": 10,
      "outputs": [
        {
          "output_type": "execute_result",
          "data": {
            "text/plain": [
              "array([0, 1])"
            ]
          },
          "metadata": {},
          "execution_count": 10
        }
      ]
    },
    {
      "cell_type": "code",
      "source": [
        "counts"
      ],
      "metadata": {
        "colab": {
          "base_uri": "https://localhost:8080/"
        },
        "id": "pYZs5IjbDQie",
        "outputId": "336876b3-669e-4c3b-82ac-709e978832ed"
      },
      "execution_count": 11,
      "outputs": [
        {
          "output_type": "execute_result",
          "data": {
            "text/plain": [
              "array([4, 4])"
            ]
          },
          "metadata": {},
          "execution_count": 11
        }
      ]
    },
    {
      "cell_type": "code",
      "source": [],
      "metadata": {
        "id": "5BpBiklLDR22"
      },
      "execution_count": null,
      "outputs": []
    }
  ]
}
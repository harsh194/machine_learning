{
  "nbformat": 4,
  "nbformat_minor": 0,
  "metadata": {
    "colab": {
      "provenance": [],
      "mount_file_id": "18bB_ORCVJdB-r6NBqZveJRRwdIrpUEdl",
      "authorship_tag": "ABX9TyPpzUVzfbTju7uDf0fTH5Nw",
      "include_colab_link": true
    },
    "kernelspec": {
      "name": "python3",
      "display_name": "Python 3"
    },
    "language_info": {
      "name": "python"
    }
  },
  "cells": [
    {
      "cell_type": "markdown",
      "metadata": {
        "id": "view-in-github",
        "colab_type": "text"
      },
      "source": [
        "<a href=\"https://colab.research.google.com/github/harsh194/machine_learning/blob/main/Logistic_Regression.ipynb\" target=\"_parent\"><img src=\"https://colab.research.google.com/assets/colab-badge.svg\" alt=\"Open In Colab\"/></a>"
      ]
    },
    {
      "cell_type": "markdown",
      "source": [
        "https://github.com/greyhatguy007/Machine-Learning-Specialization-Coursera/blob/main/C1%20-%20Supervised%20Machine%20Learning%20-%20Regression%20and%20Classification/week3/C1W3A1/C1_W3_Logistic_Regression.ipynb"
      ],
      "metadata": {
        "id": "bqmWkm0_VqmM"
      }
    },
    {
      "cell_type": "code",
      "execution_count": 3,
      "metadata": {
        "id": "DxaqL9MgLsMh"
      },
      "outputs": [],
      "source": [
        "import os\n",
        "new_directory = '/content/drive/MyDrive/Harsh/Supervised Machine Learning/Week 3'\n",
        "os.chdir(new_directory)\n",
        "import numpy as np\n",
        "import matplotlib.pyplot as plt\n",
        "from utils import *\n",
        "import copy\n",
        "import math\n",
        "\n",
        "%matplotlib inline"
      ]
    },
    {
      "cell_type": "code",
      "source": [
        "X_train, y_train = load_data(\"data/ex2data1.txt\")"
      ],
      "metadata": {
        "id": "tAGr_UNeMcr6"
      },
      "execution_count": 4,
      "outputs": []
    },
    {
      "cell_type": "code",
      "source": [
        "X_train[:5]"
      ],
      "metadata": {
        "colab": {
          "base_uri": "https://localhost:8080/"
        },
        "id": "vy1EqQCJM7qj",
        "outputId": "eab33ec1-af38-4473-b22d-59165bb7413e"
      },
      "execution_count": 5,
      "outputs": [
        {
          "output_type": "execute_result",
          "data": {
            "text/plain": [
              "array([[34.62365962, 78.02469282],\n",
              "       [30.28671077, 43.89499752],\n",
              "       [35.84740877, 72.90219803],\n",
              "       [60.18259939, 86.3085521 ],\n",
              "       [79.03273605, 75.34437644]])"
            ]
          },
          "metadata": {},
          "execution_count": 5
        }
      ]
    },
    {
      "cell_type": "code",
      "source": [
        "y_train[:5]"
      ],
      "metadata": {
        "colab": {
          "base_uri": "https://localhost:8080/"
        },
        "id": "WPY5g9YsNV1E",
        "outputId": "9238eccb-39b1-41ae-cb2e-76267234c13f"
      },
      "execution_count": 6,
      "outputs": [
        {
          "output_type": "execute_result",
          "data": {
            "text/plain": [
              "array([0., 0., 0., 1., 1.])"
            ]
          },
          "metadata": {},
          "execution_count": 6
        }
      ]
    },
    {
      "cell_type": "code",
      "source": [
        "X_train.shape"
      ],
      "metadata": {
        "colab": {
          "base_uri": "https://localhost:8080/"
        },
        "id": "rsjX2-cFOFyf",
        "outputId": "cbc81794-278d-4d64-c6d2-b67667c5eb94"
      },
      "execution_count": 7,
      "outputs": [
        {
          "output_type": "execute_result",
          "data": {
            "text/plain": [
              "(100, 2)"
            ]
          },
          "metadata": {},
          "execution_count": 7
        }
      ]
    },
    {
      "cell_type": "code",
      "source": [
        "y_train.shape"
      ],
      "metadata": {
        "colab": {
          "base_uri": "https://localhost:8080/"
        },
        "id": "3i4ubtUZOWEK",
        "outputId": "d5ae8dbb-cb24-4bf2-d92b-3fd520c77be4"
      },
      "execution_count": 8,
      "outputs": [
        {
          "output_type": "execute_result",
          "data": {
            "text/plain": [
              "(100,)"
            ]
          },
          "metadata": {},
          "execution_count": 8
        }
      ]
    },
    {
      "cell_type": "code",
      "source": [
        "plot_data(X_train,y_train[:], pos_label = \"Admitted\", neg_label = \"Not admitted\")\n",
        "plt.ylabel('Exam 2 score')\n",
        "plt.xlabel('Exam 1 score')\n",
        "plt.legend(loc = \"upper right\")\n",
        "plt.show()"
      ],
      "metadata": {
        "colab": {
          "base_uri": "https://localhost:8080/",
          "height": 449
        },
        "id": "ThVZ5dpsOaDw",
        "outputId": "cc6fc189-d66d-4feb-bc0e-afb14f1c7130"
      },
      "execution_count": 13,
      "outputs": [
        {
          "output_type": "display_data",
          "data": {
            "text/plain": [
              "<Figure size 640x480 with 1 Axes>"
            ],
            "image/png": "[encoded data removed]"
          },
          "metadata": {}
        }
      ]
    },
    {
      "cell_type": "code",
      "source": [
        "def sigmoid(z):\n",
        "    g = 1/(1+np.exp(-z))\n",
        "    return g"
      ],
      "metadata": {
        "id": "UfWGxdT2Oxgz"
      },
      "execution_count": 14,
      "outputs": []
    },
    {
      "cell_type": "code",
      "source": [
        "sigmoid(np.array([-1,0,1,2]))"
      ],
      "metadata": {
        "colab": {
          "base_uri": "https://localhost:8080/"
        },
        "id": "rKykOTvPPp0d",
        "outputId": "648f2c98-fa81-4331-af5f-2b185e3bf718"
      },
      "execution_count": 15,
      "outputs": [
        {
          "output_type": "execute_result",
          "data": {
            "text/plain": [
              "array([0.26894142, 0.5       , 0.73105858, 0.88079708])"
            ]
          },
          "metadata": {},
          "execution_count": 15
        }
      ]
    },
    {
      "cell_type": "code",
      "source": [
        "def compute_cost(X,y,w,b, lambda_ = 1):\n",
        "    m, n = X.shape\n",
        "    cost = 0\n",
        "    for i in range(m):\n",
        "        z = np.dot(X[i],w) +b\n",
        "        f_wb = sigmoid(z)\n",
        "        cost += -y[i]*np.log(f_wb)-(1-y[i])*np.log(1-f_wb)\n",
        "    total_cost = cost/m\n",
        "\n",
        "    return total_cost\n"
      ],
      "metadata": {
        "id": "j-vxop-6QDG3"
      },
      "execution_count": 23,
      "outputs": []
    },
    {
      "cell_type": "code",
      "source": [
        "m,n = X_train.shape\n",
        "initial_w = np.zeros(n)\n",
        "initial_b = 0\n",
        "cost = compute_cost(X_train, y_train, initial_w, initial_b)\n",
        "cost"
      ],
      "metadata": {
        "colab": {
          "base_uri": "https://localhost:8080/"
        },
        "id": "ksV7I9X3XXQF",
        "outputId": "c74e3d2d-e614-4f4c-d3f3-9cc0f86531d1"
      },
      "execution_count": 25,
      "outputs": [
        {
          "output_type": "execute_result",
          "data": {
            "text/plain": [
              "0.6931471805599458"
            ]
          },
          "metadata": {},
          "execution_count": 25
        }
      ]
    },
    {
      "cell_type": "code",
      "source": [
        "def compute_gradient(X,y,w,b, lambda_= None):\n",
        "    m,n = X.shape\n",
        "    dj_dw = np.zeros(w.shape)\n",
        "    dj_db = 0.\n",
        "\n",
        "    for i in range(m):\n",
        "        f_wb_i = sigmoid(np.dot(X[i],w) + b)\n",
        "        err_i = f_wb_i - y[i]\n",
        "        for j in range(n):\n",
        "            dj_dw[j] = dj_dw[j] + err_i * X[i,j]\n",
        "        dj_db = dj_db + err_i\n",
        "\n",
        "    dj_dw = dj_dw/m\n",
        "    dj_db = dj_db/m\n",
        "\n",
        "    return dj_db, dj_dw\n"
      ],
      "metadata": {
        "id": "8pLs0lH8Xnb4"
      },
      "execution_count": 27,
      "outputs": []
    },
    {
      "cell_type": "code",
      "source": [
        "dj_db, dj_dw = compute_gradient(X_train, y_train, initial_w, initial_b)"
      ],
      "metadata": {
        "id": "-ridl1BqsHwn"
      },
      "execution_count": 28,
      "outputs": []
    },
    {
      "cell_type": "code",
      "source": [
        "dj_db"
      ],
      "metadata": {
        "colab": {
          "base_uri": "https://localhost:8080/"
        },
        "id": "ICSRndY4vMvq",
        "outputId": "cf486c35-d77f-4da2-8d7a-f27525c04182"
      },
      "execution_count": 29,
      "outputs": [
        {
          "output_type": "execute_result",
          "data": {
            "text/plain": [
              "-0.1"
            ]
          },
          "metadata": {},
          "execution_count": 29
        }
      ]
    },
    {
      "cell_type": "code",
      "source": [
        "dj_dw"
      ],
      "metadata": {
        "colab": {
          "base_uri": "https://localhost:8080/"
        },
        "id": "xl_GGeVZvOlM",
        "outputId": "25e83959-2433-4191-f5fe-458176d56a20"
      },
      "execution_count": 30,
      "outputs": [
        {
          "output_type": "execute_result",
          "data": {
            "text/plain": [
              "array([-12.00921659, -11.26284221])"
            ]
          },
          "metadata": {},
          "execution_count": 30
        }
      ]
    },
    {
      "cell_type": "code",
      "source": [
        "def gradient_descent(X,y, w_in, b_in, cost_function, gradient_function, alpha, num_iters, lambda_):\n",
        "    m = len(X)\n",
        "    J_history =[]\n",
        "    w_history =[]\n",
        "\n",
        "    for i in range(num_iters):\n",
        "        dj_db, dj_dw = gradient_function(X, y, w_in, b_in, lambda_)\n",
        "        w_in = w_in - alpha * dj_dw\n",
        "        b_in = b_in - alpha * dj_db\n",
        "\n",
        "        if i < 1000000:\n",
        "            cost = cost_function(X,y,w_in,b_in, lambda_)\n",
        "            J_history.append(cost)\n",
        "            w_history.append(w_in)\n",
        "        print(f\"Iteration {i:4}: Cost {float(J_history[-1]):8.2f}   \")\n",
        "\n",
        "    return w_in, b_in, J_history, w_history"
      ],
      "metadata": {
        "id": "hkCX_keBvUHk"
      },
      "execution_count": 34,
      "outputs": []
    },
    {
      "cell_type": "code",
      "source": [
        "from numpy.lib.function_base import gradient\n",
        "np.random.seed(1)\n",
        "initial_w = 0.01*(np.random.rand(2).reshape(-1,1) - 0.5)\n",
        "initial_b = -10\n",
        "\n",
        "iteration = 10000\n",
        "alpha = 0.001\n",
        "\n",
        "w,b,J_history, w_history = gradient_descent(X_train, y_train, initial_w, initial_b, compute_cost, compute_gradient, alpha, iteration, 0)"
      ],
      "metadata": {
        "id": "eGEQtjOQwuEQ"
      },
      "execution_count": null,
      "outputs": []
    },
    {
      "cell_type": "code",
      "source": [
        "plot_decision_boundary(w,b, X_train, y_train)"
      ],
      "metadata": {
        "colab": {
          "base_uri": "https://localhost:8080/",
          "height": 430
        },
        "id": "aktSsFM3zcH4",
        "outputId": "02fc0525-8642-46e1-da27-b6ccae6ebcda"
      },
      "execution_count": 40,
      "outputs": [
        {
          "output_type": "display_data",
          "data": {
            "text/plain": [
              "<Figure size 640x480 with 1 Axes>"
            ],
            "image/png": "[encoded data removed]"
          },
          "metadata": {}
        }
      ]
    },
    {
      "cell_type": "code",
      "source": [
        "def predict(X,w,b):\n",
        "    m,n = X.shape\n",
        "    p = np.zeros(m)\n",
        "\n",
        "    for i in range(m):\n",
        "        z_wb = np.dot(X[i],w)\n",
        "\n",
        "        z_wb +=b\n",
        "        f_wb = sigmoid(z_wb)\n",
        "\n",
        "        p[i] = 1 if f_wb >0.5 else 0\n",
        "\n",
        "    return p"
      ],
      "metadata": {
        "id": "PHbkGR8c4PBb"
      },
      "execution_count": 41,
      "outputs": []
    },
    {
      "cell_type": "code",
      "source": [
        "p = predict(X_train,w,b)"
      ],
      "metadata": {
        "id": "P-xZz1xh53qk"
      },
      "execution_count": 42,
      "outputs": []
    },
    {
      "cell_type": "code",
      "source": [
        "np.mean(p==y_train)*100"
      ],
      "metadata": {
        "colab": {
          "base_uri": "https://localhost:8080/"
        },
        "id": "DommYYdj68ki",
        "outputId": "39009249-73e4-4b46-ea1a-5366e6f0b430"
      },
      "execution_count": 44,
      "outputs": [
        {
          "output_type": "execute_result",
          "data": {
            "text/plain": [
              "91.0"
            ]
          },
          "metadata": {},
          "execution_count": 44
        }
      ]
    },
    {
      "cell_type": "markdown",
      "source": [
        "Regularized Logistic Regression"
      ],
      "metadata": {
        "id": "wylAjt1w8H9N"
      }
    },
    {
      "cell_type": "code",
      "source": [
        "X_train, y_train = load_data(\"data/ex2data2.txt\")"
      ],
      "metadata": {
        "id": "OEQY_3rY69-o"
      },
      "execution_count": 45,
      "outputs": []
    },
    {
      "cell_type": "code",
      "source": [
        "# print X_train\n",
        "print(\"X_train:\", X_train[:5])\n",
        "print(\"Type of X_train:\",type(X_train))\n",
        "\n",
        "# print y_train\n",
        "print(\"y_train:\", y_train[:5])\n",
        "print(\"Type of y_train:\",type(y_train))"
      ],
      "metadata": {
        "colab": {
          "base_uri": "https://localhost:8080/"
        },
        "id": "u7PGr9dt8bwb",
        "outputId": "6e73477b-2e8f-4907-f153-0b8774b823ea"
      },
      "execution_count": 46,
      "outputs": [
        {
          "output_type": "stream",
          "name": "stdout",
          "text": [
            "X_train: [[ 0.051267  0.69956 ]\n",
            " [-0.092742  0.68494 ]\n",
            " [-0.21371   0.69225 ]\n",
            " [-0.375     0.50219 ]\n",
            " [-0.51325   0.46564 ]]\n",
            "Type of X_train: <class 'numpy.ndarray'>\n",
            "y_train: [1. 1. 1. 1. 1.]\n",
            "Type of y_train: <class 'numpy.ndarray'>\n"
          ]
        }
      ]
    },
    {
      "cell_type": "code",
      "source": [
        "plot_data(X_train, y_train[:], pos_label = \"Accepted\", neg_label = \"Rejected\")\n",
        "plt.ylabel('Microchip Test 2')\n",
        "plt.xlabel('Microchip Test 1')\n",
        "plt.legend(loc = \"upper right\")\n",
        "plt.show()"
      ],
      "metadata": {
        "colab": {
          "base_uri": "https://localhost:8080/",
          "height": 449
        },
        "id": "cExyZSDE8fuT",
        "outputId": "139ba635-3190-474b-97b8-2622049d98d2"
      },
      "execution_count": 48,
      "outputs": [
        {
          "output_type": "display_data",
          "data": {
            "text/plain": [
              "<Figure size 640x480 with 1 Axes>"
            ],
            "image/png": "[encoded data removed]"
          },
          "metadata": {}
        }
      ]
    },
    {
      "cell_type": "code",
      "source": [],
      "metadata": {
        "id": "xYru7ZCi9b-y"
      },
      "execution_count": null,
      "outputs": []
    }
  ]
}